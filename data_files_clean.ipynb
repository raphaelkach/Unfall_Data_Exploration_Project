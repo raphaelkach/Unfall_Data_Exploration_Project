{
 "cells": [
  {
   "cell_type": "markdown",
   "metadata": {},
   "source": [
    "# Files"
   ]
  }
 ],
 "metadata": {
  "kernelspec": {
   "display_name": "raphael-kach-abgabe-ml-aoNiLWIF-py3.12",
   "language": "python",
   "name": "python3"
  },
  "language_info": {
   "name": "python",
   "version": "3.12.5"
  }
 },
 "nbformat": 4,
 "nbformat_minor": 2
}
