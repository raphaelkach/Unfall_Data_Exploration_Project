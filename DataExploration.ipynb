{
  "nbformat": 4,
  "nbformat_minor": 0,
  "metadata": {
    "colab": {
      "provenance": [],
      "authorship_tag": "ABX9TyPN/s2ovl4qnmdprjhNRGY1",
      "include_colab_link": true
    },
    "kernelspec": {
      "name": "python3",
      "display_name": "Python 3"
    },
    "language_info": {
      "name": "python"
    }
  },
  "cells": [
    {
      "cell_type": "markdown",
      "metadata": {
        "id": "view-in-github",
        "colab_type": "text"
      },
      "source": [
        "<a href=\"https://colab.research.google.com/github/raphaelkach/Unfall_Data_Exploration_Project/blob/main/DataExploration.ipynb\" target=\"_parent\"><img src=\"https://colab.research.google.com/assets/colab-badge.svg\" alt=\"Open In Colab\"/></a>"
      ]
    },
    {
      "cell_type": "code",
      "execution_count": 1,
      "metadata": {
        "id": "iEGwDyS3GDjP",
        "outputId": "edf2b67e-5afc-4dca-bf1b-9344d830932d",
        "colab": {
          "base_uri": "https://localhost:8080/"
        }
      },
      "outputs": [
        {
          "output_type": "stream",
          "name": "stdout",
          "text": [
            "Cloning into 'Unfall_Data_Exploration_Project'...\n",
            "remote: Enumerating objects: 317, done.\u001b[K\n",
            "remote: Counting objects: 100% (317/317), done.\u001b[K\n",
            "remote: Compressing objects: 100% (314/314), done.\u001b[K\n",
            "remote: Total 317 (delta 2), reused 313 (delta 1), pack-reused 0 (from 0)\u001b[K\n",
            "Receiving objects: 100% (317/317), 45.31 KiB | 1.01 MiB/s, done.\n",
            "Resolving deltas: 100% (2/2), done.\n",
            "Filtering content: 100% (148/148), 1.86 GiB | 54.40 MiB/s, done.\n"
          ]
        }
      ],
      "source": [
        "!git clone https://github.com/raphaelkach/Unfall_Data_Exploration_Project.git"
      ]
    }
  ]
}