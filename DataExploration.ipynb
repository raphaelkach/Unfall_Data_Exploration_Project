{
  "nbformat": 4,
  "nbformat_minor": 0,
  "metadata": {
    "colab": {
      "provenance": [],
      "authorship_tag": "ABX9TyPikDa1h/z48khXr3rtxo+/",
      "include_colab_link": true
    },
    "kernelspec": {
      "name": "python3",
      "display_name": "Python 3"
    },
    "language_info": {
      "name": "python"
    }
  },
  "cells": [
    {
      "cell_type": "markdown",
      "metadata": {
        "id": "view-in-github",
        "colab_type": "text"
      },
      "source": [
        "<a href=\"https://colab.research.google.com/github/raphaelkach/Unfall_Data_Exploration_Project/blob/main/DataExploration.ipynb\" target=\"_parent\"><img src=\"https://colab.research.google.com/assets/colab-badge.svg\" alt=\"Open In Colab\"/></a>"
      ]
    },
    {
      "cell_type": "markdown",
      "source": [
        "## Git clone Unfall_Data_Exploration_Project"
      ],
      "metadata": {
        "id": "exljzPL84fq5"
      }
    },
    {
      "cell_type": "code",
      "source": [
        "!apt-get install git-lfs\n",
        "!git lfs install\n",
        "\n",
        "!git clone https://github.com/raphaelkach/Unfall_Data_Exploration_Project.git\n",
        "\n",
        "%cd Unfall_Data_Exploration_Project\n",
        "!git lfs pull"
      ],
      "metadata": {
        "colab": {
          "base_uri": "https://localhost:8080/"
        },
        "id": "NopQiUox4YQt",
        "outputId": "680e3375-067a-441b-bba0-4ea04cd5fc73"
      },
      "execution_count": 1,
      "outputs": [
        {
          "output_type": "stream",
          "name": "stdout",
          "text": [
            "Reading package lists... Done\n",
            "Building dependency tree... Done\n",
            "Reading state information... Done\n",
            "git-lfs is already the newest version (3.0.2-1ubuntu0.3).\n",
            "0 upgraded, 0 newly installed, 0 to remove and 29 not upgraded.\n",
            "Git LFS initialized.\n",
            "fatal: destination path 'Unfall_Data_Exploration_Project' already exists and is not an empty directory.\n",
            "/content/Unfall_Data_Exploration_Project\n"
          ]
        }
      ]
    },
    {
      "cell_type": "code",
      "source": [
        "%cd data/raw/FARS_2021_National"
      ],
      "metadata": {
        "colab": {
          "base_uri": "https://localhost:8080/"
        },
        "id": "Wd90o69CXVU9",
        "outputId": "14d550b4-8713-4d62-e638-9b7aee71b62d"
      },
      "execution_count": 2,
      "outputs": [
        {
          "output_type": "stream",
          "name": "stdout",
          "text": [
            "/content/Unfall_Data_Exploration_Project/data/raw/FARS_2021_National\n"
          ]
        }
      ]
    },
    {
      "cell_type": "code",
      "source": [
        "# Imports\n",
        "import pandas as pd"
      ],
      "metadata": {
        "id": "YK77YqZR56J4"
      },
      "execution_count": 3,
      "outputs": []
    },
    {
      "cell_type": "markdown",
      "source": [
        "# accident.csv\n",
        "- SCH_BUS, SCH_BUSNAME entfernen zu spezifisch und machen nur 0.24 % aus\n",
        "- STATE wurde entfernt, da es redundant zu STATENAME ist.\n",
        "- COUNTY wurde entfernt, da es redundant zu COUNTYNAME ist.\n",
        "- CITY wurde entfernt, da es redundant zu CITYNAME ist.\n",
        "- MONTHNAME wurde entfernt, da es redundant zu MONTH ist.\n",
        "- DAYNAME wurde entfernt, da es redundant zu DAY ist.\n",
        "- RD_OWNERNAME wurde entfernt, da es redundant zu RD_OWNER ist.\n",
        "- WRK_ZONE, WRK_ZONENAME entfernt, da 97 % der Werte NaN sind\n",
        "- RAIL, RAILNAME entfernen da 99% not Applicable (Kann vielleicht genutzt werden ob eine Bahnübergang ein deutlichen Unfall nachsich zieht) Bisher nur RAIL entfernt\n",
        "- 97% PVH entfernt, da 97 % 0 sind"
      ],
      "metadata": {
        "id": "RUU-yylS7WIX"
      }
    },
    {
      "cell_type": "code",
      "source": [
        "df = pd.read_csv(\"accident.csv\", encoding='ISO-8859-1')\n",
        "# Tabellenbeginn ausgeben\n",
        "df.head()"
      ],
      "metadata": {
        "colab": {
          "base_uri": "https://localhost:8080/",
          "height": 0
        },
        "id": "kyPGywD77X5l",
        "outputId": "5582be71-42eb-4ca0-a4b4-398f8c3ae535"
      },
      "execution_count": 4,
      "outputs": [
        {
          "output_type": "execute_result",
          "data": {
            "text/plain": [
              "   STATE STATENAME  ST_CASE  PEDS  PERNOTMVIT  VE_TOTAL  VE_FORMS  PVH_INVL  \\\n",
              "0      1   Alabama    10001     0           0         2         2         0   \n",
              "1      1   Alabama    10002     0           0         1         1         0   \n",
              "2      1   Alabama    10003     1           1         1         1         0   \n",
              "3      1   Alabama    10004     0           0         1         1         0   \n",
              "4      1   Alabama    10005     0           0         2         2         0   \n",
              "\n",
              "   PERSONS  PERMVIT  ...  NOT_MINNAME ARR_HOUR     ARR_HOURNAME ARR_MIN  \\\n",
              "0        3        3  ...           13       22  10:00pm-10:59pm      25   \n",
              "1        2        2  ...      Unknown       19    7:00pm-7:59pm       9   \n",
              "2        1        1  ...           29        9    9:00am-9:59am      40   \n",
              "3        1        1  ...           20       16    4:00pm-4:59pm      28   \n",
              "4        4        4  ...           20       22  10:00pm-10:59pm      30   \n",
              "\n",
              "   ARR_MINNAME HOSP_HR                       HOSP_HRNAME  HOSP_MN  \\\n",
              "0           25      23                   11:00pm-11:59pm        2   \n",
              "1            9      88  Not Applicable (Not Transported)       88   \n",
              "2           40      88  Not Applicable (Not Transported)       88   \n",
              "3           28      99                           Unknown       99   \n",
              "4           30      88  Not Applicable (Not Transported)       88   \n",
              "\n",
              "                         HOSP_MNNAME FATALS  \n",
              "0                                  2      2  \n",
              "1   Not Applicable (Not Transported)      2  \n",
              "2   Not Applicable (Not Transported)      1  \n",
              "3  Unknown EMS Hospital Arrival Time      1  \n",
              "4   Not Applicable (Not Transported)      1  \n",
              "\n",
              "[5 rows x 80 columns]"
            ],
            "text/html": [
              "\n",
              "  <div id=\"df-5b6370f7-67b1-4080-a992-2e865eb6ee5e\" class=\"colab-df-container\">\n",
              "    <div>\n",
              "<style scoped>\n",
              "    .dataframe tbody tr th:only-of-type {\n",
              "        vertical-align: middle;\n",
              "    }\n",
              "\n",
              "    .dataframe tbody tr th {\n",
              "        vertical-align: top;\n",
              "    }\n",
              "\n",
              "    .dataframe thead th {\n",
              "        text-align: right;\n",
              "    }\n",
              "</style>\n",
              "<table border=\"1\" class=\"dataframe\">\n",
              "  <thead>\n",
              "    <tr style=\"text-align: right;\">\n",
              "      <th></th>\n",
              "      <th>STATE</th>\n",
              "      <th>STATENAME</th>\n",
              "      <th>ST_CASE</th>\n",
              "      <th>PEDS</th>\n",
              "      <th>PERNOTMVIT</th>\n",
              "      <th>VE_TOTAL</th>\n",
              "      <th>VE_FORMS</th>\n",
              "      <th>PVH_INVL</th>\n",
              "      <th>PERSONS</th>\n",
              "      <th>PERMVIT</th>\n",
              "      <th>...</th>\n",
              "      <th>NOT_MINNAME</th>\n",
              "      <th>ARR_HOUR</th>\n",
              "      <th>ARR_HOURNAME</th>\n",
              "      <th>ARR_MIN</th>\n",
              "      <th>ARR_MINNAME</th>\n",
              "      <th>HOSP_HR</th>\n",
              "      <th>HOSP_HRNAME</th>\n",
              "      <th>HOSP_MN</th>\n",
              "      <th>HOSP_MNNAME</th>\n",
              "      <th>FATALS</th>\n",
              "    </tr>\n",
              "  </thead>\n",
              "  <tbody>\n",
              "    <tr>\n",
              "      <th>0</th>\n",
              "      <td>1</td>\n",
              "      <td>Alabama</td>\n",
              "      <td>10001</td>\n",
              "      <td>0</td>\n",
              "      <td>0</td>\n",
              "      <td>2</td>\n",
              "      <td>2</td>\n",
              "      <td>0</td>\n",
              "      <td>3</td>\n",
              "      <td>3</td>\n",
              "      <td>...</td>\n",
              "      <td>13</td>\n",
              "      <td>22</td>\n",
              "      <td>10:00pm-10:59pm</td>\n",
              "      <td>25</td>\n",
              "      <td>25</td>\n",
              "      <td>23</td>\n",
              "      <td>11:00pm-11:59pm</td>\n",
              "      <td>2</td>\n",
              "      <td>2</td>\n",
              "      <td>2</td>\n",
              "    </tr>\n",
              "    <tr>\n",
              "      <th>1</th>\n",
              "      <td>1</td>\n",
              "      <td>Alabama</td>\n",
              "      <td>10002</td>\n",
              "      <td>0</td>\n",
              "      <td>0</td>\n",
              "      <td>1</td>\n",
              "      <td>1</td>\n",
              "      <td>0</td>\n",
              "      <td>2</td>\n",
              "      <td>2</td>\n",
              "      <td>...</td>\n",
              "      <td>Unknown</td>\n",
              "      <td>19</td>\n",
              "      <td>7:00pm-7:59pm</td>\n",
              "      <td>9</td>\n",
              "      <td>9</td>\n",
              "      <td>88</td>\n",
              "      <td>Not Applicable (Not Transported)</td>\n",
              "      <td>88</td>\n",
              "      <td>Not Applicable (Not Transported)</td>\n",
              "      <td>2</td>\n",
              "    </tr>\n",
              "    <tr>\n",
              "      <th>2</th>\n",
              "      <td>1</td>\n",
              "      <td>Alabama</td>\n",
              "      <td>10003</td>\n",
              "      <td>1</td>\n",
              "      <td>1</td>\n",
              "      <td>1</td>\n",
              "      <td>1</td>\n",
              "      <td>0</td>\n",
              "      <td>1</td>\n",
              "      <td>1</td>\n",
              "      <td>...</td>\n",
              "      <td>29</td>\n",
              "      <td>9</td>\n",
              "      <td>9:00am-9:59am</td>\n",
              "      <td>40</td>\n",
              "      <td>40</td>\n",
              "      <td>88</td>\n",
              "      <td>Not Applicable (Not Transported)</td>\n",
              "      <td>88</td>\n",
              "      <td>Not Applicable (Not Transported)</td>\n",
              "      <td>1</td>\n",
              "    </tr>\n",
              "    <tr>\n",
              "      <th>3</th>\n",
              "      <td>1</td>\n",
              "      <td>Alabama</td>\n",
              "      <td>10004</td>\n",
              "      <td>0</td>\n",
              "      <td>0</td>\n",
              "      <td>1</td>\n",
              "      <td>1</td>\n",
              "      <td>0</td>\n",
              "      <td>1</td>\n",
              "      <td>1</td>\n",
              "      <td>...</td>\n",
              "      <td>20</td>\n",
              "      <td>16</td>\n",
              "      <td>4:00pm-4:59pm</td>\n",
              "      <td>28</td>\n",
              "      <td>28</td>\n",
              "      <td>99</td>\n",
              "      <td>Unknown</td>\n",
              "      <td>99</td>\n",
              "      <td>Unknown EMS Hospital Arrival Time</td>\n",
              "      <td>1</td>\n",
              "    </tr>\n",
              "    <tr>\n",
              "      <th>4</th>\n",
              "      <td>1</td>\n",
              "      <td>Alabama</td>\n",
              "      <td>10005</td>\n",
              "      <td>0</td>\n",
              "      <td>0</td>\n",
              "      <td>2</td>\n",
              "      <td>2</td>\n",
              "      <td>0</td>\n",
              "      <td>4</td>\n",
              "      <td>4</td>\n",
              "      <td>...</td>\n",
              "      <td>20</td>\n",
              "      <td>22</td>\n",
              "      <td>10:00pm-10:59pm</td>\n",
              "      <td>30</td>\n",
              "      <td>30</td>\n",
              "      <td>88</td>\n",
              "      <td>Not Applicable (Not Transported)</td>\n",
              "      <td>88</td>\n",
              "      <td>Not Applicable (Not Transported)</td>\n",
              "      <td>1</td>\n",
              "    </tr>\n",
              "  </tbody>\n",
              "</table>\n",
              "<p>5 rows × 80 columns</p>\n",
              "</div>\n",
              "    <div class=\"colab-df-buttons\">\n",
              "\n",
              "  <div class=\"colab-df-container\">\n",
              "    <button class=\"colab-df-convert\" onclick=\"convertToInteractive('df-5b6370f7-67b1-4080-a992-2e865eb6ee5e')\"\n",
              "            title=\"Convert this dataframe to an interactive table.\"\n",
              "            style=\"display:none;\">\n",
              "\n",
              "  <svg xmlns=\"http://www.w3.org/2000/svg\" height=\"24px\" viewBox=\"0 -960 960 960\">\n",
              "    <path d=\"M120-120v-720h720v720H120Zm60-500h600v-160H180v160Zm220 220h160v-160H400v160Zm0 220h160v-160H400v160ZM180-400h160v-160H180v160Zm440 0h160v-160H620v160ZM180-180h160v-160H180v160Zm440 0h160v-160H620v160Z\"/>\n",
              "  </svg>\n",
              "    </button>\n",
              "\n",
              "  <style>\n",
              "    .colab-df-container {\n",
              "      display:flex;\n",
              "      gap: 12px;\n",
              "    }\n",
              "\n",
              "    .colab-df-convert {\n",
              "      background-color: #E8F0FE;\n",
              "      border: none;\n",
              "      border-radius: 50%;\n",
              "      cursor: pointer;\n",
              "      display: none;\n",
              "      fill: #1967D2;\n",
              "      height: 32px;\n",
              "      padding: 0 0 0 0;\n",
              "      width: 32px;\n",
              "    }\n",
              "\n",
              "    .colab-df-convert:hover {\n",
              "      background-color: #E2EBFA;\n",
              "      box-shadow: 0px 1px 2px rgba(60, 64, 67, 0.3), 0px 1px 3px 1px rgba(60, 64, 67, 0.15);\n",
              "      fill: #174EA6;\n",
              "    }\n",
              "\n",
              "    .colab-df-buttons div {\n",
              "      margin-bottom: 4px;\n",
              "    }\n",
              "\n",
              "    [theme=dark] .colab-df-convert {\n",
              "      background-color: #3B4455;\n",
              "      fill: #D2E3FC;\n",
              "    }\n",
              "\n",
              "    [theme=dark] .colab-df-convert:hover {\n",
              "      background-color: #434B5C;\n",
              "      box-shadow: 0px 1px 3px 1px rgba(0, 0, 0, 0.15);\n",
              "      filter: drop-shadow(0px 1px 2px rgba(0, 0, 0, 0.3));\n",
              "      fill: #FFFFFF;\n",
              "    }\n",
              "  </style>\n",
              "\n",
              "    <script>\n",
              "      const buttonEl =\n",
              "        document.querySelector('#df-5b6370f7-67b1-4080-a992-2e865eb6ee5e button.colab-df-convert');\n",
              "      buttonEl.style.display =\n",
              "        google.colab.kernel.accessAllowed ? 'block' : 'none';\n",
              "\n",
              "      async function convertToInteractive(key) {\n",
              "        const element = document.querySelector('#df-5b6370f7-67b1-4080-a992-2e865eb6ee5e');\n",
              "        const dataTable =\n",
              "          await google.colab.kernel.invokeFunction('convertToInteractive',\n",
              "                                                    [key], {});\n",
              "        if (!dataTable) return;\n",
              "\n",
              "        const docLinkHtml = 'Like what you see? Visit the ' +\n",
              "          '<a target=\"_blank\" href=https://colab.research.google.com/notebooks/data_table.ipynb>data table notebook</a>'\n",
              "          + ' to learn more about interactive tables.';\n",
              "        element.innerHTML = '';\n",
              "        dataTable['output_type'] = 'display_data';\n",
              "        await google.colab.output.renderOutput(dataTable, element);\n",
              "        const docLink = document.createElement('div');\n",
              "        docLink.innerHTML = docLinkHtml;\n",
              "        element.appendChild(docLink);\n",
              "      }\n",
              "    </script>\n",
              "  </div>\n",
              "\n",
              "\n",
              "<div id=\"df-e21b89ab-cb9f-44dc-84cb-e007e4e69c93\">\n",
              "  <button class=\"colab-df-quickchart\" onclick=\"quickchart('df-e21b89ab-cb9f-44dc-84cb-e007e4e69c93')\"\n",
              "            title=\"Suggest charts\"\n",
              "            style=\"display:none;\">\n",
              "\n",
              "<svg xmlns=\"http://www.w3.org/2000/svg\" height=\"24px\"viewBox=\"0 0 24 24\"\n",
              "     width=\"24px\">\n",
              "    <g>\n",
              "        <path d=\"M19 3H5c-1.1 0-2 .9-2 2v14c0 1.1.9 2 2 2h14c1.1 0 2-.9 2-2V5c0-1.1-.9-2-2-2zM9 17H7v-7h2v7zm4 0h-2V7h2v10zm4 0h-2v-4h2v4z\"/>\n",
              "    </g>\n",
              "</svg>\n",
              "  </button>\n",
              "\n",
              "<style>\n",
              "  .colab-df-quickchart {\n",
              "      --bg-color: #E8F0FE;\n",
              "      --fill-color: #1967D2;\n",
              "      --hover-bg-color: #E2EBFA;\n",
              "      --hover-fill-color: #174EA6;\n",
              "      --disabled-fill-color: #AAA;\n",
              "      --disabled-bg-color: #DDD;\n",
              "  }\n",
              "\n",
              "  [theme=dark] .colab-df-quickchart {\n",
              "      --bg-color: #3B4455;\n",
              "      --fill-color: #D2E3FC;\n",
              "      --hover-bg-color: #434B5C;\n",
              "      --hover-fill-color: #FFFFFF;\n",
              "      --disabled-bg-color: #3B4455;\n",
              "      --disabled-fill-color: #666;\n",
              "  }\n",
              "\n",
              "  .colab-df-quickchart {\n",
              "    background-color: var(--bg-color);\n",
              "    border: none;\n",
              "    border-radius: 50%;\n",
              "    cursor: pointer;\n",
              "    display: none;\n",
              "    fill: var(--fill-color);\n",
              "    height: 32px;\n",
              "    padding: 0;\n",
              "    width: 32px;\n",
              "  }\n",
              "\n",
              "  .colab-df-quickchart:hover {\n",
              "    background-color: var(--hover-bg-color);\n",
              "    box-shadow: 0 1px 2px rgba(60, 64, 67, 0.3), 0 1px 3px 1px rgba(60, 64, 67, 0.15);\n",
              "    fill: var(--button-hover-fill-color);\n",
              "  }\n",
              "\n",
              "  .colab-df-quickchart-complete:disabled,\n",
              "  .colab-df-quickchart-complete:disabled:hover {\n",
              "    background-color: var(--disabled-bg-color);\n",
              "    fill: var(--disabled-fill-color);\n",
              "    box-shadow: none;\n",
              "  }\n",
              "\n",
              "  .colab-df-spinner {\n",
              "    border: 2px solid var(--fill-color);\n",
              "    border-color: transparent;\n",
              "    border-bottom-color: var(--fill-color);\n",
              "    animation:\n",
              "      spin 1s steps(1) infinite;\n",
              "  }\n",
              "\n",
              "  @keyframes spin {\n",
              "    0% {\n",
              "      border-color: transparent;\n",
              "      border-bottom-color: var(--fill-color);\n",
              "      border-left-color: var(--fill-color);\n",
              "    }\n",
              "    20% {\n",
              "      border-color: transparent;\n",
              "      border-left-color: var(--fill-color);\n",
              "      border-top-color: var(--fill-color);\n",
              "    }\n",
              "    30% {\n",
              "      border-color: transparent;\n",
              "      border-left-color: var(--fill-color);\n",
              "      border-top-color: var(--fill-color);\n",
              "      border-right-color: var(--fill-color);\n",
              "    }\n",
              "    40% {\n",
              "      border-color: transparent;\n",
              "      border-right-color: var(--fill-color);\n",
              "      border-top-color: var(--fill-color);\n",
              "    }\n",
              "    60% {\n",
              "      border-color: transparent;\n",
              "      border-right-color: var(--fill-color);\n",
              "    }\n",
              "    80% {\n",
              "      border-color: transparent;\n",
              "      border-right-color: var(--fill-color);\n",
              "      border-bottom-color: var(--fill-color);\n",
              "    }\n",
              "    90% {\n",
              "      border-color: transparent;\n",
              "      border-bottom-color: var(--fill-color);\n",
              "    }\n",
              "  }\n",
              "</style>\n",
              "\n",
              "  <script>\n",
              "    async function quickchart(key) {\n",
              "      const quickchartButtonEl =\n",
              "        document.querySelector('#' + key + ' button');\n",
              "      quickchartButtonEl.disabled = true;  // To prevent multiple clicks.\n",
              "      quickchartButtonEl.classList.add('colab-df-spinner');\n",
              "      try {\n",
              "        const charts = await google.colab.kernel.invokeFunction(\n",
              "            'suggestCharts', [key], {});\n",
              "      } catch (error) {\n",
              "        console.error('Error during call to suggestCharts:', error);\n",
              "      }\n",
              "      quickchartButtonEl.classList.remove('colab-df-spinner');\n",
              "      quickchartButtonEl.classList.add('colab-df-quickchart-complete');\n",
              "    }\n",
              "    (() => {\n",
              "      let quickchartButtonEl =\n",
              "        document.querySelector('#df-e21b89ab-cb9f-44dc-84cb-e007e4e69c93 button');\n",
              "      quickchartButtonEl.style.display =\n",
              "        google.colab.kernel.accessAllowed ? 'block' : 'none';\n",
              "    })();\n",
              "  </script>\n",
              "</div>\n",
              "\n",
              "    </div>\n",
              "  </div>\n"
            ],
            "application/vnd.google.colaboratory.intrinsic+json": {
              "type": "dataframe",
              "variable_name": "df"
            }
          },
          "metadata": {},
          "execution_count": 4
        }
      ]
    },
    {
      "cell_type": "markdown",
      "source": [
        "# cevent.csv <a id=\"cevent\"></a>\n",
        "Für unser Projekt, das sich auf die Vorhersage tödlicher Unfälle konzentriert, ist cevent.csv nicht zwingend notwendig. Diese Datei dokumentiert die chronologische Abfolge von Ereignissen (sowohl schädliche als auch nicht schädliche), die sich aus einer nicht stabilisierten Situation ergeben und einen Verkehrsunfall mit Kraftfahrzeugen darstellen."
      ],
      "metadata": {
        "id": "j0_Fcs8J7rbK"
      }
    },
    {
      "cell_type": "code",
      "source": [
        "df = pd.read_csv('cevent.csv', encoding='ISO-8859-1')\n",
        "df.columns\n",
        "df['EVENTNUM'].value_counts(normalize=True, dropna=False).head(10) * 100\n",
        "df['VNUMBER1'].value_counts(normalize=True, dropna=False).head(10) * 100\n",
        "df['AOI1'].value_counts(normalize=True, dropna=False).head(10) * 100\n",
        "df['AOI1NAME'].value_counts(normalize=True, dropna=False).head(10) * 100\n",
        "df['SOE'].value_counts(normalize=True, dropna=False).head(10) * 100\n",
        "df['SOENAME'].value_counts(normalize=True, dropna=False).head(10) * 100\n",
        "df['VNUMBER2'].value_counts(normalize=True, dropna=False).head(10) * 100\n",
        "df['VNUMBER2NAME'].value_counts(normalize=True, dropna=False).head(10) * 100\n",
        "df['AOI2'].value_counts(normalize=True, dropna=False).head(10) * 100\n",
        "df['AOI2NAME'].value_counts(normalize=True, dropna=False).head(10) * 100"
      ],
      "metadata": {
        "colab": {
          "base_uri": "https://localhost:8080/",
          "height": 0
        },
        "id": "mABeOedT7vMI",
        "outputId": "44709578-8379-499f-8449-6af1167cf59f"
      },
      "execution_count": 5,
      "outputs": [
        {
          "output_type": "execute_result",
          "data": {
            "text/plain": [
              "AOI2NAME\n",
              "Not a Motor Vehicle    45.716295\n",
              "Non-Harmful Event      33.706097\n",
              "12 Clock Point          6.461822\n",
              "6 Clock Point           4.335136\n",
              "9 Clock Point           1.496330\n",
              "3 Clock Point           1.236098\n",
              "11 Clock Point          0.979384\n",
              "Left                    0.673436\n",
              "Not Reported            0.644424\n",
              "1 Clock Point           0.564420\n",
              "Name: proportion, dtype: float64"
            ],
            "text/html": [
              "<div>\n",
              "<style scoped>\n",
              "    .dataframe tbody tr th:only-of-type {\n",
              "        vertical-align: middle;\n",
              "    }\n",
              "\n",
              "    .dataframe tbody tr th {\n",
              "        vertical-align: top;\n",
              "    }\n",
              "\n",
              "    .dataframe thead th {\n",
              "        text-align: right;\n",
              "    }\n",
              "</style>\n",
              "<table border=\"1\" class=\"dataframe\">\n",
              "  <thead>\n",
              "    <tr style=\"text-align: right;\">\n",
              "      <th></th>\n",
              "      <th>proportion</th>\n",
              "    </tr>\n",
              "    <tr>\n",
              "      <th>AOI2NAME</th>\n",
              "      <th></th>\n",
              "    </tr>\n",
              "  </thead>\n",
              "  <tbody>\n",
              "    <tr>\n",
              "      <th>Not a Motor Vehicle</th>\n",
              "      <td>45.716295</td>\n",
              "    </tr>\n",
              "    <tr>\n",
              "      <th>Non-Harmful Event</th>\n",
              "      <td>33.706097</td>\n",
              "    </tr>\n",
              "    <tr>\n",
              "      <th>12 Clock Point</th>\n",
              "      <td>6.461822</td>\n",
              "    </tr>\n",
              "    <tr>\n",
              "      <th>6 Clock Point</th>\n",
              "      <td>4.335136</td>\n",
              "    </tr>\n",
              "    <tr>\n",
              "      <th>9 Clock Point</th>\n",
              "      <td>1.496330</td>\n",
              "    </tr>\n",
              "    <tr>\n",
              "      <th>3 Clock Point</th>\n",
              "      <td>1.236098</td>\n",
              "    </tr>\n",
              "    <tr>\n",
              "      <th>11 Clock Point</th>\n",
              "      <td>0.979384</td>\n",
              "    </tr>\n",
              "    <tr>\n",
              "      <th>Left</th>\n",
              "      <td>0.673436</td>\n",
              "    </tr>\n",
              "    <tr>\n",
              "      <th>Not Reported</th>\n",
              "      <td>0.644424</td>\n",
              "    </tr>\n",
              "    <tr>\n",
              "      <th>1 Clock Point</th>\n",
              "      <td>0.564420</td>\n",
              "    </tr>\n",
              "  </tbody>\n",
              "</table>\n",
              "</div><br><label><b>dtype:</b> float64</label>"
            ]
          },
          "metadata": {},
          "execution_count": 5
        }
      ]
    },
    {
      "cell_type": "markdown",
      "source": [
        "# crashrf.csv\n",
        "Für unser Projekt, das sich auf die Vorhersage tödlicher Unfälle und die Identifikation zentraler Einflussfaktoren konzentriert, ist crashrf.csv nicht zwingend erforderlich. Diese Datei enthält zusätzliche Informationen zu ungewöhnlichen Bedingungen und besonderen Umständen, die im Zusammenhang mit dem Unfall stehen, jedoch liefern die zentralen Datensätze (wie accidents.csv, vehicle.csv und person.csv) bereits die wesentlichen Einflussfaktoren.\n",
        "\n"
      ],
      "metadata": {
        "id": "8uN3GloD6JXu"
      }
    },
    {
      "cell_type": "code",
      "source": [
        "df = pd.read_csv('crashrf.csv', encoding='ISO-8859-1')\n",
        "df.columns\n",
        "df['CRASHRF'].value_counts(normalize=True, dropna=False).head(10) * 100\n",
        "df['CRASHRFNAME'].value_counts(normalize=True, dropna=False).head(10) * 100"
      ],
      "metadata": {
        "colab": {
          "base_uri": "https://localhost:8080/",
          "height": 0
        },
        "id": "RdvAoDpl6NG6",
        "outputId": "85831947-9c43-4ef5-ecf2-22dc588f46ad"
      },
      "execution_count": 6,
      "outputs": [
        {
          "output_type": "execute_result",
          "data": {
            "text/plain": [
              "CRASHRFNAME\n",
              "NaN                                                                                                                          91.233540\n",
              "Motor Vehicle struck by falling cargo,or something that came loose from or something that was set in motion by a vehicle      2.364326\n",
              "Indication of a Stalled/Disabled Vehicle                                                                                      1.294393\n",
              "Recent/Previous Crash scene Nearby                                                                                            1.122306\n",
              "Police Pursuit Involved                                                                                                       1.094872\n",
              "Reported as Unknown                                                                                                           0.803073\n",
              "Emergency Vehicle Related                                                                                                     0.321728\n",
              "Non-occupant struck by falling cargo, or something that came loose from, or something that was set in motion by a vehicle     0.261872\n",
              "Regular Congestion                                                                                                            0.246907\n",
              "Other Maintenance or Construction-Created Condition                                                                           0.231943\n",
              "Name: proportion, dtype: float64"
            ],
            "text/html": [
              "<div>\n",
              "<style scoped>\n",
              "    .dataframe tbody tr th:only-of-type {\n",
              "        vertical-align: middle;\n",
              "    }\n",
              "\n",
              "    .dataframe tbody tr th {\n",
              "        vertical-align: top;\n",
              "    }\n",
              "\n",
              "    .dataframe thead th {\n",
              "        text-align: right;\n",
              "    }\n",
              "</style>\n",
              "<table border=\"1\" class=\"dataframe\">\n",
              "  <thead>\n",
              "    <tr style=\"text-align: right;\">\n",
              "      <th></th>\n",
              "      <th>proportion</th>\n",
              "    </tr>\n",
              "    <tr>\n",
              "      <th>CRASHRFNAME</th>\n",
              "      <th></th>\n",
              "    </tr>\n",
              "  </thead>\n",
              "  <tbody>\n",
              "    <tr>\n",
              "      <th>NaN</th>\n",
              "      <td>91.233540</td>\n",
              "    </tr>\n",
              "    <tr>\n",
              "      <th>Motor Vehicle struck by falling cargo,or something that came loose from or something that was set in motion by a vehicle</th>\n",
              "      <td>2.364326</td>\n",
              "    </tr>\n",
              "    <tr>\n",
              "      <th>Indication of a Stalled/Disabled Vehicle</th>\n",
              "      <td>1.294393</td>\n",
              "    </tr>\n",
              "    <tr>\n",
              "      <th>Recent/Previous Crash scene Nearby</th>\n",
              "      <td>1.122306</td>\n",
              "    </tr>\n",
              "    <tr>\n",
              "      <th>Police Pursuit Involved</th>\n",
              "      <td>1.094872</td>\n",
              "    </tr>\n",
              "    <tr>\n",
              "      <th>Reported as Unknown</th>\n",
              "      <td>0.803073</td>\n",
              "    </tr>\n",
              "    <tr>\n",
              "      <th>Emergency Vehicle Related</th>\n",
              "      <td>0.321728</td>\n",
              "    </tr>\n",
              "    <tr>\n",
              "      <th>Non-occupant struck by falling cargo, or something that came loose from, or something that was set in motion by a vehicle</th>\n",
              "      <td>0.261872</td>\n",
              "    </tr>\n",
              "    <tr>\n",
              "      <th>Regular Congestion</th>\n",
              "      <td>0.246907</td>\n",
              "    </tr>\n",
              "    <tr>\n",
              "      <th>Other Maintenance or Construction-Created Condition</th>\n",
              "      <td>0.231943</td>\n",
              "    </tr>\n",
              "  </tbody>\n",
              "</table>\n",
              "</div><br><label><b>dtype:</b> float64</label>"
            ]
          },
          "metadata": {},
          "execution_count": 6
        }
      ]
    },
    {
      "cell_type": "markdown",
      "source": [
        "# damage.csv\n",
        "Für den Fokus auf die Vorhersage tödlicher Unfälle und die Identifikation zentraler Einflussfaktoren ist damage.csv nicht zwingend erforderlich. Diese Datei enthält detaillierte Angaben dazu, welche Bereiche eines Fahrzeugs beim Unfall beschädigt wurden, was für eine vertiefte Schadensanalyse interessant sein kann, aber in unserem Projekt nicht den Kernbereich abdeckt."
      ],
      "metadata": {
        "id": "qGu79pzmhAN0"
      }
    },
    {
      "cell_type": "code",
      "source": [
        "df = pd.read_csv('damage.csv', encoding='ISO-8859-1')\n",
        "df.columns\n",
        "df['DAMAGE'].value_counts(normalize=True, dropna=False).head(5) * 100\n",
        "df['DAMAGENAME'].value_counts(normalize=True, dropna=False).head(5) * 100"
      ],
      "metadata": {
        "colab": {
          "base_uri": "https://localhost:8080/",
          "height": 0
        },
        "id": "iweU_aNYhCK4",
        "outputId": "ac11ead0-ec9c-4af1-a9cf-bddec6158071"
      },
      "execution_count": 7,
      "outputs": [
        {
          "output_type": "execute_result",
          "data": {
            "text/plain": [
              "DAMAGENAME\n",
              "12 Clock Value    16.913671\n",
              "11 Clock Value     9.174595\n",
              "1 Clock Value      8.677919\n",
              "10 Clock Value     7.259934\n",
              "2 Clock Value      6.757540\n",
              "Name: proportion, dtype: float64"
            ],
            "text/html": [
              "<div>\n",
              "<style scoped>\n",
              "    .dataframe tbody tr th:only-of-type {\n",
              "        vertical-align: middle;\n",
              "    }\n",
              "\n",
              "    .dataframe tbody tr th {\n",
              "        vertical-align: top;\n",
              "    }\n",
              "\n",
              "    .dataframe thead th {\n",
              "        text-align: right;\n",
              "    }\n",
              "</style>\n",
              "<table border=\"1\" class=\"dataframe\">\n",
              "  <thead>\n",
              "    <tr style=\"text-align: right;\">\n",
              "      <th></th>\n",
              "      <th>proportion</th>\n",
              "    </tr>\n",
              "    <tr>\n",
              "      <th>DAMAGENAME</th>\n",
              "      <th></th>\n",
              "    </tr>\n",
              "  </thead>\n",
              "  <tbody>\n",
              "    <tr>\n",
              "      <th>12 Clock Value</th>\n",
              "      <td>16.913671</td>\n",
              "    </tr>\n",
              "    <tr>\n",
              "      <th>11 Clock Value</th>\n",
              "      <td>9.174595</td>\n",
              "    </tr>\n",
              "    <tr>\n",
              "      <th>1 Clock Value</th>\n",
              "      <td>8.677919</td>\n",
              "    </tr>\n",
              "    <tr>\n",
              "      <th>10 Clock Value</th>\n",
              "      <td>7.259934</td>\n",
              "    </tr>\n",
              "    <tr>\n",
              "      <th>2 Clock Value</th>\n",
              "      <td>6.757540</td>\n",
              "    </tr>\n",
              "  </tbody>\n",
              "</table>\n",
              "</div><br><label><b>dtype:</b> float64</label>"
            ]
          },
          "metadata": {},
          "execution_count": 7
        }
      ]
    },
    {
      "cell_type": "markdown",
      "source": [
        "# distract.csv\n",
        "distract.csv dokumentiert Ablenkungen von Fahrern (z. B. Handy-Nutzung, Essen, etc.) zum Zeitpunkt des Unfalls. Für die Vorhersage tödlicher Unfälle ist sie nicht zwingend erforderlich, da zentrale Fahrerinformationen bereits in person.csv enthalten sind. Bei einer vertieften Analyse zum Einfluss von Ablenkungen könnte distract.csv jedoch zusätzliche Einblicke bieten."
      ],
      "metadata": {
        "id": "fOpA9qHs41TH"
      }
    },
    {
      "cell_type": "code",
      "source": [
        "df = pd.read_csv('distract.csv', encoding='ISO-8859-1')\n",
        "df.columns\n",
        "df['DRDISTRACT'].value_counts(normalize=True, dropna=False).head(10) * 100\n",
        "df['DRDISTRACTNAME'].value_counts(normalize=True, dropna=False).head(10) * 100"
      ],
      "metadata": {
        "colab": {
          "base_uri": "https://localhost:8080/",
          "height": 0
        },
        "id": "pH1yMx_R5CU6",
        "outputId": "10dc33c4-03e0-4186-d945-01d73852b7cb"
      },
      "execution_count": 8,
      "outputs": [
        {
          "output_type": "execute_result",
          "data": {
            "text/plain": [
              "DRDISTRACTNAME\n",
              "Not Reported                                     50.570957\n",
              "Not Distracted                                   29.194837\n",
              "Reported as Unknown if Distracted                14.139682\n",
              "Inattention (Inattentive), Details Unknown        2.096205\n",
              "Distraction (Distracted), Details Unknown         1.107948\n",
              "No Driver Present/Unknown if Driver present       0.640507\n",
              "Distracted by Outside Person, Object or Event     0.449649\n",
              "Distraction/Inattention                           0.308932\n",
              "By Other Occupant(s)                              0.255556\n",
              "Other Mobile Phone Related                        0.237764\n",
              "Name: proportion, dtype: float64"
            ],
            "text/html": [
              "<div>\n",
              "<style scoped>\n",
              "    .dataframe tbody tr th:only-of-type {\n",
              "        vertical-align: middle;\n",
              "    }\n",
              "\n",
              "    .dataframe tbody tr th {\n",
              "        vertical-align: top;\n",
              "    }\n",
              "\n",
              "    .dataframe thead th {\n",
              "        text-align: right;\n",
              "    }\n",
              "</style>\n",
              "<table border=\"1\" class=\"dataframe\">\n",
              "  <thead>\n",
              "    <tr style=\"text-align: right;\">\n",
              "      <th></th>\n",
              "      <th>proportion</th>\n",
              "    </tr>\n",
              "    <tr>\n",
              "      <th>DRDISTRACTNAME</th>\n",
              "      <th></th>\n",
              "    </tr>\n",
              "  </thead>\n",
              "  <tbody>\n",
              "    <tr>\n",
              "      <th>Not Reported</th>\n",
              "      <td>50.570957</td>\n",
              "    </tr>\n",
              "    <tr>\n",
              "      <th>Not Distracted</th>\n",
              "      <td>29.194837</td>\n",
              "    </tr>\n",
              "    <tr>\n",
              "      <th>Reported as Unknown if Distracted</th>\n",
              "      <td>14.139682</td>\n",
              "    </tr>\n",
              "    <tr>\n",
              "      <th>Inattention (Inattentive), Details Unknown</th>\n",
              "      <td>2.096205</td>\n",
              "    </tr>\n",
              "    <tr>\n",
              "      <th>Distraction (Distracted), Details Unknown</th>\n",
              "      <td>1.107948</td>\n",
              "    </tr>\n",
              "    <tr>\n",
              "      <th>No Driver Present/Unknown if Driver present</th>\n",
              "      <td>0.640507</td>\n",
              "    </tr>\n",
              "    <tr>\n",
              "      <th>Distracted by Outside Person, Object or Event</th>\n",
              "      <td>0.449649</td>\n",
              "    </tr>\n",
              "    <tr>\n",
              "      <th>Distraction/Inattention</th>\n",
              "      <td>0.308932</td>\n",
              "    </tr>\n",
              "    <tr>\n",
              "      <th>By Other Occupant(s)</th>\n",
              "      <td>0.255556</td>\n",
              "    </tr>\n",
              "    <tr>\n",
              "      <th>Other Mobile Phone Related</th>\n",
              "      <td>0.237764</td>\n",
              "    </tr>\n",
              "  </tbody>\n",
              "</table>\n",
              "</div><br><label><b>dtype:</b> float64</label>"
            ]
          },
          "metadata": {},
          "execution_count": 8
        }
      ]
    },
    {
      "cell_type": "markdown",
      "source": [
        "# drimpair.csv\n",
        "Die drimpair.csv enthält Informationen zu körperlichen Beeinträchtigungen (Impairments) von Fahrern am Unfallzeitpunkt. Für die Vorhersage tödlicher Unfälle ist sie nicht zwingend erforderlich, da grundlegende Fahrerinformationen bereits in person.csv enthalten sind. Sie kann jedoch bei einer vertiefenden Analyse (z. B. medizinische Faktoren) hilfreich sein."
      ],
      "metadata": {
        "id": "dgSrjsWH4J_4"
      }
    },
    {
      "cell_type": "code",
      "source": [
        "df = pd.read_csv('drimpair.csv', encoding='ISO-8859-1')\n",
        "df.columns\n",
        "df['DRIMPAIR'].value_counts(normalize=True, dropna=False).head(10) * 100\n",
        "df['DRIMPAIRNAME'].value_counts(normalize=True, dropna=False).head(10) * 100"
      ],
      "metadata": {
        "colab": {
          "base_uri": "https://localhost:8080/",
          "height": 0
        },
        "id": "b9HYsi-84Viy",
        "outputId": "2758bbe7-7e86-4ba2-a57c-48f09e6b1ed6"
      },
      "execution_count": 9,
      "outputs": [
        {
          "output_type": "execute_result",
          "data": {
            "text/plain": [
              "DRIMPAIRNAME\n",
              "None/Apparently Normal                                 40.059993\n",
              "Not Reported                                           24.345638\n",
              "Reported as Unknown if Impaired                        20.436402\n",
              "Under the Influence of Alcohol, Drugs or Medication    11.210025\n",
              "Asleep or Fatigued                                      1.030529\n",
              "Ill, Blackout                                           0.945055\n",
              "Physical Impairment - No Details                        0.680568\n",
              "No Driver Present/Unknown if Driver Present             0.638638\n",
              "Emotional (depressed, angry, disturbed, etc.)           0.345122\n",
              "Other Physical Impairment                               0.277388\n",
              "Name: proportion, dtype: float64"
            ],
            "text/html": [
              "<div>\n",
              "<style scoped>\n",
              "    .dataframe tbody tr th:only-of-type {\n",
              "        vertical-align: middle;\n",
              "    }\n",
              "\n",
              "    .dataframe tbody tr th {\n",
              "        vertical-align: top;\n",
              "    }\n",
              "\n",
              "    .dataframe thead th {\n",
              "        text-align: right;\n",
              "    }\n",
              "</style>\n",
              "<table border=\"1\" class=\"dataframe\">\n",
              "  <thead>\n",
              "    <tr style=\"text-align: right;\">\n",
              "      <th></th>\n",
              "      <th>proportion</th>\n",
              "    </tr>\n",
              "    <tr>\n",
              "      <th>DRIMPAIRNAME</th>\n",
              "      <th></th>\n",
              "    </tr>\n",
              "  </thead>\n",
              "  <tbody>\n",
              "    <tr>\n",
              "      <th>None/Apparently Normal</th>\n",
              "      <td>40.059993</td>\n",
              "    </tr>\n",
              "    <tr>\n",
              "      <th>Not Reported</th>\n",
              "      <td>24.345638</td>\n",
              "    </tr>\n",
              "    <tr>\n",
              "      <th>Reported as Unknown if Impaired</th>\n",
              "      <td>20.436402</td>\n",
              "    </tr>\n",
              "    <tr>\n",
              "      <th>Under the Influence of Alcohol, Drugs or Medication</th>\n",
              "      <td>11.210025</td>\n",
              "    </tr>\n",
              "    <tr>\n",
              "      <th>Asleep or Fatigued</th>\n",
              "      <td>1.030529</td>\n",
              "    </tr>\n",
              "    <tr>\n",
              "      <th>Ill, Blackout</th>\n",
              "      <td>0.945055</td>\n",
              "    </tr>\n",
              "    <tr>\n",
              "      <th>Physical Impairment - No Details</th>\n",
              "      <td>0.680568</td>\n",
              "    </tr>\n",
              "    <tr>\n",
              "      <th>No Driver Present/Unknown if Driver Present</th>\n",
              "      <td>0.638638</td>\n",
              "    </tr>\n",
              "    <tr>\n",
              "      <th>Emotional (depressed, angry, disturbed, etc.)</th>\n",
              "      <td>0.345122</td>\n",
              "    </tr>\n",
              "    <tr>\n",
              "      <th>Other Physical Impairment</th>\n",
              "      <td>0.277388</td>\n",
              "    </tr>\n",
              "  </tbody>\n",
              "</table>\n",
              "</div><br><label><b>dtype:</b> float64</label>"
            ]
          },
          "metadata": {},
          "execution_count": 9
        }
      ]
    },
    {
      "cell_type": "markdown",
      "source": [
        "# driverrf.csv\n",
        "Für unseren Fokus ist driverrf.csv optional, da die wesentlichen Fahrerinformationen bereits in anderen zentralen Datensätzen (wie person.csv) enthalten sind. Diese Datei liefert ergänzende Faktoren, die spezielle Fahrerbedingungen, ungewöhnliche Situationen und besondere Umstände abbilden, die für eine vertiefende Analyse interessant sein könnten, aber für die Kernfragestellung nicht zwingend erforderlich sind."
      ],
      "metadata": {
        "id": "NqhBgjJpf5lY"
      }
    },
    {
      "cell_type": "code",
      "source": [
        "df = pd.read_csv('driverrf.csv', encoding='ISO-8859-1')\n",
        "df.columns\n",
        "df['DRIVERRF'].value_counts(normalize=True, dropna=False).head(10) * 100\n",
        "df['DRIVERRFNAME'].value_counts(normalize=True, dropna=False).head(10) * 100"
      ],
      "metadata": {
        "colab": {
          "base_uri": "https://localhost:8080/",
          "height": 0
        },
        "id": "bMV3RXaGf9Tm",
        "outputId": "73e201ad-4ce5-43b4-bfca-e9b3803cfbca"
      },
      "execution_count": 10,
      "outputs": [
        {
          "output_type": "execute_result",
          "data": {
            "text/plain": [
              "DRIVERRFNAME\n",
              "NaN                                                                                                                             54.286805\n",
              "Careless Driving, Inattentive Operation, Improper Driving, Driving Without Due Care                                              6.800164\n",
              "Failure to Yield Right-of-Way                                                                                                    6.406718\n",
              "Improper Lane Usage                                                                                                              6.027952\n",
              "Operating the Vehicle in an Erratic, Reckless or Negligent Manner.                                                               4.009337\n",
              "Failure to Obey Actual Traffic Signs, Traffic Control Devices, or Traffic Officers. Failure to Obey Safety Zone Traffic Laws     3.686359\n",
              "Reported as Unknown                                                                                                              2.777615\n",
              "Overcorrecting                                                                                                                   2.764402\n",
              "Driving on Wrong Side of Two-Way Trafficway (Intentional or Unintentional)                                                       1.632509\n",
              "Following Improperly                                                                                                             1.133361\n",
              "Name: proportion, dtype: float64"
            ],
            "text/html": [
              "<div>\n",
              "<style scoped>\n",
              "    .dataframe tbody tr th:only-of-type {\n",
              "        vertical-align: middle;\n",
              "    }\n",
              "\n",
              "    .dataframe tbody tr th {\n",
              "        vertical-align: top;\n",
              "    }\n",
              "\n",
              "    .dataframe thead th {\n",
              "        text-align: right;\n",
              "    }\n",
              "</style>\n",
              "<table border=\"1\" class=\"dataframe\">\n",
              "  <thead>\n",
              "    <tr style=\"text-align: right;\">\n",
              "      <th></th>\n",
              "      <th>proportion</th>\n",
              "    </tr>\n",
              "    <tr>\n",
              "      <th>DRIVERRFNAME</th>\n",
              "      <th></th>\n",
              "    </tr>\n",
              "  </thead>\n",
              "  <tbody>\n",
              "    <tr>\n",
              "      <th>NaN</th>\n",
              "      <td>54.286805</td>\n",
              "    </tr>\n",
              "    <tr>\n",
              "      <th>Careless Driving, Inattentive Operation, Improper Driving, Driving Without Due Care</th>\n",
              "      <td>6.800164</td>\n",
              "    </tr>\n",
              "    <tr>\n",
              "      <th>Failure to Yield Right-of-Way</th>\n",
              "      <td>6.406718</td>\n",
              "    </tr>\n",
              "    <tr>\n",
              "      <th>Improper Lane Usage</th>\n",
              "      <td>6.027952</td>\n",
              "    </tr>\n",
              "    <tr>\n",
              "      <th>Operating the Vehicle in an Erratic, Reckless or Negligent Manner.</th>\n",
              "      <td>4.009337</td>\n",
              "    </tr>\n",
              "    <tr>\n",
              "      <th>Failure to Obey Actual Traffic Signs, Traffic Control Devices, or Traffic Officers. Failure to Obey Safety Zone Traffic Laws</th>\n",
              "      <td>3.686359</td>\n",
              "    </tr>\n",
              "    <tr>\n",
              "      <th>Reported as Unknown</th>\n",
              "      <td>2.777615</td>\n",
              "    </tr>\n",
              "    <tr>\n",
              "      <th>Overcorrecting</th>\n",
              "      <td>2.764402</td>\n",
              "    </tr>\n",
              "    <tr>\n",
              "      <th>Driving on Wrong Side of Two-Way Trafficway (Intentional or Unintentional)</th>\n",
              "      <td>1.632509</td>\n",
              "    </tr>\n",
              "    <tr>\n",
              "      <th>Following Improperly</th>\n",
              "      <td>1.133361</td>\n",
              "    </tr>\n",
              "  </tbody>\n",
              "</table>\n",
              "</div><br><label><b>dtype:</b> float64</label>"
            ]
          },
          "metadata": {},
          "execution_count": 10
        }
      ]
    },
    {
      "cell_type": "markdown",
      "source": [
        "# drugs.csv\n",
        "Für den Fokus „Vorhersage eines tödlichen Unfalls und Identifikation relevanter Einflussfaktoren“ ist die Verwendung von drugs.csv optional, da zentrale Alkohol- und Fahrerinformationen bereits in person.csv und anderen Kern-Datensätzen enthalten sein können."
      ],
      "metadata": {
        "id": "aiBUbr5rfcsT"
      }
    },
    {
      "cell_type": "code",
      "source": [
        "df = pd.read_csv('drugs.csv', encoding='ISO-8859-1')\n",
        "df.columns\n",
        "df['DRUGSPEC'].value_counts(normalize=True, dropna=False).head(5) * 100\n",
        "df['DRUGSPECNAME'].value_counts(normalize=True, dropna=False).head(5) * 100\n",
        "df['DRUGRES'].value_counts(normalize=True, dropna=False).head(5) * 100\n",
        "df['DRUGRESNAME'].value_counts(normalize=True, dropna=False).head(10) * 100"
      ],
      "metadata": {
        "colab": {
          "base_uri": "https://localhost:8080/",
          "height": 0
        },
        "id": "53D5etMofeP5",
        "outputId": "8fd12a57-153f-439b-bddf-bf0f17595959"
      },
      "execution_count": 11,
      "outputs": [
        {
          "output_type": "execute_result",
          "data": {
            "text/plain": [
              "DRUGRESNAME\n",
              "Test Not Given                             46.273842\n",
              "Tested, No Drugs Found/Negative            12.176620\n",
              "Not Reported                                8.176486\n",
              "Other Drug                                  6.718917\n",
              "Tetrahydrocannabinols (THC)                 2.968004\n",
              "METHAMPHETAMINE                             2.921013\n",
              "AMPHETAMINE                                 2.844652\n",
              "DELTA 9                                     2.541726\n",
              "Cannabinoid, Type Unknown                   2.536691\n",
              "Reported as Unknown if Tested for Drugs     2.510678\n",
              "Name: proportion, dtype: float64"
            ],
            "text/html": [
              "<div>\n",
              "<style scoped>\n",
              "    .dataframe tbody tr th:only-of-type {\n",
              "        vertical-align: middle;\n",
              "    }\n",
              "\n",
              "    .dataframe tbody tr th {\n",
              "        vertical-align: top;\n",
              "    }\n",
              "\n",
              "    .dataframe thead th {\n",
              "        text-align: right;\n",
              "    }\n",
              "</style>\n",
              "<table border=\"1\" class=\"dataframe\">\n",
              "  <thead>\n",
              "    <tr style=\"text-align: right;\">\n",
              "      <th></th>\n",
              "      <th>proportion</th>\n",
              "    </tr>\n",
              "    <tr>\n",
              "      <th>DRUGRESNAME</th>\n",
              "      <th></th>\n",
              "    </tr>\n",
              "  </thead>\n",
              "  <tbody>\n",
              "    <tr>\n",
              "      <th>Test Not Given</th>\n",
              "      <td>46.273842</td>\n",
              "    </tr>\n",
              "    <tr>\n",
              "      <th>Tested, No Drugs Found/Negative</th>\n",
              "      <td>12.176620</td>\n",
              "    </tr>\n",
              "    <tr>\n",
              "      <th>Not Reported</th>\n",
              "      <td>8.176486</td>\n",
              "    </tr>\n",
              "    <tr>\n",
              "      <th>Other Drug</th>\n",
              "      <td>6.718917</td>\n",
              "    </tr>\n",
              "    <tr>\n",
              "      <th>Tetrahydrocannabinols (THC)</th>\n",
              "      <td>2.968004</td>\n",
              "    </tr>\n",
              "    <tr>\n",
              "      <th>METHAMPHETAMINE</th>\n",
              "      <td>2.921013</td>\n",
              "    </tr>\n",
              "    <tr>\n",
              "      <th>AMPHETAMINE</th>\n",
              "      <td>2.844652</td>\n",
              "    </tr>\n",
              "    <tr>\n",
              "      <th>DELTA 9</th>\n",
              "      <td>2.541726</td>\n",
              "    </tr>\n",
              "    <tr>\n",
              "      <th>Cannabinoid, Type Unknown</th>\n",
              "      <td>2.536691</td>\n",
              "    </tr>\n",
              "    <tr>\n",
              "      <th>Reported as Unknown if Tested for Drugs</th>\n",
              "      <td>2.510678</td>\n",
              "    </tr>\n",
              "  </tbody>\n",
              "</table>\n",
              "</div><br><label><b>dtype:</b> float64</label>"
            ]
          },
          "metadata": {},
          "execution_count": 11
        }
      ]
    },
    {
      "cell_type": "markdown",
      "source": [
        "# factor.csv\n",
        "Für unseren Fokus auf die Vorhersage tödlicher Unfälle ist factor.csv nicht zwingend erforderlich, da wesentliche Fahrzeuginformationen bereits in vehicle.csv abgebildet sind. Die factor.csv liefert ergänzende Details zu spezifischen Fahrzeugumständen, die potenziell zum Unfall beigetragen haben könnten.\n",
        "\n"
      ],
      "metadata": {
        "id": "wualQrThhvji"
      }
    },
    {
      "cell_type": "code",
      "source": [
        "df = pd.read_csv('factor.csv', encoding='ISO-8859-1')\n",
        "df.columns\n",
        "df['VEHICLECC'].value_counts(normalize=True, dropna=False).head(5) * 100\n",
        "df['VEHICLECCNAME'].value_counts(normalize=True, dropna=False).head(5) * 100"
      ],
      "metadata": {
        "colab": {
          "base_uri": "https://localhost:8080/",
          "height": 0
        },
        "id": "bCNsPeXrhxJV",
        "outputId": "d010334d-a9c1-43e9-e744-1ffa2b0d3f62"
      },
      "execution_count": 12,
      "outputs": [
        {
          "output_type": "execute_result",
          "data": {
            "text/plain": [
              "VEHICLECCNAME\n",
              "None Noted             92.204288\n",
              "Reported as Unknown     5.772866\n",
              "Tires                   0.904787\n",
              "Brake System            0.239122\n",
              "Other                   0.201961\n",
              "Name: proportion, dtype: float64"
            ],
            "text/html": [
              "<div>\n",
              "<style scoped>\n",
              "    .dataframe tbody tr th:only-of-type {\n",
              "        vertical-align: middle;\n",
              "    }\n",
              "\n",
              "    .dataframe tbody tr th {\n",
              "        vertical-align: top;\n",
              "    }\n",
              "\n",
              "    .dataframe thead th {\n",
              "        text-align: right;\n",
              "    }\n",
              "</style>\n",
              "<table border=\"1\" class=\"dataframe\">\n",
              "  <thead>\n",
              "    <tr style=\"text-align: right;\">\n",
              "      <th></th>\n",
              "      <th>proportion</th>\n",
              "    </tr>\n",
              "    <tr>\n",
              "      <th>VEHICLECCNAME</th>\n",
              "      <th></th>\n",
              "    </tr>\n",
              "  </thead>\n",
              "  <tbody>\n",
              "    <tr>\n",
              "      <th>None Noted</th>\n",
              "      <td>92.204288</td>\n",
              "    </tr>\n",
              "    <tr>\n",
              "      <th>Reported as Unknown</th>\n",
              "      <td>5.772866</td>\n",
              "    </tr>\n",
              "    <tr>\n",
              "      <th>Tires</th>\n",
              "      <td>0.904787</td>\n",
              "    </tr>\n",
              "    <tr>\n",
              "      <th>Brake System</th>\n",
              "      <td>0.239122</td>\n",
              "    </tr>\n",
              "    <tr>\n",
              "      <th>Other</th>\n",
              "      <td>0.201961</td>\n",
              "    </tr>\n",
              "  </tbody>\n",
              "</table>\n",
              "</div><br><label><b>dtype:</b> float64</label>"
            ]
          },
          "metadata": {},
          "execution_count": 12
        }
      ]
    },
    {
      "cell_type": "markdown",
      "source": [
        "# maneuver.csv\n",
        "Für unser Projekt ist maneuver.csv optional, da es spezifische Informationen zu den Vermeidungsmanövern des Fahrers liefert, die für die grundlegende Vorhersage tödlicher Unfälle nicht zentral sind."
      ],
      "metadata": {
        "id": "puG5Rjc6vftF"
      }
    },
    {
      "cell_type": "code",
      "source": [
        "df = pd.read_csv('maneuver.csv', encoding='ISO-8859-1')\n",
        "df.columns\n",
        "df['MANEUVER'].value_counts(normalize=True, dropna=False).head(10) * 100\n",
        "df['MANEUVERNAME'].value_counts(normalize=True, dropna=False).head(10) * 100"
      ],
      "metadata": {
        "colab": {
          "base_uri": "https://localhost:8080/",
          "height": 0
        },
        "id": "ji5UkhnevjzV",
        "outputId": "27312c8b-c897-4444-d362-2a8cc471dd08"
      },
      "execution_count": 13,
      "outputs": [
        {
          "output_type": "execute_result",
          "data": {
            "text/plain": [
              "MANEUVERNAME\n",
              "Not Reported                                         66.071255\n",
              "Driver Did Not Maneuver to Avoid                     20.703492\n",
              "Contact Motor Vehicle (In this crash)                 6.936220\n",
              "Reported as Unknown                                   2.595217\n",
              "Pedestrian, Pedalcyclist or Other Non-Motorist        1.705336\n",
              "Phantom/Non-Contact Motor Vehicle                     1.011229\n",
              "No Driver Present/Unknown if Driver present           0.640714\n",
              "Live Animal                                           0.163415\n",
              "Object                                                0.152089\n",
              "Poor Road Conditions (Puddle, Ice, Pothole, etc.)     0.021034\n",
              "Name: proportion, dtype: float64"
            ],
            "text/html": [
              "<div>\n",
              "<style scoped>\n",
              "    .dataframe tbody tr th:only-of-type {\n",
              "        vertical-align: middle;\n",
              "    }\n",
              "\n",
              "    .dataframe tbody tr th {\n",
              "        vertical-align: top;\n",
              "    }\n",
              "\n",
              "    .dataframe thead th {\n",
              "        text-align: right;\n",
              "    }\n",
              "</style>\n",
              "<table border=\"1\" class=\"dataframe\">\n",
              "  <thead>\n",
              "    <tr style=\"text-align: right;\">\n",
              "      <th></th>\n",
              "      <th>proportion</th>\n",
              "    </tr>\n",
              "    <tr>\n",
              "      <th>MANEUVERNAME</th>\n",
              "      <th></th>\n",
              "    </tr>\n",
              "  </thead>\n",
              "  <tbody>\n",
              "    <tr>\n",
              "      <th>Not Reported</th>\n",
              "      <td>66.071255</td>\n",
              "    </tr>\n",
              "    <tr>\n",
              "      <th>Driver Did Not Maneuver to Avoid</th>\n",
              "      <td>20.703492</td>\n",
              "    </tr>\n",
              "    <tr>\n",
              "      <th>Contact Motor Vehicle (In this crash)</th>\n",
              "      <td>6.936220</td>\n",
              "    </tr>\n",
              "    <tr>\n",
              "      <th>Reported as Unknown</th>\n",
              "      <td>2.595217</td>\n",
              "    </tr>\n",
              "    <tr>\n",
              "      <th>Pedestrian, Pedalcyclist or Other Non-Motorist</th>\n",
              "      <td>1.705336</td>\n",
              "    </tr>\n",
              "    <tr>\n",
              "      <th>Phantom/Non-Contact Motor Vehicle</th>\n",
              "      <td>1.011229</td>\n",
              "    </tr>\n",
              "    <tr>\n",
              "      <th>No Driver Present/Unknown if Driver present</th>\n",
              "      <td>0.640714</td>\n",
              "    </tr>\n",
              "    <tr>\n",
              "      <th>Live Animal</th>\n",
              "      <td>0.163415</td>\n",
              "    </tr>\n",
              "    <tr>\n",
              "      <th>Object</th>\n",
              "      <td>0.152089</td>\n",
              "    </tr>\n",
              "    <tr>\n",
              "      <th>Poor Road Conditions (Puddle, Ice, Pothole, etc.)</th>\n",
              "      <td>0.021034</td>\n",
              "    </tr>\n",
              "  </tbody>\n",
              "</table>\n",
              "</div><br><label><b>dtype:</b> float64</label>"
            ]
          },
          "metadata": {},
          "execution_count": 13
        }
      ]
    },
    {
      "cell_type": "markdown",
      "source": [
        "# MIACC.CSV, MIDRVACC.CSV, MIPER.CSV\n",
        "Für unser Projekt, das sich auf die Vorhersage tödlicher Unfälle und die Identifikation relevanter Risikofaktoren konzentriert, sind MIACC.CSV, MIDRVACC.CSV und MIPER.CSV optional, da grundlegende Alkoholindikatoren bereits in den zentralen Datensätzen (wie person.csv, z. B. über die Variable DRINKING) enthalten sein können.\n"
      ],
      "metadata": {
        "id": "nQ4P8N2XnKm8"
      }
    },
    {
      "cell_type": "markdown",
      "source": [
        "# nmcrash.csv\n",
        "Für unseren Fokus auf die Vorhersage tödlicher Unfälle und die Analyse zentraler Risikofaktoren ist nmcrash.csv nicht zwingend erforderlich, da sie sich speziell auf Handlungen von Personen bezieht, die keine Insassen von Kraftfahrzeugen sind (z. B. Fußgänger oder Fahrradfahrer), welche in unserer Kernanalyse nur einen untergeordneten Aspekt darstellen."
      ],
      "metadata": {
        "id": "SIRHE64wlC_2"
      }
    },
    {
      "cell_type": "code",
      "source": [
        "df = pd.read_csv('nmcrash.csv', encoding='ISO-8859-1')\n",
        "df.columns\n",
        "df['NMCC'].value_counts(normalize=True, dropna=False).head(5) * 100\n",
        "df['NMCCNAME'].value_counts(normalize=True, dropna=False).head(5) * 100"
      ],
      "metadata": {
        "colab": {
          "base_uri": "https://localhost:8080/",
          "height": 0
        },
        "id": "hY6mffrdlSdx",
        "outputId": "f80b7238-3842-4892-de6c-6c09bb985e2d"
      },
      "execution_count": 14,
      "outputs": [
        {
          "output_type": "execute_result",
          "data": {
            "text/plain": [
              "NMCCNAME\n",
              "Failure to Yield Right-Of-Way                                      34.353636\n",
              "None Noted                                                         17.371038\n",
              "Improper Crossing of Roadway or Intersection (Jaywalking)          11.513362\n",
              "In Roadway Improperly (Standing, Lying, Working, Playing, etc.)     7.753263\n",
              "Not Visible (Dark clothing, No Lighting, etc.)                      7.193909\n",
              "Name: proportion, dtype: float64"
            ],
            "text/html": [
              "<div>\n",
              "<style scoped>\n",
              "    .dataframe tbody tr th:only-of-type {\n",
              "        vertical-align: middle;\n",
              "    }\n",
              "\n",
              "    .dataframe tbody tr th {\n",
              "        vertical-align: top;\n",
              "    }\n",
              "\n",
              "    .dataframe thead th {\n",
              "        text-align: right;\n",
              "    }\n",
              "</style>\n",
              "<table border=\"1\" class=\"dataframe\">\n",
              "  <thead>\n",
              "    <tr style=\"text-align: right;\">\n",
              "      <th></th>\n",
              "      <th>proportion</th>\n",
              "    </tr>\n",
              "    <tr>\n",
              "      <th>NMCCNAME</th>\n",
              "      <th></th>\n",
              "    </tr>\n",
              "  </thead>\n",
              "  <tbody>\n",
              "    <tr>\n",
              "      <th>Failure to Yield Right-Of-Way</th>\n",
              "      <td>34.353636</td>\n",
              "    </tr>\n",
              "    <tr>\n",
              "      <th>None Noted</th>\n",
              "      <td>17.371038</td>\n",
              "    </tr>\n",
              "    <tr>\n",
              "      <th>Improper Crossing of Roadway or Intersection (Jaywalking)</th>\n",
              "      <td>11.513362</td>\n",
              "    </tr>\n",
              "    <tr>\n",
              "      <th>In Roadway Improperly (Standing, Lying, Working, Playing, etc.)</th>\n",
              "      <td>7.753263</td>\n",
              "    </tr>\n",
              "    <tr>\n",
              "      <th>Not Visible (Dark clothing, No Lighting, etc.)</th>\n",
              "      <td>7.193909</td>\n",
              "    </tr>\n",
              "  </tbody>\n",
              "</table>\n",
              "</div><br><label><b>dtype:</b> float64</label>"
            ]
          },
          "metadata": {},
          "execution_count": 14
        }
      ]
    },
    {
      "cell_type": "markdown",
      "source": [
        "# nmdistract.csv\n",
        "Für unser Projekt, das sich auf die Vorhersage tödlicher Unfälle und die Analyse zentraler Risikofaktoren konzentriert, ist nmdistract.csv nicht zwingend notwendig, da diese Datei Ablenkungen von Personen erfasst, die keine Insassen von Kraftfahrzeugen sind – ein Aspekt, der in unserer Kernanalyse nur eine untergeordnete Rolle spielt."
      ],
      "metadata": {
        "id": "BCFl3A1gbI8k"
      }
    },
    {
      "cell_type": "code",
      "source": [
        "df = pd.read_csv('nmdistract.csv', encoding='ISO-8859-1')\n",
        "df.columns\n",
        "\n",
        "df['NMDISTRACT'].value_counts(normalize=True, dropna=False).head(5) * 100\n",
        "df['NMDISTRACTNAME'].value_counts(normalize=True, dropna=False).head(15) * 100"
      ],
      "metadata": {
        "colab": {
          "base_uri": "https://localhost:8080/",
          "height": 0
        },
        "id": "DZE-9ha6bU2U",
        "outputId": "6412de9c-adf6-46f4-9bea-806ab6cfad25"
      },
      "execution_count": 15,
      "outputs": [
        {
          "output_type": "execute_result",
          "data": {
            "text/plain": [
              "NMDISTRACTNAME\n",
              "Not Reported                                                               77.532468\n",
              "Not Distracted                                                             11.764069\n",
              "Reported as Unknown if Distracted                                           7.337662\n",
              "Inattention (Inattentive), Details Unknown                                  0.963203\n",
              "Distraction (Distracted), Details Unknown                                   0.746753\n",
              "Distracted by Animal, Other Object, Event, or Activity                      0.465368\n",
              "Distraction/Inattention                                                     0.270563\n",
              "By Other Non-Motorist(s)                                                    0.205628\n",
              "While Talking or Listening to Mobile Phone                                  0.194805\n",
              "Other Distraction (Specify:)                                                0.129870\n",
              "While Manipulating Mobile Phone                                             0.086580\n",
              "Other Mobile Phone Related                                                  0.075758\n",
              "By a Driver or Occupant of a Motor Vehicle                                  0.064935\n",
              "Adjusting, Talking to, or Manipulating Other Portable Electronic Device     0.054113\n",
              "Eating or Drinking                                                          0.043290\n",
              "Name: proportion, dtype: float64"
            ],
            "text/html": [
              "<div>\n",
              "<style scoped>\n",
              "    .dataframe tbody tr th:only-of-type {\n",
              "        vertical-align: middle;\n",
              "    }\n",
              "\n",
              "    .dataframe tbody tr th {\n",
              "        vertical-align: top;\n",
              "    }\n",
              "\n",
              "    .dataframe thead th {\n",
              "        text-align: right;\n",
              "    }\n",
              "</style>\n",
              "<table border=\"1\" class=\"dataframe\">\n",
              "  <thead>\n",
              "    <tr style=\"text-align: right;\">\n",
              "      <th></th>\n",
              "      <th>proportion</th>\n",
              "    </tr>\n",
              "    <tr>\n",
              "      <th>NMDISTRACTNAME</th>\n",
              "      <th></th>\n",
              "    </tr>\n",
              "  </thead>\n",
              "  <tbody>\n",
              "    <tr>\n",
              "      <th>Not Reported</th>\n",
              "      <td>77.532468</td>\n",
              "    </tr>\n",
              "    <tr>\n",
              "      <th>Not Distracted</th>\n",
              "      <td>11.764069</td>\n",
              "    </tr>\n",
              "    <tr>\n",
              "      <th>Reported as Unknown if Distracted</th>\n",
              "      <td>7.337662</td>\n",
              "    </tr>\n",
              "    <tr>\n",
              "      <th>Inattention (Inattentive), Details Unknown</th>\n",
              "      <td>0.963203</td>\n",
              "    </tr>\n",
              "    <tr>\n",
              "      <th>Distraction (Distracted), Details Unknown</th>\n",
              "      <td>0.746753</td>\n",
              "    </tr>\n",
              "    <tr>\n",
              "      <th>Distracted by Animal, Other Object, Event, or Activity</th>\n",
              "      <td>0.465368</td>\n",
              "    </tr>\n",
              "    <tr>\n",
              "      <th>Distraction/Inattention</th>\n",
              "      <td>0.270563</td>\n",
              "    </tr>\n",
              "    <tr>\n",
              "      <th>By Other Non-Motorist(s)</th>\n",
              "      <td>0.205628</td>\n",
              "    </tr>\n",
              "    <tr>\n",
              "      <th>While Talking or Listening to Mobile Phone</th>\n",
              "      <td>0.194805</td>\n",
              "    </tr>\n",
              "    <tr>\n",
              "      <th>Other Distraction (Specify:)</th>\n",
              "      <td>0.129870</td>\n",
              "    </tr>\n",
              "    <tr>\n",
              "      <th>While Manipulating Mobile Phone</th>\n",
              "      <td>0.086580</td>\n",
              "    </tr>\n",
              "    <tr>\n",
              "      <th>Other Mobile Phone Related</th>\n",
              "      <td>0.075758</td>\n",
              "    </tr>\n",
              "    <tr>\n",
              "      <th>By a Driver or Occupant of a Motor Vehicle</th>\n",
              "      <td>0.064935</td>\n",
              "    </tr>\n",
              "    <tr>\n",
              "      <th>Adjusting, Talking to, or Manipulating Other Portable Electronic Device</th>\n",
              "      <td>0.054113</td>\n",
              "    </tr>\n",
              "    <tr>\n",
              "      <th>Eating or Drinking</th>\n",
              "      <td>0.043290</td>\n",
              "    </tr>\n",
              "  </tbody>\n",
              "</table>\n",
              "</div><br><label><b>dtype:</b> float64</label>"
            ]
          },
          "metadata": {},
          "execution_count": 15
        }
      ]
    },
    {
      "cell_type": "markdown",
      "source": [
        "# nmimpair.csv\n",
        "Für unseren Analysefokus ist nmimpair.csv nicht zwingend erforderlich, da es Informationen zu körperlichen Beeinträchtigungen von Personen liefert, die keine Insassen von Kraftfahrzeugen sind – ein Aspekt, der im Rahmen der Vorhersage tödlicher Unfälle eher eine untergeordnete Rolle spielt."
      ],
      "metadata": {
        "id": "vVMhw24jXugh"
      }
    },
    {
      "cell_type": "code",
      "source": [
        "df = pd.read_csv('nmimpair.csv', encoding='ISO-8859-1')\n",
        "df.columns\n",
        "df['NMIMPAIR'].value_counts(normalize=True, dropna=False).head(5) * 100\n",
        "df['NMIMPAIRNAME'].value_counts(normalize=True, dropna=False).head(5) * 100"
      ],
      "metadata": {
        "colab": {
          "base_uri": "https://localhost:8080/",
          "height": 0
        },
        "id": "4CBIALQuX0HI",
        "outputId": "9333bc9e-d2cd-41ee-d7b4-e0037261cf0f"
      },
      "execution_count": 16,
      "outputs": [
        {
          "output_type": "execute_result",
          "data": {
            "text/plain": [
              "NMIMPAIRNAME\n",
              "Not Reported                                           41.647770\n",
              "Reported as Unknown if Impaired                        28.949358\n",
              "None/Apparently Normal                                 18.280963\n",
              "Under the Influence of Alcohol, Drugs or Medication     8.778750\n",
              "Physical Impairment - No Details                        0.637080\n",
              "Name: proportion, dtype: float64"
            ],
            "text/html": [
              "<div>\n",
              "<style scoped>\n",
              "    .dataframe tbody tr th:only-of-type {\n",
              "        vertical-align: middle;\n",
              "    }\n",
              "\n",
              "    .dataframe tbody tr th {\n",
              "        vertical-align: top;\n",
              "    }\n",
              "\n",
              "    .dataframe thead th {\n",
              "        text-align: right;\n",
              "    }\n",
              "</style>\n",
              "<table border=\"1\" class=\"dataframe\">\n",
              "  <thead>\n",
              "    <tr style=\"text-align: right;\">\n",
              "      <th></th>\n",
              "      <th>proportion</th>\n",
              "    </tr>\n",
              "    <tr>\n",
              "      <th>NMIMPAIRNAME</th>\n",
              "      <th></th>\n",
              "    </tr>\n",
              "  </thead>\n",
              "  <tbody>\n",
              "    <tr>\n",
              "      <th>Not Reported</th>\n",
              "      <td>41.647770</td>\n",
              "    </tr>\n",
              "    <tr>\n",
              "      <th>Reported as Unknown if Impaired</th>\n",
              "      <td>28.949358</td>\n",
              "    </tr>\n",
              "    <tr>\n",
              "      <th>None/Apparently Normal</th>\n",
              "      <td>18.280963</td>\n",
              "    </tr>\n",
              "    <tr>\n",
              "      <th>Under the Influence of Alcohol, Drugs or Medication</th>\n",
              "      <td>8.778750</td>\n",
              "    </tr>\n",
              "    <tr>\n",
              "      <th>Physical Impairment - No Details</th>\n",
              "      <td>0.637080</td>\n",
              "    </tr>\n",
              "  </tbody>\n",
              "</table>\n",
              "</div><br><label><b>dtype:</b> float64</label>"
            ]
          },
          "metadata": {},
          "execution_count": 16
        }
      ]
    },
    {
      "cell_type": "markdown",
      "source": [
        "# nmprior.csv\n",
        "Für unseren Analysefokus ist nmprior.csv nicht zentral, da diese Datei ausschließlich das Verhalten von Personen dokumentiert, die keine Insassen sind (z. B. Fußgänger und Fahrradfahrer), und somit nur einen untergeordneten Aspekt des Unfallgeschehens abdeckt."
      ],
      "metadata": {
        "id": "2A6ph9PrWD7N"
      }
    },
    {
      "cell_type": "code",
      "source": [
        "df = pd.read_csv('nmprior.csv', encoding='ISO-8859-1')\n",
        "df.columns\n",
        "\n",
        "df['NMACTION'].value_counts(normalize=False, dropna=False).head(5)\n",
        "df['NMACTIONNAME'].value_counts(normalize=False, dropna=False).head(5)"
      ],
      "metadata": {
        "colab": {
          "base_uri": "https://localhost:8080/",
          "height": 0
        },
        "id": "0tcmYfFaWDp5",
        "outputId": "f0102ae0-f14c-45c6-b4b8-30dc18090df2"
      },
      "execution_count": 17,
      "outputs": [
        {
          "output_type": "execute_result",
          "data": {
            "text/plain": [
              "NMACTIONNAME\n",
              "Crossing Roadway                                                          4818\n",
              "Movement Along Roadway with Traffic (In or Adjacent to Travel Lane)       1350\n",
              "In Roadway - Other (Working, Playing, Etc.)                               1035\n",
              "Disabled Vehicle Related (Working on, Pushing, Leaving/Approaching)        596\n",
              "Movement Along Roadway Against Traffic (In or Adjacent to Travel Lane)     302\n",
              "Name: count, dtype: int64"
            ],
            "text/html": [
              "<div>\n",
              "<style scoped>\n",
              "    .dataframe tbody tr th:only-of-type {\n",
              "        vertical-align: middle;\n",
              "    }\n",
              "\n",
              "    .dataframe tbody tr th {\n",
              "        vertical-align: top;\n",
              "    }\n",
              "\n",
              "    .dataframe thead th {\n",
              "        text-align: right;\n",
              "    }\n",
              "</style>\n",
              "<table border=\"1\" class=\"dataframe\">\n",
              "  <thead>\n",
              "    <tr style=\"text-align: right;\">\n",
              "      <th></th>\n",
              "      <th>count</th>\n",
              "    </tr>\n",
              "    <tr>\n",
              "      <th>NMACTIONNAME</th>\n",
              "      <th></th>\n",
              "    </tr>\n",
              "  </thead>\n",
              "  <tbody>\n",
              "    <tr>\n",
              "      <th>Crossing Roadway</th>\n",
              "      <td>4818</td>\n",
              "    </tr>\n",
              "    <tr>\n",
              "      <th>Movement Along Roadway with Traffic (In or Adjacent to Travel Lane)</th>\n",
              "      <td>1350</td>\n",
              "    </tr>\n",
              "    <tr>\n",
              "      <th>In Roadway - Other (Working, Playing, Etc.)</th>\n",
              "      <td>1035</td>\n",
              "    </tr>\n",
              "    <tr>\n",
              "      <th>Disabled Vehicle Related (Working on, Pushing, Leaving/Approaching)</th>\n",
              "      <td>596</td>\n",
              "    </tr>\n",
              "    <tr>\n",
              "      <th>Movement Along Roadway Against Traffic (In or Adjacent to Travel Lane)</th>\n",
              "      <td>302</td>\n",
              "    </tr>\n",
              "  </tbody>\n",
              "</table>\n",
              "</div><br><label><b>dtype:</b> int64</label>"
            ]
          },
          "metadata": {},
          "execution_count": 17
        }
      ]
    },
    {
      "cell_type": "markdown",
      "source": [
        "# parkwork.csv\n",
        "Da sich unser Analysefokus auf Unfälle im laufenden Verkehr und die damit verbundenen Unfall- sowie Fahrzeugmerkmale konzentriert, liefert parkwork.csv, das Informationen zu geparkten bzw. im Einsatz befindlichen Fahrzeugen enthält, keine zusätzlichen relevanten Erkenntnisse. Daher wird parkwork.csv in unserem Code nicht berücksichtigt."
      ],
      "metadata": {
        "id": "TkfYJycDkFJG"
      }
    },
    {
      "cell_type": "code",
      "source": [
        "df = pd.read_csv('parkwork.csv', encoding='ISO-8859-1')\n",
        "df.columns"
      ],
      "metadata": {
        "colab": {
          "base_uri": "https://localhost:8080/"
        },
        "id": "qV0X7L_ekaZw",
        "outputId": "5afffa2f-56c1-4a24-ff65-91a5011301de"
      },
      "execution_count": 18,
      "outputs": [
        {
          "output_type": "execute_result",
          "data": {
            "text/plain": [
              "Index(['STATE', 'STATENAME', 'ST_CASE', 'VEH_NO', 'PVE_FORMS', 'PMONTH',\n",
              "       'PMONTHNAME', 'PDAY', 'PDAYNAME', 'PHOUR',\n",
              "       ...\n",
              "       'PVIN_4', 'PVIN_5', 'PVIN_6', 'PVIN_7', 'PVIN_8', 'PVIN_9', 'PVIN_10',\n",
              "       'PVIN_11', 'PVIN_12', 'PDEATHS'],\n",
              "      dtype='object', length=115)"
            ]
          },
          "metadata": {},
          "execution_count": 18
        }
      ]
    },
    {
      "cell_type": "markdown",
      "source": [
        "# pbtype.csv\n",
        "Für den Fokus „Vorhersage eines tödlichen Unfalls und Identifikation relevanter Einflussfaktoren“ ist pbtype.csv nicht zentral, da diese Datei speziell Unfälle zwischen Kraftfahrzeugen und Fußgängern, Fahrradfahrern sowie Personen auf privaten Transportmitteln dokumentiert – ein relativ spezieller Fall, der in der Gesamtanalyse nur eine untergeordnete Rolle spielt."
      ],
      "metadata": {
        "id": "Xws-k-KcVNsy"
      }
    },
    {
      "cell_type": "markdown",
      "source": [
        "# person.csv\n",
        "Ja, person.csv ist essenziell, da sie detaillierte Informationen zu allen am Unfall beteiligten Personen liefert – von Fahrern über Passagiere bis hin zu Fußgängern."
      ],
      "metadata": {
        "id": "nCyRiFTq2L1t"
      }
    },
    {
      "cell_type": "markdown",
      "source": [
        "# personrf.csv\n",
        "Für unseren Fokus ist personrf.csv nicht zwingend erforderlich, da die wesentlichen Personeninformationen bereits in person.csv enthalten sind. Die personrf.csv liefert ergänzende Faktoren zu jeder am Unfall beteiligten Person (sowohl Insassen als auch Nicht-Insassen), was für weiterführende Analysen interessant sein könnte, aber für die grundlegende Vorhersage tödlicher Unfälle weniger zentral ist."
      ],
      "metadata": {
        "id": "0eA2y72OYx9v"
      }
    },
    {
      "cell_type": "code",
      "source": [
        "df = pd.read_csv('personrf.csv', encoding='ISO-8859-1')\n",
        "df.columns\n",
        "df['PERSONRF'].value_counts(normalize=True, dropna=False).head(5) * 100\n",
        "df['PERSONRFNAME'].value_counts(normalize=True, dropna=False).head(5) * 100"
      ],
      "metadata": {
        "colab": {
          "base_uri": "https://localhost:8080/",
          "height": 0
        },
        "id": "mOr8gAPNY2ya",
        "outputId": "acfa86a4-144d-467e-b302-0d2c8eb8abea"
      },
      "execution_count": 19,
      "outputs": [
        {
          "output_type": "execute_result",
          "data": {
            "text/plain": [
              "PERSONRFNAME\n",
              "NaN                                        99.093547\n",
              "*Traveling on Prohibited Trafficways        0.246096\n",
              "Reported as Unknown                         0.181496\n",
              "Non-Operator Flees Scene                    0.061524\n",
              "Construction/Maintenance/Utility Worker     0.043067\n",
              "Name: proportion, dtype: float64"
            ],
            "text/html": [
              "<div>\n",
              "<style scoped>\n",
              "    .dataframe tbody tr th:only-of-type {\n",
              "        vertical-align: middle;\n",
              "    }\n",
              "\n",
              "    .dataframe tbody tr th {\n",
              "        vertical-align: top;\n",
              "    }\n",
              "\n",
              "    .dataframe thead th {\n",
              "        text-align: right;\n",
              "    }\n",
              "</style>\n",
              "<table border=\"1\" class=\"dataframe\">\n",
              "  <thead>\n",
              "    <tr style=\"text-align: right;\">\n",
              "      <th></th>\n",
              "      <th>proportion</th>\n",
              "    </tr>\n",
              "    <tr>\n",
              "      <th>PERSONRFNAME</th>\n",
              "      <th></th>\n",
              "    </tr>\n",
              "  </thead>\n",
              "  <tbody>\n",
              "    <tr>\n",
              "      <th>NaN</th>\n",
              "      <td>99.093547</td>\n",
              "    </tr>\n",
              "    <tr>\n",
              "      <th>*Traveling on Prohibited Trafficways</th>\n",
              "      <td>0.246096</td>\n",
              "    </tr>\n",
              "    <tr>\n",
              "      <th>Reported as Unknown</th>\n",
              "      <td>0.181496</td>\n",
              "    </tr>\n",
              "    <tr>\n",
              "      <th>Non-Operator Flees Scene</th>\n",
              "      <td>0.061524</td>\n",
              "    </tr>\n",
              "    <tr>\n",
              "      <th>Construction/Maintenance/Utility Worker</th>\n",
              "      <td>0.043067</td>\n",
              "    </tr>\n",
              "  </tbody>\n",
              "</table>\n",
              "</div><br><label><b>dtype:</b> float64</label>"
            ]
          },
          "metadata": {},
          "execution_count": 19
        }
      ]
    },
    {
      "cell_type": "markdown",
      "source": [
        "# pvehiclesf.csv\n",
        "Für unser Projekt, das sich auf die Vorhersage tödlicher Unfälle konzentriert, ist pvehiclesf.csv nicht zwingend erforderlich, da sie Faktoren zu geparkten und im Einsatz befindlichen Fahrzeugen enthält – Aspekte, die für unsere Kernanalyse weniger relevant sind."
      ],
      "metadata": {
        "id": "kumlLtlMuf10"
      }
    },
    {
      "cell_type": "code",
      "source": [
        "df = pd.read_csv('pvehiclesf.csv', encoding='ISO-8859-1')\n",
        "df.columns\n",
        "df['PVEHICLESF'].value_counts(normalize=True, dropna=False).head(10) * 100\n",
        "df['PVEHICLESFNAME'].value_counts(normalize=True, dropna=False).head(10) * 100"
      ],
      "metadata": {
        "colab": {
          "base_uri": "https://localhost:8080/",
          "height": 0
        },
        "id": "bMtLxpsBufjU",
        "outputId": "fd468d47-4ae2-48cd-ec56-0bf3c7aeeb82"
      },
      "execution_count": 20,
      "outputs": [
        {
          "output_type": "execute_result",
          "data": {
            "text/plain": [
              "PVEHICLESFNAME\n",
              "NaN                                                                                                                 98.814898\n",
              "Other Working Vehicle (Not Construction, Maintenance, Utility, Police, Fire, or EMS Vehicle)                         0.620767\n",
              "Police, Fire, or EMS Vehicle Working at the Scene of an Emergency or Performing Other Traffic Control Activities     0.451467\n",
              "Reported as Unknown                                                                                                  0.112867\n",
              "Name: proportion, dtype: float64"
            ],
            "text/html": [
              "<div>\n",
              "<style scoped>\n",
              "    .dataframe tbody tr th:only-of-type {\n",
              "        vertical-align: middle;\n",
              "    }\n",
              "\n",
              "    .dataframe tbody tr th {\n",
              "        vertical-align: top;\n",
              "    }\n",
              "\n",
              "    .dataframe thead th {\n",
              "        text-align: right;\n",
              "    }\n",
              "</style>\n",
              "<table border=\"1\" class=\"dataframe\">\n",
              "  <thead>\n",
              "    <tr style=\"text-align: right;\">\n",
              "      <th></th>\n",
              "      <th>proportion</th>\n",
              "    </tr>\n",
              "    <tr>\n",
              "      <th>PVEHICLESFNAME</th>\n",
              "      <th></th>\n",
              "    </tr>\n",
              "  </thead>\n",
              "  <tbody>\n",
              "    <tr>\n",
              "      <th>NaN</th>\n",
              "      <td>98.814898</td>\n",
              "    </tr>\n",
              "    <tr>\n",
              "      <th>Other Working Vehicle (Not Construction, Maintenance, Utility, Police, Fire, or EMS Vehicle)</th>\n",
              "      <td>0.620767</td>\n",
              "    </tr>\n",
              "    <tr>\n",
              "      <th>Police, Fire, or EMS Vehicle Working at the Scene of an Emergency or Performing Other Traffic Control Activities</th>\n",
              "      <td>0.451467</td>\n",
              "    </tr>\n",
              "    <tr>\n",
              "      <th>Reported as Unknown</th>\n",
              "      <td>0.112867</td>\n",
              "    </tr>\n",
              "  </tbody>\n",
              "</table>\n",
              "</div><br><label><b>dtype:</b> float64</label>"
            ]
          },
          "metadata": {},
          "execution_count": 20
        }
      ]
    },
    {
      "cell_type": "markdown",
      "source": [
        "# race.csv\n",
        "Der Datensatz `race.csv` liefert zwar Rasseninformationen der verstorbenen Personen, jedoch sind diese Daten für die Vorhersage tödlicher Unfälle nicht zentral."
      ],
      "metadata": {
        "id": "2_x7409jiYqT"
      }
    },
    {
      "cell_type": "code",
      "source": [
        "df = pd.read_csv('race.csv', encoding='ISO-8859-1')\n",
        "df.columns"
      ],
      "metadata": {
        "colab": {
          "base_uri": "https://localhost:8080/"
        },
        "id": "Q0b_URoKdsCv",
        "outputId": "c9721267-fe4a-4ea4-b97b-47d625e7d132"
      },
      "execution_count": 21,
      "outputs": [
        {
          "output_type": "stream",
          "name": "stderr",
          "text": [
            "<ipython-input-21-42aabc386a14>:1: DtypeWarning: Columns (8) have mixed types. Specify dtype option on import or set low_memory=False.\n",
            "  df = pd.read_csv('race.csv', encoding='ISO-8859-1')\n"
          ]
        },
        {
          "output_type": "execute_result",
          "data": {
            "text/plain": [
              "Index(['STATE', 'STATENAME', 'ST_CASE', 'VEH_NO', 'PER_NO', 'RACE', 'RACENAME',\n",
              "       'ORDER', 'ORDERNAME', 'MULTRACE', 'MULTRACENAME'],\n",
              "      dtype='object')"
            ]
          },
          "metadata": {},
          "execution_count": 21
        }
      ]
    },
    {
      "cell_type": "markdown",
      "source": [
        "# safetyeq.csv\n",
        "Für unseren Fokus auf die Vorhersage tödlicher Unfälle ist safetyeq.csv nicht zwingend erforderlich, da diese Datei vor allem die von Personen (die keine Insassen in Kraftfahrzeugen sind) verwendete Sicherheitsausrüstung dokumentiert – ein Aspekt, der in unserer Kernanalyse nur eine untergeordnete Rolle spielt."
      ],
      "metadata": {
        "id": "6diKLDfzyR5t"
      }
    },
    {
      "cell_type": "code",
      "source": [
        "df = pd.read_csv('safetyeq.csv', encoding='ISO-8859-1')\n",
        "df.columns\n",
        "df['NMHELMET'].value_counts(normalize=True, dropna=False).head(10) * 100\n",
        "df['NMHELMETNAME'].value_counts(normalize=True, dropna=False).head(10) * 100\n",
        "df['NMPROPAD'].value_counts(normalize=True, dropna=False).head(10) * 100\n",
        "df['NMPROPADNAME'].value_counts(normalize=True, dropna=False).head(10) * 100\n",
        "df['NMOTHPRO'].value_counts(normalize=True, dropna=False).head(10) * 100\n",
        "df['NMOTHPRONAME'].value_counts(normalize=True, dropna=False).head(10) * 100\n",
        "df['NMREFCLO'].value_counts(normalize=True, dropna=False).head(10) * 100\n",
        "df['NMREFCLONAME'].value_counts(normalize=True, dropna=False).head(10) * 100\n",
        "df['NMLIGHT'].value_counts(normalize=True, dropna=False).head(10) * 100\n",
        "df['NMLIGHTNAME'].value_counts(normalize=True, dropna=False).head(10) * 100\n",
        "df['NMOTHPRE'].value_counts(normalize=True, dropna=False).head(10) * 100\n",
        "df['NMOTHPRENAME'].value_counts(normalize=True, dropna=False).head(10) * 100"
      ],
      "metadata": {
        "colab": {
          "base_uri": "https://localhost:8080/",
          "height": 0
        },
        "id": "B_Z7NW67yiJ3",
        "outputId": "3b1d807b-3e75-4305-9880-eaa7b31676f2"
      },
      "execution_count": 22,
      "outputs": [
        {
          "output_type": "execute_result",
          "data": {
            "text/plain": [
              "NMOTHPRENAME\n",
              "Not Reported           68.511099\n",
              "No                     30.720087\n",
              "Reported as Unknown     0.476448\n",
              "Yes                     0.292366\n",
              "Name: proportion, dtype: float64"
            ],
            "text/html": [
              "<div>\n",
              "<style scoped>\n",
              "    .dataframe tbody tr th:only-of-type {\n",
              "        vertical-align: middle;\n",
              "    }\n",
              "\n",
              "    .dataframe tbody tr th {\n",
              "        vertical-align: top;\n",
              "    }\n",
              "\n",
              "    .dataframe thead th {\n",
              "        text-align: right;\n",
              "    }\n",
              "</style>\n",
              "<table border=\"1\" class=\"dataframe\">\n",
              "  <thead>\n",
              "    <tr style=\"text-align: right;\">\n",
              "      <th></th>\n",
              "      <th>proportion</th>\n",
              "    </tr>\n",
              "    <tr>\n",
              "      <th>NMOTHPRENAME</th>\n",
              "      <th></th>\n",
              "    </tr>\n",
              "  </thead>\n",
              "  <tbody>\n",
              "    <tr>\n",
              "      <th>Not Reported</th>\n",
              "      <td>68.511099</td>\n",
              "    </tr>\n",
              "    <tr>\n",
              "      <th>No</th>\n",
              "      <td>30.720087</td>\n",
              "    </tr>\n",
              "    <tr>\n",
              "      <th>Reported as Unknown</th>\n",
              "      <td>0.476448</td>\n",
              "    </tr>\n",
              "    <tr>\n",
              "      <th>Yes</th>\n",
              "      <td>0.292366</td>\n",
              "    </tr>\n",
              "  </tbody>\n",
              "</table>\n",
              "</div><br><label><b>dtype:</b> float64</label>"
            ]
          },
          "metadata": {},
          "execution_count": 22
        }
      ]
    },
    {
      "cell_type": "markdown",
      "source": [
        "# vehicle.csv\n",
        "Ja, vehicle.csv ist für unser Projekt essenziell, da es umfassende Informationen zu den im Transport befindlichen Fahrzeugen liefert – beispielsweise zu Fahrzeugtyp, Hersteller, Modell, Baujahr, Unfallbedingungen und spezifischen Fahrzeugzuständen –, die als potenzielle Einflussfaktoren für die Unfallfatalität berücksichtigt werden können."
      ],
      "metadata": {
        "id": "0fue6sK314wL"
      }
    },
    {
      "cell_type": "markdown",
      "source": [
        "# vehiclesf.csv\n",
        "Da über 99 % der Einträge in `vehiclesf.csv` in der Spalte `VEHICLESFNAME` leer (NaN) sind, liegen kaum verwertbare Informationen vor. Deshalb bietet dieser Datensatz keinen Mehrwert für die Analyse und wird nicht weiter berücksichtigt."
      ],
      "metadata": {
        "id": "thPyvAXZmLWs"
      }
    },
    {
      "cell_type": "code",
      "source": [
        "df = pd.read_csv(\"vehiclesf.csv\", encoding='ISO-8859-1')\n",
        "df.columns\n",
        "df['VEHICLESF'].value_counts(normalize=True, dropna=False).head(5) * 100\n",
        "df['VEHICLESFNAME'].value_counts(normalize=True, dropna=False).head(5) * 100"
      ],
      "metadata": {
        "colab": {
          "base_uri": "https://localhost:8080/",
          "height": 0
        },
        "id": "qPuJLvlajib3",
        "outputId": "6ddcae07-c727-4c27-a6da-1e293b235983"
      },
      "execution_count": 23,
      "outputs": [
        {
          "output_type": "execute_result",
          "data": {
            "text/plain": [
              "VEHICLESFNAME\n",
              "NaN                                                                                                                 98.993576\n",
              "Reported as Unknown                                                                                                  0.440108\n",
              "Vehicle Registration for a Person with a Disability                                                                  0.326845\n",
              "Other Working Vehicle (Not Construction, Maintenance, Utility, Police, Fire, or EMS Vehicle)                         0.092229\n",
              "Police, Fire, or EMS Vehicle Working at the Scene of an Emergency or Performing Other Traffic Control Activities     0.045305\n",
              "Name: proportion, dtype: float64"
            ],
            "text/html": [
              "<div>\n",
              "<style scoped>\n",
              "    .dataframe tbody tr th:only-of-type {\n",
              "        vertical-align: middle;\n",
              "    }\n",
              "\n",
              "    .dataframe tbody tr th {\n",
              "        vertical-align: top;\n",
              "    }\n",
              "\n",
              "    .dataframe thead th {\n",
              "        text-align: right;\n",
              "    }\n",
              "</style>\n",
              "<table border=\"1\" class=\"dataframe\">\n",
              "  <thead>\n",
              "    <tr style=\"text-align: right;\">\n",
              "      <th></th>\n",
              "      <th>proportion</th>\n",
              "    </tr>\n",
              "    <tr>\n",
              "      <th>VEHICLESFNAME</th>\n",
              "      <th></th>\n",
              "    </tr>\n",
              "  </thead>\n",
              "  <tbody>\n",
              "    <tr>\n",
              "      <th>NaN</th>\n",
              "      <td>98.993576</td>\n",
              "    </tr>\n",
              "    <tr>\n",
              "      <th>Reported as Unknown</th>\n",
              "      <td>0.440108</td>\n",
              "    </tr>\n",
              "    <tr>\n",
              "      <th>Vehicle Registration for a Person with a Disability</th>\n",
              "      <td>0.326845</td>\n",
              "    </tr>\n",
              "    <tr>\n",
              "      <th>Other Working Vehicle (Not Construction, Maintenance, Utility, Police, Fire, or EMS Vehicle)</th>\n",
              "      <td>0.092229</td>\n",
              "    </tr>\n",
              "    <tr>\n",
              "      <th>Police, Fire, or EMS Vehicle Working at the Scene of an Emergency or Performing Other Traffic Control Activities</th>\n",
              "      <td>0.045305</td>\n",
              "    </tr>\n",
              "  </tbody>\n",
              "</table>\n",
              "</div><br><label><b>dtype:</b> float64</label>"
            ]
          },
          "metadata": {},
          "execution_count": 23
        }
      ]
    },
    {
      "cell_type": "markdown",
      "source": [
        "# vevent.csv"
      ],
      "metadata": {
        "id": "3lrAvYmQZsbA"
      }
    },
    {
      "cell_type": "code",
      "source": [
        "df = pd.read_csv('vevent.csv', encoding='ISO-8859-1')\n",
        "df.columns\n",
        "df['VEVENTNUM'].value_counts(normalize=True, dropna=False).head(5) * 100\n",
        "df['VNUMBER1'].value_counts(normalize=True, dropna=False).head(5) * 100\n",
        "df['AOI1'].value_counts(normalize=True, dropna=False).head(5) * 100\n",
        "df['SOE'].value_counts(normalize=True, dropna=False).head(5) * 100\n",
        "df['SOENAME'].value_counts(normalize=True, dropna=False).head(5) * 100\n",
        "df['VNUMBER2'].value_counts(normalize=True, dropna=False).head(5) * 100\n",
        "df['VNUMBER2NAME'].value_counts(normalize=True, dropna=False).head(5) * 100\n",
        "df['AOI2'].value_counts(normalize=True, dropna=False).head(5) * 100\n",
        "df['AOI2NAME'].value_counts(normalize=True, dropna=False).head(5) * 100"
      ],
      "metadata": {
        "colab": {
          "base_uri": "https://localhost:8080/",
          "height": 0
        },
        "id": "Bz7teYh6ZusV",
        "outputId": "aeddfabe-8355-476a-f597-f93de545d5dd"
      },
      "execution_count": 24,
      "outputs": [
        {
          "output_type": "execute_result",
          "data": {
            "text/plain": [
              "AOI2NAME\n",
              "Not a Motor Vehicle    37.914415\n",
              "Non-Harmful Event      27.953861\n",
              "12 Clock Point         10.718114\n",
              "6 Clock Point           7.190615\n",
              "9 Clock Point           2.481936\n",
              "Name: proportion, dtype: float64"
            ],
            "text/html": [
              "<div>\n",
              "<style scoped>\n",
              "    .dataframe tbody tr th:only-of-type {\n",
              "        vertical-align: middle;\n",
              "    }\n",
              "\n",
              "    .dataframe tbody tr th {\n",
              "        vertical-align: top;\n",
              "    }\n",
              "\n",
              "    .dataframe thead th {\n",
              "        text-align: right;\n",
              "    }\n",
              "</style>\n",
              "<table border=\"1\" class=\"dataframe\">\n",
              "  <thead>\n",
              "    <tr style=\"text-align: right;\">\n",
              "      <th></th>\n",
              "      <th>proportion</th>\n",
              "    </tr>\n",
              "    <tr>\n",
              "      <th>AOI2NAME</th>\n",
              "      <th></th>\n",
              "    </tr>\n",
              "  </thead>\n",
              "  <tbody>\n",
              "    <tr>\n",
              "      <th>Not a Motor Vehicle</th>\n",
              "      <td>37.914415</td>\n",
              "    </tr>\n",
              "    <tr>\n",
              "      <th>Non-Harmful Event</th>\n",
              "      <td>27.953861</td>\n",
              "    </tr>\n",
              "    <tr>\n",
              "      <th>12 Clock Point</th>\n",
              "      <td>10.718114</td>\n",
              "    </tr>\n",
              "    <tr>\n",
              "      <th>6 Clock Point</th>\n",
              "      <td>7.190615</td>\n",
              "    </tr>\n",
              "    <tr>\n",
              "      <th>9 Clock Point</th>\n",
              "      <td>2.481936</td>\n",
              "    </tr>\n",
              "  </tbody>\n",
              "</table>\n",
              "</div><br><label><b>dtype:</b> float64</label>"
            ]
          },
          "metadata": {},
          "execution_count": 24
        }
      ]
    },
    {
      "cell_type": "markdown",
      "source": [
        "# violatn.csv\n",
        "Für unseren Fokus auf die Vorhersage tödlicher Unfälle und die Identifikation zentraler Risikofaktoren ist violatn.csv nicht zwingend erforderlich, da diese Datei Informationen über Fahrerverstöße enthält – Aspekte, die zwar in einer erweiterten Analyse interessant sein könnten, aber für die Kernfragestellung weniger relevant sind."
      ],
      "metadata": {
        "id": "35otnw3flfkF"
      }
    },
    {
      "cell_type": "code",
      "source": [
        "df = pd.read_csv(\"violatn.csv\", encoding='ISO-8859-1')\n",
        "# Tabellenbeginn ausgeben\n",
        "df.columns\n",
        "df['VIOLATION'].value_counts(normalize=True, dropna=False).head(5) * 100\n",
        "df['VIOLATIONNAME'].value_counts(normalize=True, dropna=False).head(5) * 100"
      ],
      "metadata": {
        "colab": {
          "base_uri": "https://localhost:8080/",
          "height": 0
        },
        "id": "ex3gX5yNmGAa",
        "outputId": "8dbf891c-ca89-4e5a-fb9e-442ebbb64a43"
      },
      "execution_count": 25,
      "outputs": [
        {
          "output_type": "execute_result",
          "data": {
            "text/plain": [
              "VIOLATIONNAME\n",
              "NaN                                                                                              82.917553\n",
              "Manslaughter or homicide                                                                          1.952883\n",
              "Driving while intoxicated (alcohol or drugs) or BAC above limit (any detectable BAC for CDLs)     1.924209\n",
              "Other driver license violations                                                                   0.971914\n",
              "Fail to yield generally                                                                           0.940221\n",
              "Name: proportion, dtype: float64"
            ],
            "text/html": [
              "<div>\n",
              "<style scoped>\n",
              "    .dataframe tbody tr th:only-of-type {\n",
              "        vertical-align: middle;\n",
              "    }\n",
              "\n",
              "    .dataframe tbody tr th {\n",
              "        vertical-align: top;\n",
              "    }\n",
              "\n",
              "    .dataframe thead th {\n",
              "        text-align: right;\n",
              "    }\n",
              "</style>\n",
              "<table border=\"1\" class=\"dataframe\">\n",
              "  <thead>\n",
              "    <tr style=\"text-align: right;\">\n",
              "      <th></th>\n",
              "      <th>proportion</th>\n",
              "    </tr>\n",
              "    <tr>\n",
              "      <th>VIOLATIONNAME</th>\n",
              "      <th></th>\n",
              "    </tr>\n",
              "  </thead>\n",
              "  <tbody>\n",
              "    <tr>\n",
              "      <th>NaN</th>\n",
              "      <td>82.917553</td>\n",
              "    </tr>\n",
              "    <tr>\n",
              "      <th>Manslaughter or homicide</th>\n",
              "      <td>1.952883</td>\n",
              "    </tr>\n",
              "    <tr>\n",
              "      <th>Driving while intoxicated (alcohol or drugs) or BAC above limit (any detectable BAC for CDLs)</th>\n",
              "      <td>1.924209</td>\n",
              "    </tr>\n",
              "    <tr>\n",
              "      <th>Other driver license violations</th>\n",
              "      <td>0.971914</td>\n",
              "    </tr>\n",
              "    <tr>\n",
              "      <th>Fail to yield generally</th>\n",
              "      <td>0.940221</td>\n",
              "    </tr>\n",
              "  </tbody>\n",
              "</table>\n",
              "</div><br><label><b>dtype:</b> float64</label>"
            ]
          },
          "metadata": {},
          "execution_count": 25
        }
      ]
    },
    {
      "cell_type": "markdown",
      "source": [
        "# vision.csv\n",
        "Für unseren Fokus auf die Vorhersage tödlicher Unfälle ist vision.csv nicht zwingend erforderlich, da zentrale Umwelt- und Unfallmerkmale bereits in den Hauptdatensätzen (z. B. accidents.csv, vehicle.csv) abgebildet sind. Die Informationen zu Sichtbehinderungen liefern zwar zusätzliche Details, sind jedoch für die Kernfragestellung nur von untergeordneter Bedeutung.\n",
        "\n",
        "Datensatz vision.csv kann nicht genutzt werden da 93% der personenbezogene Faktoren in der Spalte PERSONRF nicht vorhanden sind also NaN sind."
      ],
      "metadata": {
        "id": "yoojXbrL0Y5d"
      }
    },
    {
      "cell_type": "code",
      "source": [
        "df = pd.read_csv('vision.csv', encoding='ISO-8859-1')\n",
        "df.columns\n",
        "df['VISION'].value_counts(normalize=True, dropna=False).head(10) * 100\n",
        "df['VISIONNAME'].value_counts(normalize=False, dropna=False).head(10)\n",
        "\n",
        "# Spalten mit den Zahlen VISION zu VISIONNAME löschen\n",
        "df.drop(['VISION'], axis=1, inplace=True)"
      ],
      "metadata": {
        "id": "_LMQgRFy0dPp"
      },
      "execution_count": 26,
      "outputs": []
    },
    {
      "cell_type": "markdown",
      "source": [
        "# vpicdecode.csv\n",
        "vpicdecode.csv ist optional, da die grundlegenden Fahrzeugmerkmale bereits in vehicle.csv enthalten sind. Diese Datei liefert jedoch sehr detaillierte technische Spezifikationen, die durch die Entschlüsselung der Fahrzeug-VIN mittels des NHTSA vPIC-Systems gewonnen werden."
      ],
      "metadata": {
        "id": "rZgU6_5DuVSb"
      }
    },
    {
      "cell_type": "code",
      "source": [
        "df = pd.read_csv('vpicdecode.csv', encoding='ISO-8859-1')\n",
        "df.columns"
      ],
      "metadata": {
        "colab": {
          "base_uri": "https://localhost:8080/"
        },
        "id": "a1hZfSiTuY5n",
        "outputId": "1ee65b5e-69d4-4448-c5d4-19e006e62fd1"
      },
      "execution_count": 27,
      "outputs": [
        {
          "output_type": "stream",
          "name": "stderr",
          "text": [
            "<ipython-input-27-5d5d8e163aa5>:1: DtypeWarning: Columns (62,88,100,102) have mixed types. Specify dtype option on import or set low_memory=False.\n",
            "  df = pd.read_csv('vpicdecode.csv', encoding='ISO-8859-1')\n"
          ]
        },
        {
          "output_type": "execute_result",
          "data": {
            "text/plain": [
              "Index(['STATE', 'STATENAME', 'ST_CASE', 'VEH_NO', 'VEHICLEDESCRIPTOR',\n",
              "       'VINDECODEDON', 'VINDECODEERROR', 'VEHICLETYPEID', 'VEHICLETYPE',\n",
              "       'MANUFACTURERFULLNAMEID',\n",
              "       ...\n",
              "       'TRACTIONCONTROL', 'AUTOPEDESTRIANALERTINGSOUNDID',\n",
              "       'AUTOPEDESTRIANALERTINGSOUND', 'KEYLESSIGNITIONID', 'KEYLESSIGNITION',\n",
              "       'SAEAUTOMATIONLEVEL_FROM', 'SAEAUTOMATIONLEVEL_TO',\n",
              "       'AUTOREVERSESYSTEMID', 'AUTOREVERSESYSTEM', 'ACTIVESAFETYSYSNOTE'],\n",
              "      dtype='object', length=204)"
            ]
          },
          "metadata": {},
          "execution_count": 27
        }
      ]
    },
    {
      "cell_type": "markdown",
      "source": [
        "# vpictrailerdecode.csv\n",
        "Die vpictrailerdecode.csv liefert detaillierte technische Informationen zu Anhängern. Anhänger spielen in der Gesamtanalyse nur eine untergeordnete Rolle und liefern keinen signifikanten Mehrwert für die Modellierung der Unfallfatalität."
      ],
      "metadata": {
        "id": "3XjVHM9dcuDH"
      }
    },
    {
      "cell_type": "code",
      "source": [
        "df = pd.read_csv('vpictrailerdecode.csv', encoding='ISO-8859-1')\n",
        "df.columns"
      ],
      "metadata": {
        "colab": {
          "base_uri": "https://localhost:8080/"
        },
        "id": "my2JT4WFc9M2",
        "outputId": "076506f1-320d-4a79-b649-0ac101fba430"
      },
      "execution_count": 28,
      "outputs": [
        {
          "output_type": "execute_result",
          "data": {
            "text/plain": [
              "Index(['STATE', 'STATENAME', 'ST_CASE', 'VEH_NO', 'TRAILER_NO',\n",
              "       'VEHICLEDESCRIPTOR', 'VINDECODEDON', 'VINDECODEERROR', 'VEHICLETYPEID',\n",
              "       'VEHICLETYPE', 'MANUFACTURERFULLNAMEID', 'MANUFACTURERFULLNAME',\n",
              "       'MAKEID', 'MAKE', 'MODELID', 'MODEL', 'MODELYEAR', 'SERIES', 'TRIM',\n",
              "       'PLANTCOUNTRYID', 'PLANTCOUNTRY', 'PLANTSTATE', 'PLANTCITY',\n",
              "       'PLANTCOMPANYNAME', 'NONLANDUSEID', 'NONLANDUSE', 'NOTE', 'BODYCLASSID',\n",
              "       'BODYCLASS', 'GROSSVEHICLEWEIGHTRATINGFROMID',\n",
              "       'GROSSVEHICLEWEIGHTRATINGFROM', 'GROSSVEHICLEWEIGHTRATINGTOID',\n",
              "       'GROSSVEHICLEWEIGHTRATINGTO', 'TRAILERBODYTYPEID', 'TRAILERBODYTYPE',\n",
              "       'TRAILERTYPECONNECTIONID', 'TRAILERTYPECONNECTION', 'TRAILERLENGTHFT',\n",
              "       'OTHERTRAILERINFO', 'AXLESCOUNT', 'AXLECONFIGURATIONID',\n",
              "       'AXLECONFIGURATION'],\n",
              "      dtype='object')"
            ]
          },
          "metadata": {},
          "execution_count": 28
        }
      ]
    },
    {
      "cell_type": "markdown",
      "source": [
        "# vsoe.csv\n",
        "Für unseren Fokus auf die Vorhersage tödlicher Unfälle liefert vsoe.csv detaillierte Ereignisabfolgen für jedes am Unfall beteiligte Fahrzeug, ist aber für die Kernanalyse nicht zwingend notwendig, da wesentliche Informationen bereits in den zentralen Datensätzen enthalten sind."
      ],
      "metadata": {
        "id": "hCXjooSNtWBI"
      }
    },
    {
      "cell_type": "code",
      "source": [
        "df = pd.read_csv('vsoe.csv', encoding='ISO-8859-1')\n",
        "df.columns\n",
        "df['VEVENTNUM'].value_counts(normalize=True, dropna=False).head(10) * 100\n",
        "#df['SOE'].value_counts(normalize=True, dropna=False).head(10) * 100\n",
        "#df['SOENAME'].value_counts(normalize=True, dropna=False).head(10) * 100\n",
        "#df['AOI'].value_counts(normalize=True, dropna=False).head(10) * 100\n",
        "#df['AOINAME'].value_counts(normalize=True, dropna=False).head(10) * 100"
      ],
      "metadata": {
        "id": "csMEI0jytgh7"
      },
      "execution_count": null,
      "outputs": []
    },
    {
      "cell_type": "markdown",
      "source": [
        "# weather.csv\n",
        "##Stimmen die Wetterdaten aus weather.csv mit denen aus accident.csv überein?\n",
        "\n",
        "Ja, das tun sie. Allerdings treten bei etwa 400 Werten Duplikate auf – das heißt, 400 Werte kommen doppelt vor, jedoch nicht häufiger (z.B. nicht dreifach). Davon entsprechen 90% dem ersten Vorkommen und 10% dem zweiten Vorkommen im accident.csv-Datensatz. Das bedeutet, dass die Werte aus weather.csv konsistent mit den Wetterdaten in accident.csv sind.\n",
        "\n",
        "**Somit wird die weather.csv nicht benötigt, da diese Werte bereits in accident.csv enthalten sind.**"
      ],
      "metadata": {
        "id": "fumcR7Bh52Yp"
      }
    },
    {
      "cell_type": "code",
      "source": [
        "# 1. CSV-Dateien einlesen\n",
        "df_weather = pd.read_csv('weather.csv', encoding='ISO-8859-1')\n",
        "df_accident = pd.read_csv('accident.csv', encoding='ISO-8859-1')\n",
        "\n",
        "# 2. Duplikate in ST_CASE anzeigen (optional zur Überprüfung)\n",
        "duplicates_weather = df_weather[df_weather.duplicated('ST_CASE', keep=False)]\n",
        "duplicates_accident = df_accident[df_accident.duplicated('ST_CASE', keep=False)]\n",
        "\n",
        "# 3. Duplikate entfernen: Behalte nur den ersten Eintrag pro ST_CASE\n",
        "df_weather_clean = df_weather.drop_duplicates(subset=['ST_CASE'], keep='first')\n",
        "df_accident_clean = df_accident.drop_duplicates(subset=['ST_CASE'], keep='first')\n",
        "\n",
        "df_weather_clean"
      ],
      "metadata": {
        "collapsed": true,
        "id": "C2MleZ-l50FQ"
      },
      "execution_count": null,
      "outputs": []
    },
    {
      "cell_type": "code",
      "source": [
        "# 4. Zusammenführen der DataFrames basierend auf 'ST_CASE'\n",
        "df_merged = pd.merge(df_accident, df_weather_clean, on='ST_CASE', suffixes=('_acc', '_weather'))\n",
        "\n",
        "# Vergleich der Spalte 'WEATHERNAME' und Speichern des Ergebnisses als Boolean (True/False)\n",
        "df_merged['WEATHERNAME_match'] = df_merged['WEATHERNAME_acc'] == df_merged['WEATHERNAME_weather']"
      ],
      "metadata": {
        "id": "zzLSFRlyXg05"
      },
      "execution_count": null,
      "outputs": []
    },
    {
      "cell_type": "code",
      "source": [
        "# 5. Filter: Zeilen mit False in 'WEATHERNAME_match'\n",
        "df_false = df_merged[df_merged['WEATHERNAME_match'] == False]\n",
        "\n",
        "# 6. Anzeige der relevanten Spalten\n",
        "df_false[['ST_CASE', 'WEATHERNAME_acc', 'WEATHERNAME_weather', 'WEATHERNAME_match']]"
      ],
      "metadata": {
        "collapsed": true,
        "id": "UIDADqzdXmAg"
      },
      "execution_count": null,
      "outputs": []
    },
    {
      "cell_type": "markdown",
      "source": [
        "# Überblick\n",
        "\n",
        "| Datensatz             | Verwendung       | Bemerkung                                                         |\n",
        "|-----------------------|------------------|-------------------------------------------------------------------|\n",
        "| accidents.csv         | Haupt            | Zentrale Unfallinformationen (z. B. Zeit, Ort, FATALS).             |\n",
        "| vehicle.csv           | Haupt            | Wesentliche Fahrzeuginformationen (Typ, Hersteller, Modell, etc.).  |\n",
        "| person.csv            | Haupt            | Detaillierte Informationen zu allen Unfallbeteiligten.             |\n",
        "| cevent.csv            | Optional         | Chronologische Ereignisabfolge (zusätzliche Details zum Unfallverlauf).|\n",
        "| crashrf.csv           | Optional         | Besondere Unfallumstände, die ergänzende Einblicke bieten.           |\n",
        "| damage.csv            | Optional         | Angaben zu den beschädigten Fahrzeugbereichen.                     |\n",
        "| distract.csv          | Optional         | Informationen zu Fahrer-Ablenkungen.                               |\n",
        "| drimpair.csv          | Optional         | Körperliche Beeinträchtigungen von Fahrern.                        |\n",
        "| driverrf.csv          | Optional         | Ergänzende Fahrerfaktoren (besondere Umstände).                    |\n",
        "| drugs.csv             | Optional         | Toxikologische Testergebnisse der Unfallbeteiligten.               |\n",
        "| factor.csv            | Optional         | Spezifische Fahrzeugumstände, die zum Unfall beitragen könnten.      |\n",
        "| maneuver.csv          | Optional         | Vermeidungsmanöver des Fahrers.                                    |\n",
        "| MIACC.CSV             | Optional         | Alkoholbezogene Unfalldaten (aus Fahrerdaten und Nicht-Insassen).     |\n",
        "| MIDRVACC.CSV          | Optional         | Alkoholbezogene Daten aus Fahrerdatensätzen.                       |\n",
        "| MIPER.CSV             | Optional         | Personenbezogene Alkohol-Daten.                                    |\n",
        "| nmcrash.csv           | Nicht verwendet  | Handlungen von Nicht-Insassen (z. B. Fußgänger, Fahrradfahrer).       |\n",
        "| nmdistract.csv        | Nicht verwendet  | Ablenkungen von Personen, die keine Insassen sind.                 |\n",
        "| nmimpair.csv          | Nicht verwendet  | Körperliche Beeinträchtigungen von Nicht-Insassen.                 |\n",
        "| nmprior.csv           | Nicht verwendet  | Verhalten von Nicht-Insassen (z. B. Fußgängern, Fahrradfahrern).      |\n",
        "| parkwork.csv          | Nicht verwendet  | Daten zu geparkten bzw. Arbeitsfahrzeugen.                         |\n",
        "| pbtype.csv            | Nicht verwendet  | Unfälle zwischen Fahrzeugen und Fußgängern/Fahrrädern.               |\n",
        "| personrf.csv          | Optional         | Ergänzende Faktoren zu Personen (zusätzliche Details).               |\n",
        "| pvehiclesf.csv        | Nicht verwendet  | Faktoren zu geparkten/Arbeitsfahrzeugen.                           |\n",
        "| race.csv              | Optional         | Demografische Informationen (Rasse) der Beteiligten.               |\n",
        "| safetyeq.csv          | Nicht verwendet  | Sicherheitsausrüstung von Nicht-Insassen.                          |\n",
        "| vehiclesf.csv         | Nicht verwendet  | Faktoren zu Fahrzeugen (bei geparkten/Arbeitsfahrzeugen).            |\n",
        "| vevent.csv            | Optional         | Detaillierte Ereignisabfolge pro Fahrzeug.                         |\n",
        "| violatn.csv           | Optional         | Informationen zu Fahrerverstößen.                                  |\n",
        "| vision.csv            | Optional         | Angaben zu Sichtbehinderungen.                                     |\n",
        "| vpicdecode.csv        | Optional         | Detaillierte technische Fahrzeugdaten (VIN-Dekodierung).             |\n",
        "| vpictrailerdecode.csv | Nicht verwendet  | Anhänger-spezifische Daten (für unser Projekt nicht zentral).         |\n",
        "| vsoe.csv              | Optional         | Vereinfachte Ereignisabfolge pro Fahrzeug.                         |\n",
        "| weather.csv           | Optional         | Detaillierte Wetterinformationen (ergänzend zu accidents.csv).       |\n",
        "\n",
        "\n",
        "- Fragestellung:\n",
        "„Welche Faktoren beeinflussen maßgeblich die Wahrscheinlichkeit eines tödlichen Verkehrsunfalls, und lässt sich anhand dieser Einflussgrößen vorhersagen, ob ein Unfall tödlich endet?“\n",
        "\n",
        "- Ziele:\n",
        "  - Identifikation relevanter Einflussfaktoren: Untersuche, welche Variablen (z. B. Zeit, Wetter, Fahrzeugtyp, Fahrermerkmale) signifikant mit der Unfallfatalität assoziiert sind.\n",
        "  - Vorhersagemodell: Entwickle ein Klassifikationsmodell (z. B. Logistic Regression, Random Forest oder XGBoost), das anhand dieser Einflussfaktoren vorhersagen kann, ob ein Unfall tödlich (fatal) verläuft."
      ],
      "metadata": {
        "id": "qvNZHi7GT_pR"
      }
    },
    {
      "cell_type": "markdown",
      "source": [
        "# Analyse und Auswertung der Daten\n",
        "##Vorhersage eines tödlichen Unfalls und Identifikation relevanter Einflussfaktoren\n",
        "\n",
        "- Wenn Ihr Analysefokus überwiegend auf Unfällen mit Standard-PKW und den allgemeinen Unfallmerkmalen liegt"
      ],
      "metadata": {
        "id": "dgrGvjBr6VKi"
      }
    },
    {
      "cell_type": "markdown",
      "source": [
        "Ich möchte eine umfassende Analyse durchführen, die auf einer spezifischen Datenquelle basiert (FARS-Daten) und sich auf tödliche Verkehrsunfälle in den USA konzentriert. Ziel ist es, relevante Einflussfaktoren (wie Umweltbedingungen, Fahrer- und Fahrzeugmerkmale) systematisch zu identifizieren und anschließend ein konkretes Machine-Learning-Modell zu entwickeln, das die Wahrscheinlichkeit eines tödlichen Unfalls vorhersagt. Zusätzlich soll die Analyse durch deskriptive Statistiken und explorative Datenvisualisierungen unterstützt werden, um die Ergebnisse transparent und nachvollziehbar zu machen."
      ],
      "metadata": {
        "id": "cUv5I2js-AUX"
      }
    },
    {
      "cell_type": "markdown",
      "source": [
        "## accident.csv doppelte Spalten löschen"
      ],
      "metadata": {
        "id": "htTBTmt2hyac"
      }
    },
    {
      "cell_type": "code",
      "source": [
        "df = pd.read_csv(\"accident.csv\", encoding='ISO-8859-1')\n",
        "df.columns"
      ],
      "metadata": {
        "id": "IWrqmj02b8jC"
      },
      "execution_count": null,
      "outputs": []
    },
    {
      "cell_type": "code",
      "source": [
        "df['STATE'].value_counts(normalize=True, dropna=False).head(10) * 100\n",
        "df['COUNTY'].value_counts(normalize=True, dropna=False).head(10) * 100\n",
        "df['CITY'].value_counts(normalize=True, dropna=False).head(10) * 100\n",
        "df['MONTHNAME'].value_counts(normalize=True, dropna=False).head(10) * 100\n",
        "df['DAYNAME'].value_counts(normalize=True, dropna=False).head(10) * 100\n",
        "df['DAY_WEEK'].value_counts(normalize=True, dropna=False).head(10) * 100\n",
        "df['HOURNAME'].value_counts(normalize=True, dropna=False).head(10) * 100\n",
        "df['MINUTENAME'].value_counts(normalize=True, dropna=False).head(10) * 100\n",
        "df['ROUTENAME'].value_counts(normalize=True, dropna=False).head(10) * 100\n",
        "df['RUR_URB'].value_counts(normalize=True, dropna=False).head(10) * 100\n",
        "df['FUNC_SYS'].value_counts(normalize=True, dropna=False).head(10) * 100\n",
        "df['RD_OWNER'].value_counts(normalize=True, dropna=False).head(10) * 100\n",
        "df['NHS'].value_counts(normalize=True, dropna=False).head(10) * 100\n",
        "df['SP_JUR'].value_counts(normalize=True, dropna=False).head(10) * 100\n",
        "df['MILEPT'].value_counts(normalize=True, dropna=False).head(10) * 100\n",
        "df['LATITUDE'].value_counts(normalize=True, dropna=False).head(10) * 100\n",
        "df['LONGITUD'].value_counts(normalize=True, dropna=False).head(10) * 100\n",
        "df['HARM_EV'].value_counts(normalize=True, dropna=False).head(10) * 100\n",
        "df['MAN_COLL'].value_counts(normalize=True, dropna=False).head(10) * 100\n",
        "df['RELJCT1'].value_counts(normalize=True, dropna=False).head(10) * 100\n",
        "df['RELJCT2'].value_counts(normalize=True, dropna=False).head(10) * 100\n",
        "df['TYP_INT'].value_counts(normalize=True, dropna=False).head(10) * 100\n",
        "df['REL_ROAD'].value_counts(normalize=True, dropna=False).head(10) * 100\n",
        "df['WRK_ZONE'].value_counts(normalize=True, dropna=False).head(10) * 100\n",
        "df['LGT_COND'].value_counts(normalize=True, dropna=False).head(10) * 100\n",
        "df['WEATHER'].value_counts(normalize=True, dropna=False).head(10) * 100\n",
        "df['SCH_BUS'].value_counts(normalize=True, dropna=False).head(10) * 100\n",
        "df['RAIL'].value_counts(normalize=True, dropna=False).head(10) * 100\n",
        "df['NOT_HOUR'].value_counts(normalize=True, dropna=False).head(10) * 100\n",
        "df['NOT_MIN'].value_counts(normalize=True, dropna=False).head(10) * 100\n",
        "df['ARR_HOUR'].value_counts(normalize=True, dropna=False).head(10) * 100\n",
        "df['ARR_MIN'].value_counts(normalize=True, dropna=False).head(10) * 100\n",
        "df['HOSP_HR'].value_counts(normalize=True, dropna=False).head(10) * 100\n",
        "df['HOSP_MN'].value_counts(normalize=True, dropna=False).head(10) * 100"
      ],
      "metadata": {
        "id": "tb2jeaUCca9k"
      },
      "execution_count": null,
      "outputs": []
    },
    {
      "cell_type": "code",
      "source": [
        "#Spalten die nicht benötigt werden, sollen direkt gelöscht werden\n",
        "df_acc = df.drop(['STATE', 'COUNTY', 'CITY', 'MONTHNAME', 'DAYNAME', 'DAY_WEEK', 'HOURNAME', 'MINUTENAME', 'ROUTENAME', 'RUR_URB', 'FUNC_SYS', 'RD_OWNER', 'NHS', 'SP_JUR', 'MILEPT', 'LATITUDE', 'LONGITUD', 'HARM_EV',\n",
        "         'MAN_COLL', 'RELJCT1', 'RELJCT2', 'TYP_INT', 'REL_ROAD', 'WRK_ZONE', 'LGT_COND', 'WEATHER', 'SCH_BUS', 'RAIL', 'NOT_HOUR', 'NOT_MIN', 'ARR_HOUR', 'ARR_MIN', 'HOSP_HR', 'HOSP_MN'], axis=1, inplace=True)"
      ],
      "metadata": {
        "id": "UDdVxeA6ZMRl"
      },
      "execution_count": null,
      "outputs": []
    },
    {
      "cell_type": "code",
      "source": [
        "df_acc"
      ],
      "metadata": {
        "id": "pAZ31HJSiHsL"
      },
      "execution_count": null,
      "outputs": []
    },
    {
      "cell_type": "markdown",
      "source": [
        "## person.csv doppelte Spalten löschen"
      ],
      "metadata": {
        "id": "QroBW_lei98v"
      }
    },
    {
      "cell_type": "code",
      "source": [
        "df = pd.read_csv(\"person.csv\", encoding='ISO-8859-1')\n",
        "df.columns"
      ],
      "metadata": {
        "id": "wrHJhsJ0jKNz"
      },
      "execution_count": null,
      "outputs": []
    },
    {
      "cell_type": "code",
      "source": [
        "df['STATE'].value_counts(normalize=True, dropna=False).head(10) * 100\n",
        "df['MONTHNAME'].value_counts(normalize=True, dropna=False).head(10) * 100\n",
        "df['MONTHNAME'].value_counts(normalize=True, dropna=False).head(10) * 100\n",
        "df['DAY'].value_counts(normalize=True, dropna=False).head(10) * 100\n",
        "df['HOURNAME'].value_counts(normalize=True, dropna=False).head(10) * 100\n",
        "df['MINUTENAME'].value_counts(normalize=True, dropna=False).head(10) * 100\n",
        "df['HARM_EV'].value_counts(normalize=True, dropna=False).head(10) * 100\n",
        "df['SCH_BUS'].value_counts(normalize=True, dropna=False).head(10) * 100\n",
        "df['SCH_BUSNAME'].value_counts(normalize=True, dropna=False).head(10) * 100\n",
        "df['MAN_COLL'].value_counts(normalize=True, dropna=False).head(10) * 100\n",
        "df['MOD_YEAR'].value_counts(normalize=True, dropna=False).head(10) * 100\n",
        "df['VPICMAKE'].value_counts(normalize=True, dropna=False).head(10) * 100\n",
        "df['VPICMODEL'].value_counts(normalize=True, dropna=False).head(10) * 100\n",
        "df['VPICBODYCLASS'].value_counts(normalize=True, dropna=False).head(10) * 100\n",
        "df['MAKENAME'].value_counts(normalize=True, dropna=False).head(10) * 100\n",
        "df['BODY_TYP'].value_counts(normalize=True, dropna=False).head(10) * 100\n",
        "df['ICFINALBODY'].value_counts(normalize=True, dropna=False).head(10) * 100\n",
        "df['GVWR_FROM'].value_counts(normalize=True, dropna=False).head(10) * 100\n",
        "df['GVWR_TO'].value_counts(normalize=True, dropna=False).head(10) * 100\n",
        "df['TOW_VEH'].value_counts(normalize=True, dropna=False).head(10) * 100\n",
        "df['AGENAME'].value_counts(normalize=True, dropna=False).head(10) * 100\n",
        "df['SEX'].value_counts(normalize=True, dropna=False).head(10) * 100\n",
        "df['PER_TYP'].value_counts(normalize=True, dropna=False).head(10) * 100\n",
        "df['SEAT_POS'].value_counts(normalize=True, dropna=False).head(10) * 100\n",
        "df['REST_USE'].value_counts(normalize=True, dropna=False).head(10) * 100\n",
        "df['REST_MIS'].value_counts(normalize=True, dropna=False).head(10) * 100\n",
        "df['HELM_USE'].value_counts(normalize=True, dropna=False).head(10) * 100\n",
        "df['HELM_MIS'].value_counts(normalize=True, dropna=False).head(10) * 100\n",
        "df['AIR_BAG'].value_counts(normalize=True, dropna=False).head(10) * 100\n",
        "df['EJECTION'].value_counts(normalize=True, dropna=False).head(10) * 100\n",
        "df['EJ_PATH'].value_counts(normalize=True, dropna=False).head(10) * 100\n",
        "df['EXTRICAT'].value_counts(normalize=True, dropna=False).head(10) * 100\n",
        "df['DRINKING'].value_counts(normalize=True, dropna=False).head(10) * 100\n",
        "df['ALC_DET'].value_counts(normalize=True, dropna=False).head(10) * 100\n",
        "df['ALC_STATUS'].value_counts(normalize=True, dropna=False).head(10) * 100\n",
        "df['ATST_TYP'].value_counts(normalize=True, dropna=False).head(10) * 100\n",
        "df['ALC_RES'].value_counts(normalize=True, dropna=False).head(10) * 100\n",
        "df['DRUGS'].value_counts(normalize=True, dropna=False).head(10) * 100\n",
        "df['DRUG_DET'].value_counts(normalize=True, dropna=False).head(10) * 100\n",
        "df['DSTATUS'].value_counts(normalize=True, dropna=False).head(10) * 100\n",
        "df['HOSPITAL'].value_counts(normalize=True, dropna=False).head(10) * 100\n",
        "df['DOA'].value_counts(normalize=True, dropna=False).head(10) * 100\n",
        "df['DEATH_MO'].value_counts(normalize=True, dropna=False).head(10) * 100\n",
        "df['DEATH_DA'].value_counts(normalize=True, dropna=False).head(10) * 100\n",
        "df['DEATH_YR'].value_counts(normalize=True, dropna=False).head(10) * 100\n",
        "df['DEATH_TM'].value_counts(normalize=True, dropna=False).head(10) * 100\n",
        "df['DEATH_HR'].value_counts(normalize=True, dropna=False).head(10) * 100\n",
        "df['DEATH_MN'].value_counts(normalize=True, dropna=False).head(10) * 100\n",
        "df['LAG_HRS'].value_counts(normalize=True, dropna=False).head(10) * 100\n",
        "df['LAG_MINS'].value_counts(normalize=True, dropna=False).head(10) * 100\n",
        "df['LOCATION'].value_counts(normalize=True, dropna=False).head(10) * 100\n",
        "df['WORK_INJ'].value_counts(normalize=True, dropna=False).head(10) * 100\n",
        "df['HISPANIC'].value_counts(normalize=True, dropna=False).head(10) * 100\n",
        "df['RUR_URB'].value_counts(normalize=True, dropna=False).head(10) * 100\n",
        "df['FUNC_SYS'].value_counts(normalize=True, dropna=False).head(10) * 100\n",
        "df['SPEC_USE'].value_counts(normalize=True, dropna=False).head(10) * 100\n",
        "df['EMER_USE'].value_counts(normalize=True, dropna=False).head(10) * 100\n",
        "df['ROLLOVER'].value_counts(normalize=True, dropna=False).head(10) * 100\n",
        "df['IMPACT1'].value_counts(normalize=True, dropna=False).head(10) * 100\n",
        "df['FIRE_EXP'].value_counts(normalize=True, dropna=False).head(10) * 100\n",
        "df['MAK_MOD'].value_counts(normalize=True, dropna=False).head(10) * 100"
      ],
      "metadata": {
        "id": "D3QWY847eAJe"
      },
      "execution_count": null,
      "outputs": []
    },
    {
      "cell_type": "code",
      "source": [
        "df_per = df.drop(['STATE', 'MONTHNAME', 'DAY', 'HOURNAME', 'MINUTENAME', 'HARM_EV', 'SCH_BUSNAME', 'MAN_COLL', 'MOD_YEAR', 'VPICMAKE', 'VPICMODEL', 'VPICBODYCLASS', 'MAKE', 'BODY_TYP',\n",
        "         'ICFINALBODY', 'GVWR_FROM', 'GVWR_TO', 'TOW_VEH', 'AGENAME', 'SEX', 'PER_TYP', 'SEAT_POS', 'REST_USE', 'REST_MIS', 'HELM_USE', 'HELM_MIS', 'AIR_BAG', 'EJECTION',\n",
        "         'EJ_PATH', 'EXTRICAT', 'DRINKING', 'ALC_DET', 'ALC_STATUS', 'ATST_TYP', 'ALC_RES', 'DRUGS', 'DRUG_DET', 'DSTATUS', 'HOSPITAL', 'DOA', 'DEATH_MO', 'DEATH_DA', 'DEATH_YR', 'DEATH_TM',\n",
        "         'DEATH_HR', 'DEATH_MN', 'LAG_HRS', 'LAG_MINS', 'LOCATION', 'WORK_INJ', 'HISPANIC', 'RUR_URB', 'FUNC_SYS', 'SPEC_USE', 'EMER_USE', 'ROLLOVER', 'IMPACT1', 'FIRE_EXP', 'MAK_MOD'], axis=1, inplace=True)"
      ],
      "metadata": {
        "id": "5oeJHvy_F-iy"
      },
      "execution_count": null,
      "outputs": []
    },
    {
      "cell_type": "markdown",
      "source": [
        "## vehicle.csv doppelte Spalten löschen"
      ],
      "metadata": {
        "id": "sd2sLEIkj7cz"
      }
    },
    {
      "cell_type": "code",
      "source": [
        "df = pd.read_csv(\"vehicle.csv\", encoding='ISO-8859-1')\n",
        "df.columns"
      ],
      "metadata": {
        "id": "oQ0kcKamkCHV"
      },
      "execution_count": null,
      "outputs": []
    },
    {
      "cell_type": "code",
      "source": [
        "df['STATE'].value_counts(normalize=True, dropna=False).head(10) * 100\n",
        "df['NUMOCCS'].value_counts(normalize=True, dropna=False).head(10) * 100\n",
        "df['DAY'].value_counts(normalize=True, dropna=False).head(10) * 100\n",
        "df['MONTHNAME'].value_counts(normalize=True, dropna=False).head(10) * 100\n",
        "df['HOURNAME'].value_counts(normalize=True, dropna=False).head(10) * 100\n",
        "df['MINUTENAME'].value_counts(normalize=True, dropna=False).head(60) * 100\n",
        "df['HARM_EV'].value_counts(normalize=True, dropna=False).head(10) * 100\n",
        "df['MAN_COLL'].value_counts(normalize=True, dropna=False).head(10) * 100\n",
        "df['UNITTYPE'].value_counts(normalize=True, dropna=False).head(10) * 100\n",
        "df['HIT_RUN'].value_counts(normalize=True, dropna=False).head(10) * 100\n",
        "df['REG_STAT'].value_counts(normalize=True, dropna=False).head(10) * 100\n",
        "df['OWNER'].value_counts(normalize=True, dropna=False).head(10) * 100\n",
        "df['MAKE'].value_counts(normalize=True, dropna=False).head(10) * 100\n",
        "df['MAK_MOD'].value_counts(normalize=True, dropna=False).head(10) * 100\n",
        "df['BODY_TYP'].value_counts(normalize=True, dropna=False).head(10) * 100\n",
        "df['MOD_YEAR'].value_counts(normalize=True, dropna=False).head(10) * 100\n",
        "df['VIN'].value_counts(normalize=True, dropna=False).head(10) * 100\n",
        "df['TOW_VEH'].value_counts(normalize=True, dropna=False).head(10) * 100\n",
        "df['J_KNIFE'].value_counts(normalize=True, dropna=False).head(10) * 100\n",
        "df['MCARR_I1'].value_counts(normalize=True, dropna=False).head(10) * 100\n",
        "df['MCARR_I2'].value_counts(normalize=True, dropna=False).head(10) * 100\n",
        "df['MCARR_ID'].value_counts(normalize=True, dropna=False).head(10) * 100\n",
        "df['V_CONFIG'].value_counts(normalize=True, dropna=False).head(10) * 100\n",
        "df['CARGO_BT'].value_counts(normalize=True, dropna=False).head(10) * 100\n",
        "df['HAZ_INV'].value_counts(normalize=True, dropna=False).head(10) * 100\n",
        "df['HAZ_PLAC'].value_counts(normalize=True, dropna=False).head(10) * 100\n",
        "df['HAZ_ID'].value_counts(normalize=True, dropna=False).head(10) * 100\n",
        "df['HAZ_CNO'].value_counts(normalize=True, dropna=False).head(10) * 100\n",
        "df['HAZ_REL'].value_counts(normalize=True, dropna=False).head(10) * 100\n",
        "df['BUS_USE'].value_counts(normalize=True, dropna=False).head(10) * 100\n",
        "df['SPEC_USE'].value_counts(normalize=True, dropna=False).head(10) * 100\n",
        "df['EMER_USE'].value_counts(normalize=True, dropna=False).head(10) * 100\n",
        "df['TRAV_SP'].value_counts(normalize=True, dropna=False).head(10) * 100\n",
        "df['UNDEROVERRIDE'].value_counts(normalize=True, dropna=False).head(10) * 100\n",
        "df['ROLLOVER'].value_counts(normalize=True, dropna=False).head(10) * 100\n",
        "df['ROLINLOC'].value_counts(normalize=True, dropna=False).head(10) * 100\n",
        "df['IMPACT1'].value_counts(normalize=True, dropna=False).head(10) * 100\n",
        "df['DEFORMED'].value_counts(normalize=True, dropna=False).head(10) * 100\n",
        "df['TOWED'].value_counts(normalize=True, dropna=False).head(10) * 100\n",
        "df['M_HARM'].value_counts(normalize=True, dropna=False).head(10) * 100\n",
        "df['FIRE_EXP'].value_counts(normalize=True, dropna=False).head(10) * 100\n",
        "df['DR_PRES'].value_counts(normalize=True, dropna=False).head(10) * 100\n",
        "df['L_STATE'].value_counts(normalize=True, dropna=False).head(10) * 100\n",
        "df['DR_ZIP'].value_counts(normalize=True, dropna=False).head(10) * 100\n",
        "df['L_STATUS'].value_counts(normalize=True, dropna=False).head(10) * 100\n",
        "df['L_TYPE'].value_counts(normalize=True, dropna=False).head(10) * 100\n",
        "df['CDL_STAT'].value_counts(normalize=True, dropna=False).head(10) * 100\n",
        "df['L_ENDORS'].value_counts(normalize=True, dropna=False).head(10) * 100\n",
        "df['L_COMPL'].value_counts(normalize=True, dropna=False).head(10) * 100\n",
        "df['L_RESTRI'].value_counts(normalize=True, dropna=False).head(10) * 100\n",
        "df['DR_HGT'].value_counts(normalize=True, dropna=False).head(10) * 100\n",
        "df['DR_WGT'].value_counts(normalize=True, dropna=False).head(10) * 100\n",
        "df['PREV_ACC'].value_counts(normalize=True, dropna=False).head(10) * 100\n",
        "df['PREV_SUS1'].value_counts(normalize=True, dropna=False).head(10) * 100\n",
        "df['PREV_SUS2'].value_counts(normalize=True, dropna=False).head(10) * 100\n",
        "df['PREV_SUS3'].value_counts(normalize=True, dropna=False).head(10) * 100\n",
        "df['PREV_DWI'].value_counts(normalize=True, dropna=False).head(10) * 100\n",
        "df['PREV_SPD'].value_counts(normalize=True, dropna=False).head(10) * 100\n",
        "df['PREV_OTH'].value_counts(normalize=True, dropna=False).head(10) * 100\n",
        "df['FIRST_MO'].value_counts(normalize=True, dropna=False).head(10) * 100\n",
        "df['FIRST_YR'].value_counts(normalize=True, dropna=False).head(10) * 100\n",
        "df['LAST_MO'].value_counts(normalize=True, dropna=False).head(10) * 100\n",
        "df['LAST_YR'].value_counts(normalize=True, dropna=False).head(10) * 100\n",
        "df['SPEEDREL'].value_counts(normalize=True, dropna=False).head(10) * 100\n",
        "df['VTRAFWAY'].value_counts(normalize=True, dropna=False).head(10) * 100\n",
        "df['VNUM_LAN'].value_counts(normalize=True, dropna=False).head(10) * 100\n",
        "df['VSPD_LIM'].value_counts(normalize=True, dropna=False).head(15) * 100\n",
        "df['VALIGN'].value_counts(normalize=True, dropna=False).head(15) * 100\n",
        "df['VPROFILE'].value_counts(normalize=True, dropna=False).head(15) * 100\n",
        "df['VPAVETYP'].value_counts(normalize=True, dropna=False).head(15) * 100\n",
        "df['VSURCOND'].value_counts(normalize=True, dropna=False).head(15) * 100\n",
        "df['VTRAFCON'].value_counts(normalize=True, dropna=False).head(15) * 100\n",
        "df['VTCONT_F'].value_counts(normalize=True, dropna=False).head(15) * 100\n",
        "df['P_CRASH1'].value_counts(normalize=True, dropna=False).head(15) * 100\n",
        "df['P_CRASH2'].value_counts(normalize=True, dropna=False).head(15) * 100\n",
        "df['P_CRASH3'].value_counts(normalize=True, dropna=False).head(15) * 100\n",
        "df['PCRASH4'].value_counts(normalize=True, dropna=False).head(15) * 100\n",
        "df['PCRASH5'].value_counts(normalize=True, dropna=False).head(15) * 100\n",
        "df['ACC_TYPE'].value_counts(normalize=True, dropna=False).head(15) * 100\n",
        "df['TRLR1VIN'].value_counts(normalize=True, dropna=False).head(15) * 100\n",
        "df['TRLR2VIN'].value_counts(normalize=True, dropna=False).head(15) * 100\n",
        "df['TRLR3VIN'].value_counts(normalize=True, dropna=False).head(15) * 100\n",
        "df['DR_DRINK'].value_counts(normalize=True, dropna=False).head(15) * 100\n",
        "df['VPICMAKE'].value_counts(normalize=True, dropna=False).head(15) * 100\n",
        "df['VPICMODEL'].value_counts(normalize=True, dropna=False).head(15) * 100\n",
        "df['VPICBODYCLASS'].value_counts(normalize=True, dropna=False).head(15) * 100\n",
        "df['ICFINALBODY'].value_counts(normalize=True, dropna=False).head(15) * 100\n",
        "df['GVWR_FROM'].value_counts(normalize=True, dropna=False).head(15) * 100\n",
        "df['GVWR_TO'].value_counts(normalize=True, dropna=False).head(15) * 100\n",
        "df['TRLR1GVWR'].value_counts(normalize=True, dropna=False).head(15) * 100\n",
        "df['TRLR2GVWR'].value_counts(normalize=True, dropna=False).head(15) * 100\n",
        "df['TRLR3GVWR'].value_counts(normalize=True, dropna=False).head(15) * 100"
      ],
      "metadata": {
        "id": "MzR9NfOPjChf"
      },
      "execution_count": null,
      "outputs": []
    },
    {
      "cell_type": "code",
      "source": [
        "df_veh = df.drop(['STATE', 'NUMOCCS', 'DAY', 'MONTHNAME', 'HOURNAME', 'MINUTENAME', 'HARM_EV', 'MAN_COLL', 'UNITTYPE', 'HIT_RUN', 'REG_STAT', 'OWNER', 'MAKE', 'MAK_MOD', 'BODY_TYP', 'MOD_YEAR', 'VIN', 'TOW_VEH',\n",
        "         'J_KNIFE', 'MCARR_I1', 'MCARR_I2', 'MCARR_ID', 'V_CONFIG', 'CARGO_BT', 'HAZ_INV', 'HAZ_PLAC', 'HAZ_ID', 'HAZ_CNO', 'HAZ_REL', 'BUS_USE', 'SPEC_USE', 'EMER_USE', 'TRAV_SP', 'UNDEROVERRIDE', 'ROLLOVER',\n",
        "         'ROLINLOC', 'IMPACT1', 'DEFORMED', 'TOWED', 'M_HARM', 'FIRE_EXP', 'DR_PRES', 'L_STATE', 'DR_ZIP', 'L_STATUS', 'L_TYPE', 'CDL_STAT', 'L_ENDORS', 'L_COMPL', 'L_RESTRI', 'DR_HGT', 'DR_WGT', 'PREV_ACC',\n",
        "         'PREV_SUS1', 'PREV_SUS2', 'PREV_SUS3', 'PREV_DWI', 'PREV_SPD', 'PREV_OTH', 'FIRST_MO', 'FIRST_YR', 'LAST_MO', 'LAST_YR', 'SPEEDREL', 'VTRAFWAY', 'VNUM_LAN', 'VSPD_LIM', 'VALIGN', 'VPROFILE',\n",
        "         'VPAVETYP', 'VSURCOND', 'VTRAFCON', 'VTCONT_F', 'P_CRASH1', 'P_CRASH2', 'P_CRASH3', 'PCRASH4', 'PCRASH5', 'ACC_TYPE', 'TRLR1VIN', 'TRLR2VIN', 'TRLR3VIN', 'DR_DRINK', 'VPICMAKE', 'VPICMODEL', 'VPICBODYCLASS',\n",
        "         'ICFINALBODY', 'GVWR_FROM', 'GVWR_TO', 'TRLR1GVWR', 'TRLR2GVWR', 'TRLR3GVWR'], axis=1, inplace=True)"
      ],
      "metadata": {
        "id": "hwD1GTCw9DDw"
      },
      "execution_count": null,
      "outputs": []
    },
    {
      "cell_type": "markdown",
      "source": [
        "# Datensätze zurück schreiben in den Ordner clean"
      ],
      "metadata": {
        "id": "9HvXxZ8EmP9m"
      }
    },
    {
      "cell_type": "code",
      "source": [
        "import os\n",
        "os.makedirs('data/clean', exist_ok=True)\n",
        "\n",
        "%cd data/clean\n",
        "\n",
        "df_acc.to_csv('accident.csv', index=False)\n",
        "df_per.to_csv('person.csv', index=False)\n",
        "df_veh.to_csv('vehicle.csv', index=False)"
      ],
      "metadata": {
        "id": "XYnofvmHmapB"
      },
      "execution_count": null,
      "outputs": []
    },
    {
      "cell_type": "markdown",
      "source": [
        "# Visualisierung"
      ],
      "metadata": {
        "id": "gEeBSmoYgIN6"
      }
    },
    {
      "cell_type": "code",
      "source": [
        "import numpy as np\n",
        "import matplotlib.pyplot as plt\n",
        "import seaborn as sns\n",
        "\n",
        "# 2. Automatisch alle numerischen Spalten auswählen\n",
        "numeric_df = df.select_dtypes(include=[np.number])\n",
        "\n",
        "# 3. Korrelationsmatrix berechnen\n",
        "corr_matrix = numeric_df.corr()\n",
        "\n",
        "# 4. Heatmap visualisieren\n",
        "plt.figure(figsize=(17, 10))\n",
        "sns.heatmap(corr_matrix, annot=True, cmap='coolwarm', fmt=\".2f\")\n",
        "plt.title('Korrelationsmatrix der numerischen Spalten im Accidents-Datensatz')\n",
        "plt.tight_layout()\n",
        "plt.show()"
      ],
      "metadata": {
        "id": "pFHWfiNugLpm"
      },
      "execution_count": null,
      "outputs": []
    }
  ]
}