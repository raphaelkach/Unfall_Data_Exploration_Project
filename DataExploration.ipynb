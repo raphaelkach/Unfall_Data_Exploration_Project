{
  "nbformat": 4,
  "nbformat_minor": 0,
  "metadata": {
    "colab": {
      "provenance": [],
      "authorship_tag": "ABX9TyOHY5b7ftNcgvZq3aa6E35L",
      "include_colab_link": true
    },
    "kernelspec": {
      "name": "python3",
      "display_name": "Python 3"
    },
    "language_info": {
      "name": "python"
    }
  },
  "cells": [
    {
      "cell_type": "markdown",
      "metadata": {
        "id": "view-in-github",
        "colab_type": "text"
      },
      "source": [
        "<a href=\"https://colab.research.google.com/github/raphaelkach/Unfall_Data_Exploration_Project/blob/main/DataExploration.ipynb\" target=\"_parent\"><img src=\"https://colab.research.google.com/assets/colab-badge.svg\" alt=\"Open In Colab\"/></a>"
      ]
    },
    {
      "cell_type": "markdown",
      "source": [
        "#Vorhersage eines tödlichen Unfalls und Identifikation relevanter Einflussfaktoren\n",
        "\n",
        "- Wenn Ihr Analysefokus überwiegend auf Unfällen mit Standard-PKW und den allgemeinen Unfallmerkmalen liegt"
      ],
      "metadata": {
        "id": "ELLcxxwVomz5"
      }
    },
    {
      "cell_type": "markdown",
      "source": [
        "## Git clone Unfall_Data_Exploration_Project"
      ],
      "metadata": {
        "id": "exljzPL84fq5"
      }
    },
    {
      "cell_type": "code",
      "source": [
        "!apt-get install git-lfs\n",
        "!git lfs install\n",
        "\n",
        "!git clone https://github.com/raphaelkach/Unfall_Data_Exploration_Project.git\n",
        "\n",
        "%cd Unfall_Data_Exploration_Project\n",
        "!git lfs pull"
      ],
      "metadata": {
        "id": "NopQiUox4YQt",
        "outputId": "fc826928-b678-4ccc-b76d-4b02081d8140",
        "colab": {
          "base_uri": "https://localhost:8080/"
        }
      },
      "execution_count": 1,
      "outputs": [
        {
          "output_type": "stream",
          "name": "stdout",
          "text": [
            "Reading package lists... Done\n",
            "Building dependency tree... Done\n",
            "Reading state information... Done\n",
            "git-lfs is already the newest version (3.0.2-1ubuntu0.3).\n",
            "0 upgraded, 0 newly installed, 0 to remove and 29 not upgraded.\n",
            "Git LFS initialized.\n",
            "fatal: destination path 'Unfall_Data_Exploration_Project' already exists and is not an empty directory.\n",
            "/content/Unfall_Data_Exploration_Project\n"
          ]
        }
      ]
    },
    {
      "cell_type": "code",
      "source": [
        "%cd data/raw/FARS_2021_National"
      ],
      "metadata": {
        "id": "Wd90o69CXVU9",
        "outputId": "caa4f8c3-c0e0-4d60-ee12-0ac737c16321",
        "colab": {
          "base_uri": "https://localhost:8080/"
        }
      },
      "execution_count": 2,
      "outputs": [
        {
          "output_type": "stream",
          "name": "stdout",
          "text": [
            "/content/Unfall_Data_Exploration_Project/data/raw/FARS_2021_National\n"
          ]
        }
      ]
    },
    {
      "cell_type": "code",
      "source": [
        "# Imports\n",
        "import pandas as pd"
      ],
      "metadata": {
        "id": "YK77YqZR56J4"
      },
      "execution_count": 3,
      "outputs": []
    },
    {
      "cell_type": "markdown",
      "source": [
        "# accident.csv\n",
        "- SCH_BUS, SCH_BUSNAME entfernen zu spezifisch und machen nur 0.24 % aus\n",
        "- STATE wurde entfernt, da es redundant zu STATENAME ist.\n",
        "- COUNTY wurde entfernt, da es redundant zu COUNTYNAME ist.\n",
        "- CITY wurde entfernt, da es redundant zu CITYNAME ist.\n",
        "- MONTHNAME wurde entfernt, da es redundant zu MONTH ist.\n",
        "- DAYNAME wurde entfernt, da es redundant zu DAY ist.\n",
        "- RD_OWNERNAME wurde entfernt, da es redundant zu RD_OWNER ist.\n",
        "- WRK_ZONE, WRK_ZONENAME entfernt, da 97 % der Werte NaN sind\n",
        "- RAIL, RAILNAME entfernen da 99% not Applicable (Kann vielleicht genutzt werden ob eine Bahnübergang ein deutlichen Unfall nachsich zieht) Bisher nur RAIL entfernt\n",
        "- 97% PVH entfernt, da 97 % 0 sind"
      ],
      "metadata": {
        "id": "RUU-yylS7WIX"
      }
    },
    {
      "cell_type": "code",
      "source": [
        "df = pd.read_csv(\"accident.csv\", encoding='ISO-8859-1')\n",
        "# Tabellenbeginn ausgeben\n",
        "df.head()\n",
        "# normalize die relativen Werte anzeigen\n",
        "df['SCH_BUS'].value_counts(normalize=True, dropna=False).head(10) * 100\n",
        "df['SCH_BUSNAME'].value_counts(normalize=True, dropna=False).head(10) * 100\n",
        "df['STATE'].value_counts(normalize=True, dropna=False).head(10) * 100\n",
        "df['WRK_ZONE'].value_counts(normalize=True, dropna=False).head(10) * 100\n",
        "df['WRK_ZONENAME'].value_counts(normalize=True, dropna=False).head(10) * 100\n",
        "df['RAIL'].value_counts(normalize=True, dropna=False).head(10) * 100\n",
        "df['PVH_INVL'].value_counts(normalize=True, dropna=False).head(10) * 100\n",
        "df['COUNTY'].value_counts(normalize=True, dropna=False).head(10) * 100\n",
        "df['CITY'].value_counts(normalize=True, dropna=False).head(10) * 100\n",
        "df['MONTHNAME'].value_counts(normalize=True, dropna=False).head(10) * 100\n",
        "df['DAYNAME'].value_counts(normalize=True, dropna=False).head(10) * 100\n",
        "df['HOURNAME'].value_counts(normalize=True, dropna=False).head(10) * 100\n",
        "df['MINUTENAME'].value_counts(normalize=True, dropna=False).head(10) * 100\n",
        "df['RD_OWNERNAME'].value_counts(normalize=True, dropna=False).head(10) * 100\n",
        "df['LATITUDE'].value_counts(normalize=True, dropna=False).head(10) * 100\n",
        "df['LATITUDENAME'].value_counts(normalize=True, dropna=False).head(10) * 100\n",
        "df['LONGITUD'].value_counts(normalize=True, dropna=False).head(10) * 100\n",
        "df['LONGITUDNAME'].value_counts(normalize=True, dropna=False).head(10) * 100\n",
        "df['YEAR'].value_counts(normalize=True, dropna=False).head(10) * 100\n",
        "df['NHS'].value_counts(normalize=True, dropna=False).head(10) * 100\n",
        "df['NHSNAME'].value_counts(normalize=True, dropna=False).head(10) * 100\n",
        "df['RD_OWNER'].value_counts(normalize=True, dropna=False).head(10) * 100\n",
        "df['RELJCT1'].value_counts(normalize=True, dropna=False).head(10) * 100\n",
        "df['RELJCT1NAME'].value_counts(normalize=True, dropna=False).head(10) * 100\n",
        "df['FUNC_SYS'].value_counts(normalize=True, dropna=False).head(10) * 100\n",
        "df['MILEPT'].value_counts(normalize=True, dropna=False).head(10) * 100\n",
        "df['MILEPTNAME'].value_counts(normalize=True, dropna=False).head(10) * 100\n",
        "df['WEATHER'].value_counts(normalize=True, dropna=False).head(10) * 100\n",
        "df['RUR_URB'].value_counts(normalize=True, dropna=False).head(10) * 100\n",
        "df['LGT_COND'].value_counts(normalize=True, dropna=False).head(10) * 100\n",
        "df['DAY_WEEK'].value_counts(normalize=True, dropna=False).head(10) * 100\n",
        "df['LGT_COND'].value_counts(normalize=True, dropna=False).head(10) * 100\n",
        "df['NOT_MIN'].value_counts(normalize=True, dropna=False).head(10) * 100\n",
        "df['REL_ROAD'].value_counts(normalize=True, dropna=False).head(10) * 100\n",
        "df['HOSP_HRNAME'].value_counts(normalize=True, dropna=False).head(10) * 100\n",
        "df['ARR_HOURNAME'].value_counts(normalize=True, dropna=False).head(10) * 100\n",
        "df['HOSP_MN'].value_counts(normalize=True, dropna=False).head(10) * 100\n",
        "df['ROUTE'].value_counts(normalize=True, dropna=False).head(10) * 100\n",
        "df['SP_JUR'].value_counts(normalize=True, dropna=False).head(10) * 100\n",
        "df['SP_JURNAME'].value_counts(normalize=True, dropna=False).head(10) * 100\n",
        "df['ARR_MINNAME'].value_counts(normalize=True, dropna=False).head(10) * 100\n",
        "df['HOSP_HR'].value_counts(normalize=True, dropna=False).head(10) * 100\n",
        "df['HOSP_MNNAME'].value_counts(normalize=True, dropna=False).head(10) * 100\n",
        "df['ARR_MIN'].value_counts(normalize=True, dropna=False).head(10) * 100\n",
        "df['NOT_HOUR'].value_counts(normalize=True, dropna=False).head(10) * 100\n",
        "df['NOT_HOURNAME'].value_counts(normalize=True, dropna=False).head(10) * 100\n",
        "df['ARR_HOUR'].value_counts(normalize=True, dropna=False).head(10) * 100\n",
        "df['NOT_MINNAME'].value_counts(normalize=True, dropna=False).head(10) * 100\n",
        "df['RAILNAME'].value_counts(normalize=True, dropna=False).head(10) * 100\n",
        "df['TYP_INT'].value_counts(normalize=True, dropna=False).head(10) * 100\n",
        "df['MAN_COLL'].value_counts(normalize=True, dropna=False).head(10) * 100\n",
        "df['HARM_EV'].value_counts(normalize=True, dropna=False).head(10) * 100\n",
        "df['RELJCT2'].value_counts(normalize=True, dropna=False).head(10) * 100\n",
        "df['TWAY_ID2'].value_counts(normalize=True, dropna=False).head(10) * 100\n",
        "df['TWAY_ID'].value_counts(normalize=True, dropna=False).head(10) * 100"
      ],
      "metadata": {
        "id": "kyPGywD77X5l",
        "outputId": "9fea5103-b6f3-4577-8575-3b9cd54e03c7",
        "colab": {
          "base_uri": "https://localhost:8080/",
          "height": 0
        }
      },
      "execution_count": 4,
      "outputs": [
        {
          "output_type": "execute_result",
          "data": {
            "text/plain": [
              "TWAY_ID\n",
              "I-10     0.799296\n",
              "I-95     0.706296\n",
              "US-1     0.578107\n",
              "I-40     0.535378\n",
              "I-20     0.490134\n",
              "I-75     0.485107\n",
              "I-5      0.459972\n",
              "I-80     0.374513\n",
              "I-70     0.354405\n",
              "US-90    0.349378\n",
              "Name: proportion, dtype: float64"
            ],
            "text/html": [
              "<div>\n",
              "<style scoped>\n",
              "    .dataframe tbody tr th:only-of-type {\n",
              "        vertical-align: middle;\n",
              "    }\n",
              "\n",
              "    .dataframe tbody tr th {\n",
              "        vertical-align: top;\n",
              "    }\n",
              "\n",
              "    .dataframe thead th {\n",
              "        text-align: right;\n",
              "    }\n",
              "</style>\n",
              "<table border=\"1\" class=\"dataframe\">\n",
              "  <thead>\n",
              "    <tr style=\"text-align: right;\">\n",
              "      <th></th>\n",
              "      <th>proportion</th>\n",
              "    </tr>\n",
              "    <tr>\n",
              "      <th>TWAY_ID</th>\n",
              "      <th></th>\n",
              "    </tr>\n",
              "  </thead>\n",
              "  <tbody>\n",
              "    <tr>\n",
              "      <th>I-10</th>\n",
              "      <td>0.799296</td>\n",
              "    </tr>\n",
              "    <tr>\n",
              "      <th>I-95</th>\n",
              "      <td>0.706296</td>\n",
              "    </tr>\n",
              "    <tr>\n",
              "      <th>US-1</th>\n",
              "      <td>0.578107</td>\n",
              "    </tr>\n",
              "    <tr>\n",
              "      <th>I-40</th>\n",
              "      <td>0.535378</td>\n",
              "    </tr>\n",
              "    <tr>\n",
              "      <th>I-20</th>\n",
              "      <td>0.490134</td>\n",
              "    </tr>\n",
              "    <tr>\n",
              "      <th>I-75</th>\n",
              "      <td>0.485107</td>\n",
              "    </tr>\n",
              "    <tr>\n",
              "      <th>I-5</th>\n",
              "      <td>0.459972</td>\n",
              "    </tr>\n",
              "    <tr>\n",
              "      <th>I-80</th>\n",
              "      <td>0.374513</td>\n",
              "    </tr>\n",
              "    <tr>\n",
              "      <th>I-70</th>\n",
              "      <td>0.354405</td>\n",
              "    </tr>\n",
              "    <tr>\n",
              "      <th>US-90</th>\n",
              "      <td>0.349378</td>\n",
              "    </tr>\n",
              "  </tbody>\n",
              "</table>\n",
              "</div><br><label><b>dtype:</b> float64</label>"
            ]
          },
          "metadata": {},
          "execution_count": 4
        }
      ]
    },
    {
      "cell_type": "code",
      "source": [
        "#Spalten die nicht benötigt werden, sollen direkt gelöscht werden\n",
        "df.drop(['SCH_BUS', 'SCH_BUSNAME', 'STATE', 'WRK_ZONE', 'WRK_ZONENAME', 'RAIL', 'PVH_INVL', 'COUNTY', 'CITY', 'MONTHNAME', 'DAYNAME', 'HOURNAME', 'MINUTENAME', 'RD_OWNERNAME', 'RD_OWNER',\n",
        "         'LATITUDE', 'LATITUDENAME', 'LONGITUD', 'LONGITUDNAME', 'YEAR', 'NHS', 'NHSNAME', 'RELJCT1', 'RELJCT1NAME', 'FUNC_SYS', 'MILEPT', 'MILEPTNAME', 'WEATHER', 'RUR_URB', 'LGT_COND',\n",
        "         'DAY_WEEK', 'NOT_MIN', 'REL_ROAD', 'HOSP_HRNAME', 'ARR_HOURNAME', 'HOSP_MN', 'ROUTE', 'SP_JUR', 'SP_JURNAME', 'ARR_MINNAME', 'HOSP_HR', 'HOSP_MNNAME', 'ARR_MIN', 'NOT_HOUR',\n",
        "         'NOT_HOURNAME', 'ARR_HOUR', 'NOT_MINNAME', 'RAILNAME', 'TYP_INT', 'MAN_COLL', 'HARM_EV', 'RELJCT2', 'TWAY_ID', 'TWAY_ID2'], axis=1, inplace=True)"
      ],
      "metadata": {
        "id": "LZPD4QYt7via"
      },
      "execution_count": 5,
      "outputs": []
    },
    {
      "cell_type": "code",
      "source": [
        "# Wie viele Spalten gibt es insgesamt?\n",
        "print(df.columns)"
      ],
      "metadata": {
        "id": "hWfknNO9e7ly",
        "outputId": "c3b0b1a9-ae00-411c-ca19-f0ca886d9918",
        "colab": {
          "base_uri": "https://localhost:8080/"
        }
      },
      "execution_count": 6,
      "outputs": [
        {
          "output_type": "stream",
          "name": "stdout",
          "text": [
            "Index(['STATENAME', 'ST_CASE', 'PEDS', 'PERNOTMVIT', 'VE_TOTAL', 'VE_FORMS',\n",
            "       'PERSONS', 'PERMVIT', 'COUNTYNAME', 'CITYNAME', 'MONTH', 'DAY',\n",
            "       'DAY_WEEKNAME', 'HOUR', 'MINUTE', 'ROUTENAME', 'RUR_URBNAME',\n",
            "       'FUNC_SYSNAME', 'HARM_EVNAME', 'MAN_COLLNAME', 'RELJCT2NAME',\n",
            "       'TYP_INTNAME', 'REL_ROADNAME', 'LGT_CONDNAME', 'WEATHERNAME', 'FATALS'],\n",
            "      dtype='object')\n"
          ]
        }
      ]
    },
    {
      "cell_type": "code",
      "source": [
        "import pandas as pd\n",
        "import numpy as np\n",
        "import matplotlib.pyplot as plt\n",
        "import seaborn as sns\n",
        "\n",
        "# 2. Automatisch alle numerischen Spalten auswählen\n",
        "numeric_df = df.select_dtypes(include=[np.number])\n",
        "\n",
        "# 3. Korrelationsmatrix berechnen\n",
        "corr_matrix = numeric_df.corr()\n",
        "\n",
        "# 4. Heatmap visualisieren\n",
        "plt.figure(figsize=(17, 10))\n",
        "sns.heatmap(corr_matrix, annot=True, cmap='coolwarm', fmt=\".2f\")\n",
        "plt.title('Korrelationsmatrix der numerischen Spalten im Accidents-Datensatz')\n",
        "plt.tight_layout()\n",
        "plt.show()"
      ],
      "metadata": {
        "id": "AJoy4nBKGP93",
        "outputId": "99adddd9-e049-4101-ac0a-1c27ec40899a",
        "colab": {
          "base_uri": "https://localhost:8080/",
          "height": 0
        }
      },
      "execution_count": 7,
      "outputs": [
        {
          "output_type": "display_data",
          "data": {
            "text/plain": [
              "<Figure size 1700x1000 with 2 Axes>"
            ],
            "image/png": "[encoded data removed]"
          },
          "metadata": {}
        }
      ]
    },
    {
      "cell_type": "markdown",
      "source": [
        "# cevent.csv\n",
        "Für unser Projekt, das sich auf die Vorhersage tödlicher Unfälle konzentriert, ist cevent.csv nicht zwingend notwendig. Diese Datei dokumentiert die chronologische Abfolge von Ereignissen (sowohl schädliche als auch nicht schädliche), die sich aus einer nicht stabilisierten Situation ergeben und einen Verkehrsunfall mit Kraftfahrzeugen darstellen."
      ],
      "metadata": {
        "id": "j0_Fcs8J7rbK"
      }
    },
    {
      "cell_type": "code",
      "source": [
        "df = pd.read_csv('cevent.csv', encoding='ISO-8859-1')\n",
        "df.columns\n",
        "df['EVENTNUM'].value_counts(normalize=True, dropna=False).head(10) * 100\n",
        "df['VNUMBER1'].value_counts(normalize=True, dropna=False).head(10) * 100\n",
        "df['AOI1'].value_counts(normalize=True, dropna=False).head(10) * 100\n",
        "df['AOI1NAME'].value_counts(normalize=True, dropna=False).head(10) * 100\n",
        "df['SOE'].value_counts(normalize=True, dropna=False).head(10) * 100\n",
        "df['SOENAME'].value_counts(normalize=True, dropna=False).head(10) * 100\n",
        "df['VNUMBER2'].value_counts(normalize=True, dropna=False).head(10) * 100\n",
        "df['VNUMBER2NAME'].value_counts(normalize=True, dropna=False).head(10) * 100\n",
        "df['AOI2'].value_counts(normalize=True, dropna=False).head(10) * 100\n",
        "df['AOI2NAME'].value_counts(normalize=True, dropna=False).head(10) * 100"
      ],
      "metadata": {
        "id": "mABeOedT7vMI",
        "outputId": "e8a12735-fd8b-42cd-af70-88559ebf487b",
        "colab": {
          "base_uri": "https://localhost:8080/",
          "height": 0
        }
      },
      "execution_count": 8,
      "outputs": [
        {
          "output_type": "execute_result",
          "data": {
            "text/plain": [
              "AOI2NAME\n",
              "Not a Motor Vehicle    45.716295\n",
              "Non-Harmful Event      33.706097\n",
              "12 Clock Point          6.461822\n",
              "6 Clock Point           4.335136\n",
              "9 Clock Point           1.496330\n",
              "3 Clock Point           1.236098\n",
              "11 Clock Point          0.979384\n",
              "Left                    0.673436\n",
              "Not Reported            0.644424\n",
              "1 Clock Point           0.564420\n",
              "Name: proportion, dtype: float64"
            ],
            "text/html": [
              "<div>\n",
              "<style scoped>\n",
              "    .dataframe tbody tr th:only-of-type {\n",
              "        vertical-align: middle;\n",
              "    }\n",
              "\n",
              "    .dataframe tbody tr th {\n",
              "        vertical-align: top;\n",
              "    }\n",
              "\n",
              "    .dataframe thead th {\n",
              "        text-align: right;\n",
              "    }\n",
              "</style>\n",
              "<table border=\"1\" class=\"dataframe\">\n",
              "  <thead>\n",
              "    <tr style=\"text-align: right;\">\n",
              "      <th></th>\n",
              "      <th>proportion</th>\n",
              "    </tr>\n",
              "    <tr>\n",
              "      <th>AOI2NAME</th>\n",
              "      <th></th>\n",
              "    </tr>\n",
              "  </thead>\n",
              "  <tbody>\n",
              "    <tr>\n",
              "      <th>Not a Motor Vehicle</th>\n",
              "      <td>45.716295</td>\n",
              "    </tr>\n",
              "    <tr>\n",
              "      <th>Non-Harmful Event</th>\n",
              "      <td>33.706097</td>\n",
              "    </tr>\n",
              "    <tr>\n",
              "      <th>12 Clock Point</th>\n",
              "      <td>6.461822</td>\n",
              "    </tr>\n",
              "    <tr>\n",
              "      <th>6 Clock Point</th>\n",
              "      <td>4.335136</td>\n",
              "    </tr>\n",
              "    <tr>\n",
              "      <th>9 Clock Point</th>\n",
              "      <td>1.496330</td>\n",
              "    </tr>\n",
              "    <tr>\n",
              "      <th>3 Clock Point</th>\n",
              "      <td>1.236098</td>\n",
              "    </tr>\n",
              "    <tr>\n",
              "      <th>11 Clock Point</th>\n",
              "      <td>0.979384</td>\n",
              "    </tr>\n",
              "    <tr>\n",
              "      <th>Left</th>\n",
              "      <td>0.673436</td>\n",
              "    </tr>\n",
              "    <tr>\n",
              "      <th>Not Reported</th>\n",
              "      <td>0.644424</td>\n",
              "    </tr>\n",
              "    <tr>\n",
              "      <th>1 Clock Point</th>\n",
              "      <td>0.564420</td>\n",
              "    </tr>\n",
              "  </tbody>\n",
              "</table>\n",
              "</div><br><label><b>dtype:</b> float64</label>"
            ]
          },
          "metadata": {},
          "execution_count": 8
        }
      ]
    },
    {
      "cell_type": "markdown",
      "source": [
        "# crashrf.csv\n",
        "Für unser Projekt, das sich auf die Vorhersage tödlicher Unfälle und die Identifikation zentraler Einflussfaktoren konzentriert, ist crashrf.csv nicht zwingend erforderlich. Diese Datei enthält zusätzliche Informationen zu ungewöhnlichen Bedingungen und besonderen Umständen, die im Zusammenhang mit dem Unfall stehen, jedoch liefern die zentralen Datensätze (wie accidents.csv, vehicle.csv und person.csv) bereits die wesentlichen Einflussfaktoren.\n",
        "\n"
      ],
      "metadata": {
        "id": "8uN3GloD6JXu"
      }
    },
    {
      "cell_type": "code",
      "source": [
        "df = pd.read_csv('crashrf.csv', encoding='ISO-8859-1')\n",
        "df.columns\n",
        "df['CRASHRF'].value_counts(normalize=True, dropna=False).head(10) * 100\n",
        "df['CRASHRFNAME'].value_counts(normalize=True, dropna=False).head(10) * 100"
      ],
      "metadata": {
        "id": "RdvAoDpl6NG6",
        "outputId": "bc8ecaa8-68b5-4270-df05-91085e66d3ba",
        "colab": {
          "base_uri": "https://localhost:8080/",
          "height": 0
        }
      },
      "execution_count": 9,
      "outputs": [
        {
          "output_type": "execute_result",
          "data": {
            "text/plain": [
              "CRASHRFNAME\n",
              "NaN                                                                                                                          91.233540\n",
              "Motor Vehicle struck by falling cargo,or something that came loose from or something that was set in motion by a vehicle      2.364326\n",
              "Indication of a Stalled/Disabled Vehicle                                                                                      1.294393\n",
              "Recent/Previous Crash scene Nearby                                                                                            1.122306\n",
              "Police Pursuit Involved                                                                                                       1.094872\n",
              "Reported as Unknown                                                                                                           0.803073\n",
              "Emergency Vehicle Related                                                                                                     0.321728\n",
              "Non-occupant struck by falling cargo, or something that came loose from, or something that was set in motion by a vehicle     0.261872\n",
              "Regular Congestion                                                                                                            0.246907\n",
              "Other Maintenance or Construction-Created Condition                                                                           0.231943\n",
              "Name: proportion, dtype: float64"
            ],
            "text/html": [
              "<div>\n",
              "<style scoped>\n",
              "    .dataframe tbody tr th:only-of-type {\n",
              "        vertical-align: middle;\n",
              "    }\n",
              "\n",
              "    .dataframe tbody tr th {\n",
              "        vertical-align: top;\n",
              "    }\n",
              "\n",
              "    .dataframe thead th {\n",
              "        text-align: right;\n",
              "    }\n",
              "</style>\n",
              "<table border=\"1\" class=\"dataframe\">\n",
              "  <thead>\n",
              "    <tr style=\"text-align: right;\">\n",
              "      <th></th>\n",
              "      <th>proportion</th>\n",
              "    </tr>\n",
              "    <tr>\n",
              "      <th>CRASHRFNAME</th>\n",
              "      <th></th>\n",
              "    </tr>\n",
              "  </thead>\n",
              "  <tbody>\n",
              "    <tr>\n",
              "      <th>NaN</th>\n",
              "      <td>91.233540</td>\n",
              "    </tr>\n",
              "    <tr>\n",
              "      <th>Motor Vehicle struck by falling cargo,or something that came loose from or something that was set in motion by a vehicle</th>\n",
              "      <td>2.364326</td>\n",
              "    </tr>\n",
              "    <tr>\n",
              "      <th>Indication of a Stalled/Disabled Vehicle</th>\n",
              "      <td>1.294393</td>\n",
              "    </tr>\n",
              "    <tr>\n",
              "      <th>Recent/Previous Crash scene Nearby</th>\n",
              "      <td>1.122306</td>\n",
              "    </tr>\n",
              "    <tr>\n",
              "      <th>Police Pursuit Involved</th>\n",
              "      <td>1.094872</td>\n",
              "    </tr>\n",
              "    <tr>\n",
              "      <th>Reported as Unknown</th>\n",
              "      <td>0.803073</td>\n",
              "    </tr>\n",
              "    <tr>\n",
              "      <th>Emergency Vehicle Related</th>\n",
              "      <td>0.321728</td>\n",
              "    </tr>\n",
              "    <tr>\n",
              "      <th>Non-occupant struck by falling cargo, or something that came loose from, or something that was set in motion by a vehicle</th>\n",
              "      <td>0.261872</td>\n",
              "    </tr>\n",
              "    <tr>\n",
              "      <th>Regular Congestion</th>\n",
              "      <td>0.246907</td>\n",
              "    </tr>\n",
              "    <tr>\n",
              "      <th>Other Maintenance or Construction-Created Condition</th>\n",
              "      <td>0.231943</td>\n",
              "    </tr>\n",
              "  </tbody>\n",
              "</table>\n",
              "</div><br><label><b>dtype:</b> float64</label>"
            ]
          },
          "metadata": {},
          "execution_count": 9
        }
      ]
    },
    {
      "cell_type": "markdown",
      "source": [
        "# damage.csv\n",
        "Für den Fokus auf die Vorhersage tödlicher Unfälle und die Identifikation zentraler Einflussfaktoren ist damage.csv nicht zwingend erforderlich. Diese Datei enthält detaillierte Angaben dazu, welche Bereiche eines Fahrzeugs beim Unfall beschädigt wurden, was für eine vertiefte Schadensanalyse interessant sein kann, aber in unserem Projekt nicht den Kernbereich abdeckt."
      ],
      "metadata": {
        "id": "qGu79pzmhAN0"
      }
    },
    {
      "cell_type": "code",
      "source": [
        "df = pd.read_csv('damage.csv', encoding='ISO-8859-1')\n",
        "df.columns\n",
        "df['DAMAGE'].value_counts(normalize=True, dropna=False).head(5) * 100\n",
        "df['DAMAGENAME'].value_counts(normalize=True, dropna=False).head(5) * 100"
      ],
      "metadata": {
        "id": "iweU_aNYhCK4",
        "outputId": "16f7ce26-305f-4afd-f783-a50c6aa44f1a",
        "colab": {
          "base_uri": "https://localhost:8080/",
          "height": 0
        }
      },
      "execution_count": 10,
      "outputs": [
        {
          "output_type": "execute_result",
          "data": {
            "text/plain": [
              "DAMAGENAME\n",
              "12 Clock Value    16.913671\n",
              "11 Clock Value     9.174595\n",
              "1 Clock Value      8.677919\n",
              "10 Clock Value     7.259934\n",
              "2 Clock Value      6.757540\n",
              "Name: proportion, dtype: float64"
            ],
            "text/html": [
              "<div>\n",
              "<style scoped>\n",
              "    .dataframe tbody tr th:only-of-type {\n",
              "        vertical-align: middle;\n",
              "    }\n",
              "\n",
              "    .dataframe tbody tr th {\n",
              "        vertical-align: top;\n",
              "    }\n",
              "\n",
              "    .dataframe thead th {\n",
              "        text-align: right;\n",
              "    }\n",
              "</style>\n",
              "<table border=\"1\" class=\"dataframe\">\n",
              "  <thead>\n",
              "    <tr style=\"text-align: right;\">\n",
              "      <th></th>\n",
              "      <th>proportion</th>\n",
              "    </tr>\n",
              "    <tr>\n",
              "      <th>DAMAGENAME</th>\n",
              "      <th></th>\n",
              "    </tr>\n",
              "  </thead>\n",
              "  <tbody>\n",
              "    <tr>\n",
              "      <th>12 Clock Value</th>\n",
              "      <td>16.913671</td>\n",
              "    </tr>\n",
              "    <tr>\n",
              "      <th>11 Clock Value</th>\n",
              "      <td>9.174595</td>\n",
              "    </tr>\n",
              "    <tr>\n",
              "      <th>1 Clock Value</th>\n",
              "      <td>8.677919</td>\n",
              "    </tr>\n",
              "    <tr>\n",
              "      <th>10 Clock Value</th>\n",
              "      <td>7.259934</td>\n",
              "    </tr>\n",
              "    <tr>\n",
              "      <th>2 Clock Value</th>\n",
              "      <td>6.757540</td>\n",
              "    </tr>\n",
              "  </tbody>\n",
              "</table>\n",
              "</div><br><label><b>dtype:</b> float64</label>"
            ]
          },
          "metadata": {},
          "execution_count": 10
        }
      ]
    },
    {
      "cell_type": "markdown",
      "source": [
        "# distract.csv"
      ],
      "metadata": {
        "id": "fOpA9qHs41TH"
      }
    },
    {
      "cell_type": "markdown",
      "source": [
        "distract.csv dokumentiert Ablenkungen von Fahrern (z. B. Handy-Nutzung, Essen, etc.) zum Zeitpunkt des Unfalls. Für die Vorhersage tödlicher Unfälle ist sie nicht zwingend erforderlich, da zentrale Fahrerinformationen bereits in person.csv enthalten sind. Bei einer vertieften Analyse zum Einfluss von Ablenkungen könnte distract.csv jedoch zusätzliche Einblicke bieten."
      ],
      "metadata": {
        "id": "TV36SFsx49XD"
      }
    },
    {
      "cell_type": "code",
      "source": [
        "df = pd.read_csv('distract.csv', encoding='ISO-8859-1')\n",
        "df.columns\n",
        "df['DRDISTRACT'].value_counts(normalize=True, dropna=False).head(10) * 100\n",
        "df['DRDISTRACTNAME'].value_counts(normalize=True, dropna=False).head(10) * 100"
      ],
      "metadata": {
        "id": "pH1yMx_R5CU6",
        "outputId": "c0548cdc-e008-42a6-c706-8ba2170bb11e",
        "colab": {
          "base_uri": "https://localhost:8080/",
          "height": 0
        }
      },
      "execution_count": 11,
      "outputs": [
        {
          "output_type": "execute_result",
          "data": {
            "text/plain": [
              "DRDISTRACTNAME\n",
              "Not Reported                                     50.570957\n",
              "Not Distracted                                   29.194837\n",
              "Reported as Unknown if Distracted                14.139682\n",
              "Inattention (Inattentive), Details Unknown        2.096205\n",
              "Distraction (Distracted), Details Unknown         1.107948\n",
              "No Driver Present/Unknown if Driver present       0.640507\n",
              "Distracted by Outside Person, Object or Event     0.449649\n",
              "Distraction/Inattention                           0.308932\n",
              "By Other Occupant(s)                              0.255556\n",
              "Other Mobile Phone Related                        0.237764\n",
              "Name: proportion, dtype: float64"
            ],
            "text/html": [
              "<div>\n",
              "<style scoped>\n",
              "    .dataframe tbody tr th:only-of-type {\n",
              "        vertical-align: middle;\n",
              "    }\n",
              "\n",
              "    .dataframe tbody tr th {\n",
              "        vertical-align: top;\n",
              "    }\n",
              "\n",
              "    .dataframe thead th {\n",
              "        text-align: right;\n",
              "    }\n",
              "</style>\n",
              "<table border=\"1\" class=\"dataframe\">\n",
              "  <thead>\n",
              "    <tr style=\"text-align: right;\">\n",
              "      <th></th>\n",
              "      <th>proportion</th>\n",
              "    </tr>\n",
              "    <tr>\n",
              "      <th>DRDISTRACTNAME</th>\n",
              "      <th></th>\n",
              "    </tr>\n",
              "  </thead>\n",
              "  <tbody>\n",
              "    <tr>\n",
              "      <th>Not Reported</th>\n",
              "      <td>50.570957</td>\n",
              "    </tr>\n",
              "    <tr>\n",
              "      <th>Not Distracted</th>\n",
              "      <td>29.194837</td>\n",
              "    </tr>\n",
              "    <tr>\n",
              "      <th>Reported as Unknown if Distracted</th>\n",
              "      <td>14.139682</td>\n",
              "    </tr>\n",
              "    <tr>\n",
              "      <th>Inattention (Inattentive), Details Unknown</th>\n",
              "      <td>2.096205</td>\n",
              "    </tr>\n",
              "    <tr>\n",
              "      <th>Distraction (Distracted), Details Unknown</th>\n",
              "      <td>1.107948</td>\n",
              "    </tr>\n",
              "    <tr>\n",
              "      <th>No Driver Present/Unknown if Driver present</th>\n",
              "      <td>0.640507</td>\n",
              "    </tr>\n",
              "    <tr>\n",
              "      <th>Distracted by Outside Person, Object or Event</th>\n",
              "      <td>0.449649</td>\n",
              "    </tr>\n",
              "    <tr>\n",
              "      <th>Distraction/Inattention</th>\n",
              "      <td>0.308932</td>\n",
              "    </tr>\n",
              "    <tr>\n",
              "      <th>By Other Occupant(s)</th>\n",
              "      <td>0.255556</td>\n",
              "    </tr>\n",
              "    <tr>\n",
              "      <th>Other Mobile Phone Related</th>\n",
              "      <td>0.237764</td>\n",
              "    </tr>\n",
              "  </tbody>\n",
              "</table>\n",
              "</div><br><label><b>dtype:</b> float64</label>"
            ]
          },
          "metadata": {},
          "execution_count": 11
        }
      ]
    },
    {
      "cell_type": "markdown",
      "source": [
        "# drimpair.csv\n",
        "Die drimpair.csv enthält Informationen zu körperlichen Beeinträchtigungen (Impairments) von Fahrern am Unfallzeitpunkt. Für die Vorhersage tödlicher Unfälle ist sie nicht zwingend erforderlich, da grundlegende Fahrerinformationen bereits in person.csv enthalten sind. Sie kann jedoch bei einer vertiefenden Analyse (z. B. medizinische Faktoren) hilfreich sein."
      ],
      "metadata": {
        "id": "dgSrjsWH4J_4"
      }
    },
    {
      "cell_type": "code",
      "source": [
        "df = pd.read_csv('drimpair.csv', encoding='ISO-8859-1')\n",
        "df.columns\n",
        "df['DRIMPAIR'].value_counts(normalize=True, dropna=False).head(10) * 100\n",
        "df['DRIMPAIRNAME'].value_counts(normalize=True, dropna=False).head(10) * 100"
      ],
      "metadata": {
        "id": "b9HYsi-84Viy",
        "outputId": "a313426f-b36d-4aea-faff-bc828ced5c00",
        "colab": {
          "base_uri": "https://localhost:8080/",
          "height": 0
        }
      },
      "execution_count": 12,
      "outputs": [
        {
          "output_type": "execute_result",
          "data": {
            "text/plain": [
              "DRIMPAIRNAME\n",
              "None/Apparently Normal                                 40.059993\n",
              "Not Reported                                           24.345638\n",
              "Reported as Unknown if Impaired                        20.436402\n",
              "Under the Influence of Alcohol, Drugs or Medication    11.210025\n",
              "Asleep or Fatigued                                      1.030529\n",
              "Ill, Blackout                                           0.945055\n",
              "Physical Impairment - No Details                        0.680568\n",
              "No Driver Present/Unknown if Driver Present             0.638638\n",
              "Emotional (depressed, angry, disturbed, etc.)           0.345122\n",
              "Other Physical Impairment                               0.277388\n",
              "Name: proportion, dtype: float64"
            ],
            "text/html": [
              "<div>\n",
              "<style scoped>\n",
              "    .dataframe tbody tr th:only-of-type {\n",
              "        vertical-align: middle;\n",
              "    }\n",
              "\n",
              "    .dataframe tbody tr th {\n",
              "        vertical-align: top;\n",
              "    }\n",
              "\n",
              "    .dataframe thead th {\n",
              "        text-align: right;\n",
              "    }\n",
              "</style>\n",
              "<table border=\"1\" class=\"dataframe\">\n",
              "  <thead>\n",
              "    <tr style=\"text-align: right;\">\n",
              "      <th></th>\n",
              "      <th>proportion</th>\n",
              "    </tr>\n",
              "    <tr>\n",
              "      <th>DRIMPAIRNAME</th>\n",
              "      <th></th>\n",
              "    </tr>\n",
              "  </thead>\n",
              "  <tbody>\n",
              "    <tr>\n",
              "      <th>None/Apparently Normal</th>\n",
              "      <td>40.059993</td>\n",
              "    </tr>\n",
              "    <tr>\n",
              "      <th>Not Reported</th>\n",
              "      <td>24.345638</td>\n",
              "    </tr>\n",
              "    <tr>\n",
              "      <th>Reported as Unknown if Impaired</th>\n",
              "      <td>20.436402</td>\n",
              "    </tr>\n",
              "    <tr>\n",
              "      <th>Under the Influence of Alcohol, Drugs or Medication</th>\n",
              "      <td>11.210025</td>\n",
              "    </tr>\n",
              "    <tr>\n",
              "      <th>Asleep or Fatigued</th>\n",
              "      <td>1.030529</td>\n",
              "    </tr>\n",
              "    <tr>\n",
              "      <th>Ill, Blackout</th>\n",
              "      <td>0.945055</td>\n",
              "    </tr>\n",
              "    <tr>\n",
              "      <th>Physical Impairment - No Details</th>\n",
              "      <td>0.680568</td>\n",
              "    </tr>\n",
              "    <tr>\n",
              "      <th>No Driver Present/Unknown if Driver Present</th>\n",
              "      <td>0.638638</td>\n",
              "    </tr>\n",
              "    <tr>\n",
              "      <th>Emotional (depressed, angry, disturbed, etc.)</th>\n",
              "      <td>0.345122</td>\n",
              "    </tr>\n",
              "    <tr>\n",
              "      <th>Other Physical Impairment</th>\n",
              "      <td>0.277388</td>\n",
              "    </tr>\n",
              "  </tbody>\n",
              "</table>\n",
              "</div><br><label><b>dtype:</b> float64</label>"
            ]
          },
          "metadata": {},
          "execution_count": 12
        }
      ]
    },
    {
      "cell_type": "markdown",
      "source": [
        "# driverrf.csv\n",
        "Für unseren Fokus ist driverrf.csv optional, da die wesentlichen Fahrerinformationen bereits in anderen zentralen Datensätzen (wie person.csv) enthalten sind. Diese Datei liefert ergänzende Faktoren, die spezielle Fahrerbedingungen, ungewöhnliche Situationen und besondere Umstände abbilden, die für eine vertiefende Analyse interessant sein könnten, aber für die Kernfragestellung nicht zwingend erforderlich sind."
      ],
      "metadata": {
        "id": "NqhBgjJpf5lY"
      }
    },
    {
      "cell_type": "code",
      "source": [
        "df = pd.read_csv('driverrf.csv', encoding='ISO-8859-1')\n",
        "df.columns\n",
        "df['DRIVERRF'].value_counts(normalize=True, dropna=False).head(10) * 100\n",
        "df['DRIVERRFNAME'].value_counts(normalize=True, dropna=False).head(10) * 100"
      ],
      "metadata": {
        "id": "bMV3RXaGf9Tm",
        "outputId": "656d3dd7-bc3f-4355-9f49-d3a077c1b5dd",
        "colab": {
          "base_uri": "https://localhost:8080/",
          "height": 0
        }
      },
      "execution_count": 13,
      "outputs": [
        {
          "output_type": "execute_result",
          "data": {
            "text/plain": [
              "DRIVERRFNAME\n",
              "NaN                                                                                                                             54.286805\n",
              "Careless Driving, Inattentive Operation, Improper Driving, Driving Without Due Care                                              6.800164\n",
              "Failure to Yield Right-of-Way                                                                                                    6.406718\n",
              "Improper Lane Usage                                                                                                              6.027952\n",
              "Operating the Vehicle in an Erratic, Reckless or Negligent Manner.                                                               4.009337\n",
              "Failure to Obey Actual Traffic Signs, Traffic Control Devices, or Traffic Officers. Failure to Obey Safety Zone Traffic Laws     3.686359\n",
              "Reported as Unknown                                                                                                              2.777615\n",
              "Overcorrecting                                                                                                                   2.764402\n",
              "Driving on Wrong Side of Two-Way Trafficway (Intentional or Unintentional)                                                       1.632509\n",
              "Following Improperly                                                                                                             1.133361\n",
              "Name: proportion, dtype: float64"
            ],
            "text/html": [
              "<div>\n",
              "<style scoped>\n",
              "    .dataframe tbody tr th:only-of-type {\n",
              "        vertical-align: middle;\n",
              "    }\n",
              "\n",
              "    .dataframe tbody tr th {\n",
              "        vertical-align: top;\n",
              "    }\n",
              "\n",
              "    .dataframe thead th {\n",
              "        text-align: right;\n",
              "    }\n",
              "</style>\n",
              "<table border=\"1\" class=\"dataframe\">\n",
              "  <thead>\n",
              "    <tr style=\"text-align: right;\">\n",
              "      <th></th>\n",
              "      <th>proportion</th>\n",
              "    </tr>\n",
              "    <tr>\n",
              "      <th>DRIVERRFNAME</th>\n",
              "      <th></th>\n",
              "    </tr>\n",
              "  </thead>\n",
              "  <tbody>\n",
              "    <tr>\n",
              "      <th>NaN</th>\n",
              "      <td>54.286805</td>\n",
              "    </tr>\n",
              "    <tr>\n",
              "      <th>Careless Driving, Inattentive Operation, Improper Driving, Driving Without Due Care</th>\n",
              "      <td>6.800164</td>\n",
              "    </tr>\n",
              "    <tr>\n",
              "      <th>Failure to Yield Right-of-Way</th>\n",
              "      <td>6.406718</td>\n",
              "    </tr>\n",
              "    <tr>\n",
              "      <th>Improper Lane Usage</th>\n",
              "      <td>6.027952</td>\n",
              "    </tr>\n",
              "    <tr>\n",
              "      <th>Operating the Vehicle in an Erratic, Reckless or Negligent Manner.</th>\n",
              "      <td>4.009337</td>\n",
              "    </tr>\n",
              "    <tr>\n",
              "      <th>Failure to Obey Actual Traffic Signs, Traffic Control Devices, or Traffic Officers. Failure to Obey Safety Zone Traffic Laws</th>\n",
              "      <td>3.686359</td>\n",
              "    </tr>\n",
              "    <tr>\n",
              "      <th>Reported as Unknown</th>\n",
              "      <td>2.777615</td>\n",
              "    </tr>\n",
              "    <tr>\n",
              "      <th>Overcorrecting</th>\n",
              "      <td>2.764402</td>\n",
              "    </tr>\n",
              "    <tr>\n",
              "      <th>Driving on Wrong Side of Two-Way Trafficway (Intentional or Unintentional)</th>\n",
              "      <td>1.632509</td>\n",
              "    </tr>\n",
              "    <tr>\n",
              "      <th>Following Improperly</th>\n",
              "      <td>1.133361</td>\n",
              "    </tr>\n",
              "  </tbody>\n",
              "</table>\n",
              "</div><br><label><b>dtype:</b> float64</label>"
            ]
          },
          "metadata": {},
          "execution_count": 13
        }
      ]
    },
    {
      "cell_type": "markdown",
      "source": [
        "# drugs.csv\n",
        "Für den Fokus „Vorhersage eines tödlichen Unfalls und Identifikation relevanter Einflussfaktoren“ ist die Verwendung von drugs.csv optional, da zentrale Alkohol- und Fahrerinformationen bereits in person.csv und anderen Kern-Datensätzen enthalten sein können."
      ],
      "metadata": {
        "id": "aiBUbr5rfcsT"
      }
    },
    {
      "cell_type": "code",
      "source": [
        "df = pd.read_csv('drugs.csv', encoding='ISO-8859-1')\n",
        "df.columns\n",
        "df['DRUGSPEC'].value_counts(normalize=True, dropna=False).head(5) * 100\n",
        "df['DRUGSPECNAME'].value_counts(normalize=True, dropna=False).head(5) * 100\n",
        "df['DRUGRES'].value_counts(normalize=True, dropna=False).head(5) * 100\n",
        "df['DRUGRESNAME'].value_counts(normalize=True, dropna=False).head(10) * 100"
      ],
      "metadata": {
        "id": "53D5etMofeP5",
        "outputId": "13b4412c-a372-4155-c383-b5a1886da2a1",
        "colab": {
          "base_uri": "https://localhost:8080/",
          "height": 0
        }
      },
      "execution_count": 14,
      "outputs": [
        {
          "output_type": "execute_result",
          "data": {
            "text/plain": [
              "DRUGRESNAME\n",
              "Test Not Given                             46.273842\n",
              "Tested, No Drugs Found/Negative            12.176620\n",
              "Not Reported                                8.176486\n",
              "Other Drug                                  6.718917\n",
              "Tetrahydrocannabinols (THC)                 2.968004\n",
              "METHAMPHETAMINE                             2.921013\n",
              "AMPHETAMINE                                 2.844652\n",
              "DELTA 9                                     2.541726\n",
              "Cannabinoid, Type Unknown                   2.536691\n",
              "Reported as Unknown if Tested for Drugs     2.510678\n",
              "Name: proportion, dtype: float64"
            ],
            "text/html": [
              "<div>\n",
              "<style scoped>\n",
              "    .dataframe tbody tr th:only-of-type {\n",
              "        vertical-align: middle;\n",
              "    }\n",
              "\n",
              "    .dataframe tbody tr th {\n",
              "        vertical-align: top;\n",
              "    }\n",
              "\n",
              "    .dataframe thead th {\n",
              "        text-align: right;\n",
              "    }\n",
              "</style>\n",
              "<table border=\"1\" class=\"dataframe\">\n",
              "  <thead>\n",
              "    <tr style=\"text-align: right;\">\n",
              "      <th></th>\n",
              "      <th>proportion</th>\n",
              "    </tr>\n",
              "    <tr>\n",
              "      <th>DRUGRESNAME</th>\n",
              "      <th></th>\n",
              "    </tr>\n",
              "  </thead>\n",
              "  <tbody>\n",
              "    <tr>\n",
              "      <th>Test Not Given</th>\n",
              "      <td>46.273842</td>\n",
              "    </tr>\n",
              "    <tr>\n",
              "      <th>Tested, No Drugs Found/Negative</th>\n",
              "      <td>12.176620</td>\n",
              "    </tr>\n",
              "    <tr>\n",
              "      <th>Not Reported</th>\n",
              "      <td>8.176486</td>\n",
              "    </tr>\n",
              "    <tr>\n",
              "      <th>Other Drug</th>\n",
              "      <td>6.718917</td>\n",
              "    </tr>\n",
              "    <tr>\n",
              "      <th>Tetrahydrocannabinols (THC)</th>\n",
              "      <td>2.968004</td>\n",
              "    </tr>\n",
              "    <tr>\n",
              "      <th>METHAMPHETAMINE</th>\n",
              "      <td>2.921013</td>\n",
              "    </tr>\n",
              "    <tr>\n",
              "      <th>AMPHETAMINE</th>\n",
              "      <td>2.844652</td>\n",
              "    </tr>\n",
              "    <tr>\n",
              "      <th>DELTA 9</th>\n",
              "      <td>2.541726</td>\n",
              "    </tr>\n",
              "    <tr>\n",
              "      <th>Cannabinoid, Type Unknown</th>\n",
              "      <td>2.536691</td>\n",
              "    </tr>\n",
              "    <tr>\n",
              "      <th>Reported as Unknown if Tested for Drugs</th>\n",
              "      <td>2.510678</td>\n",
              "    </tr>\n",
              "  </tbody>\n",
              "</table>\n",
              "</div><br><label><b>dtype:</b> float64</label>"
            ]
          },
          "metadata": {},
          "execution_count": 14
        }
      ]
    },
    {
      "cell_type": "markdown",
      "source": [
        "# factor.csv\n",
        "Für unseren Fokus auf die Vorhersage tödlicher Unfälle ist factor.csv nicht zwingend erforderlich, da wesentliche Fahrzeuginformationen bereits in vehicle.csv abgebildet sind. Die factor.csv liefert ergänzende Details zu spezifischen Fahrzeugumständen, die potenziell zum Unfall beigetragen haben könnten.\n",
        "\n"
      ],
      "metadata": {
        "id": "wualQrThhvji"
      }
    },
    {
      "cell_type": "code",
      "source": [
        "df = pd.read_csv('factor.csv', encoding='ISO-8859-1')\n",
        "df.columns\n",
        "df['VEHICLECC'].value_counts(normalize=True, dropna=False).head(5) * 100\n",
        "df['VEHICLECCNAME'].value_counts(normalize=True, dropna=False).head(5) * 100"
      ],
      "metadata": {
        "id": "bCNsPeXrhxJV",
        "outputId": "c080621f-63c3-4b42-994f-7221597cfda7",
        "colab": {
          "base_uri": "https://localhost:8080/",
          "height": 0
        }
      },
      "execution_count": 15,
      "outputs": [
        {
          "output_type": "execute_result",
          "data": {
            "text/plain": [
              "VEHICLECCNAME\n",
              "None Noted             92.204288\n",
              "Reported as Unknown     5.772866\n",
              "Tires                   0.904787\n",
              "Brake System            0.239122\n",
              "Other                   0.201961\n",
              "Name: proportion, dtype: float64"
            ],
            "text/html": [
              "<div>\n",
              "<style scoped>\n",
              "    .dataframe tbody tr th:only-of-type {\n",
              "        vertical-align: middle;\n",
              "    }\n",
              "\n",
              "    .dataframe tbody tr th {\n",
              "        vertical-align: top;\n",
              "    }\n",
              "\n",
              "    .dataframe thead th {\n",
              "        text-align: right;\n",
              "    }\n",
              "</style>\n",
              "<table border=\"1\" class=\"dataframe\">\n",
              "  <thead>\n",
              "    <tr style=\"text-align: right;\">\n",
              "      <th></th>\n",
              "      <th>proportion</th>\n",
              "    </tr>\n",
              "    <tr>\n",
              "      <th>VEHICLECCNAME</th>\n",
              "      <th></th>\n",
              "    </tr>\n",
              "  </thead>\n",
              "  <tbody>\n",
              "    <tr>\n",
              "      <th>None Noted</th>\n",
              "      <td>92.204288</td>\n",
              "    </tr>\n",
              "    <tr>\n",
              "      <th>Reported as Unknown</th>\n",
              "      <td>5.772866</td>\n",
              "    </tr>\n",
              "    <tr>\n",
              "      <th>Tires</th>\n",
              "      <td>0.904787</td>\n",
              "    </tr>\n",
              "    <tr>\n",
              "      <th>Brake System</th>\n",
              "      <td>0.239122</td>\n",
              "    </tr>\n",
              "    <tr>\n",
              "      <th>Other</th>\n",
              "      <td>0.201961</td>\n",
              "    </tr>\n",
              "  </tbody>\n",
              "</table>\n",
              "</div><br><label><b>dtype:</b> float64</label>"
            ]
          },
          "metadata": {},
          "execution_count": 15
        }
      ]
    },
    {
      "cell_type": "markdown",
      "source": [
        "# maneuver.csv\n",
        "Für unser Projekt ist maneuver.csv optional, da es spezifische Informationen zu den Vermeidungsmanövern des Fahrers liefert, die für die grundlegende Vorhersage tödlicher Unfälle nicht zentral sind."
      ],
      "metadata": {
        "id": "puG5Rjc6vftF"
      }
    },
    {
      "cell_type": "code",
      "source": [
        "df = pd.read_csv('maneuver.csv', encoding='ISO-8859-1')\n",
        "df.columns\n",
        "df['MANEUVER'].value_counts(normalize=True, dropna=False).head(10) * 100\n",
        "df['MANEUVERNAME'].value_counts(normalize=True, dropna=False).head(10) * 100"
      ],
      "metadata": {
        "id": "ji5UkhnevjzV",
        "outputId": "5372f0c0-f16f-4cfd-f5a7-a4676b719218",
        "colab": {
          "base_uri": "https://localhost:8080/",
          "height": 0
        }
      },
      "execution_count": 16,
      "outputs": [
        {
          "output_type": "execute_result",
          "data": {
            "text/plain": [
              "MANEUVERNAME\n",
              "Not Reported                                         66.071255\n",
              "Driver Did Not Maneuver to Avoid                     20.703492\n",
              "Contact Motor Vehicle (In this crash)                 6.936220\n",
              "Reported as Unknown                                   2.595217\n",
              "Pedestrian, Pedalcyclist or Other Non-Motorist        1.705336\n",
              "Phantom/Non-Contact Motor Vehicle                     1.011229\n",
              "No Driver Present/Unknown if Driver present           0.640714\n",
              "Live Animal                                           0.163415\n",
              "Object                                                0.152089\n",
              "Poor Road Conditions (Puddle, Ice, Pothole, etc.)     0.021034\n",
              "Name: proportion, dtype: float64"
            ],
            "text/html": [
              "<div>\n",
              "<style scoped>\n",
              "    .dataframe tbody tr th:only-of-type {\n",
              "        vertical-align: middle;\n",
              "    }\n",
              "\n",
              "    .dataframe tbody tr th {\n",
              "        vertical-align: top;\n",
              "    }\n",
              "\n",
              "    .dataframe thead th {\n",
              "        text-align: right;\n",
              "    }\n",
              "</style>\n",
              "<table border=\"1\" class=\"dataframe\">\n",
              "  <thead>\n",
              "    <tr style=\"text-align: right;\">\n",
              "      <th></th>\n",
              "      <th>proportion</th>\n",
              "    </tr>\n",
              "    <tr>\n",
              "      <th>MANEUVERNAME</th>\n",
              "      <th></th>\n",
              "    </tr>\n",
              "  </thead>\n",
              "  <tbody>\n",
              "    <tr>\n",
              "      <th>Not Reported</th>\n",
              "      <td>66.071255</td>\n",
              "    </tr>\n",
              "    <tr>\n",
              "      <th>Driver Did Not Maneuver to Avoid</th>\n",
              "      <td>20.703492</td>\n",
              "    </tr>\n",
              "    <tr>\n",
              "      <th>Contact Motor Vehicle (In this crash)</th>\n",
              "      <td>6.936220</td>\n",
              "    </tr>\n",
              "    <tr>\n",
              "      <th>Reported as Unknown</th>\n",
              "      <td>2.595217</td>\n",
              "    </tr>\n",
              "    <tr>\n",
              "      <th>Pedestrian, Pedalcyclist or Other Non-Motorist</th>\n",
              "      <td>1.705336</td>\n",
              "    </tr>\n",
              "    <tr>\n",
              "      <th>Phantom/Non-Contact Motor Vehicle</th>\n",
              "      <td>1.011229</td>\n",
              "    </tr>\n",
              "    <tr>\n",
              "      <th>No Driver Present/Unknown if Driver present</th>\n",
              "      <td>0.640714</td>\n",
              "    </tr>\n",
              "    <tr>\n",
              "      <th>Live Animal</th>\n",
              "      <td>0.163415</td>\n",
              "    </tr>\n",
              "    <tr>\n",
              "      <th>Object</th>\n",
              "      <td>0.152089</td>\n",
              "    </tr>\n",
              "    <tr>\n",
              "      <th>Poor Road Conditions (Puddle, Ice, Pothole, etc.)</th>\n",
              "      <td>0.021034</td>\n",
              "    </tr>\n",
              "  </tbody>\n",
              "</table>\n",
              "</div><br><label><b>dtype:</b> float64</label>"
            ]
          },
          "metadata": {},
          "execution_count": 16
        }
      ]
    },
    {
      "cell_type": "markdown",
      "source": [
        "# MIACC.CSV, MIDRVACC.CSV, MIPER.CSV\n",
        "Für unser Projekt, das sich auf die Vorhersage tödlicher Unfälle und die Identifikation relevanter Risikofaktoren konzentriert, sind MIACC.CSV, MIDRVACC.CSV und MIPER.CSV optional, da grundlegende Alkoholindikatoren bereits in den zentralen Datensätzen (wie person.csv, z. B. über die Variable DRINKING) enthalten sein können.\n"
      ],
      "metadata": {
        "id": "nQ4P8N2XnKm8"
      }
    },
    {
      "cell_type": "markdown",
      "source": [
        "# nmcrash.csv\n",
        "Für unseren Fokus auf die Vorhersage tödlicher Unfälle und die Analyse zentraler Risikofaktoren ist nmcrash.csv nicht zwingend erforderlich, da sie sich speziell auf Handlungen von Personen bezieht, die keine Insassen von Kraftfahrzeugen sind (z. B. Fußgänger oder Fahrradfahrer), welche in unserer Kernanalyse nur einen untergeordneten Aspekt darstellen."
      ],
      "metadata": {
        "id": "SIRHE64wlC_2"
      }
    },
    {
      "cell_type": "code",
      "source": [
        "df = pd.read_csv('nmcrash.csv', encoding='ISO-8859-1')\n",
        "df.columns\n",
        "df['NMCC'].value_counts(normalize=True, dropna=False).head(5) * 100\n",
        "df['NMCCNAME'].value_counts(normalize=True, dropna=False).head(5) * 100"
      ],
      "metadata": {
        "id": "hY6mffrdlSdx",
        "outputId": "acb3a0ff-ce3c-4c59-e676-1c0019116186",
        "colab": {
          "base_uri": "https://localhost:8080/",
          "height": 0
        }
      },
      "execution_count": 17,
      "outputs": [
        {
          "output_type": "execute_result",
          "data": {
            "text/plain": [
              "NMCCNAME\n",
              "Failure to Yield Right-Of-Way                                      34.353636\n",
              "None Noted                                                         17.371038\n",
              "Improper Crossing of Roadway or Intersection (Jaywalking)          11.513362\n",
              "In Roadway Improperly (Standing, Lying, Working, Playing, etc.)     7.753263\n",
              "Not Visible (Dark clothing, No Lighting, etc.)                      7.193909\n",
              "Name: proportion, dtype: float64"
            ],
            "text/html": [
              "<div>\n",
              "<style scoped>\n",
              "    .dataframe tbody tr th:only-of-type {\n",
              "        vertical-align: middle;\n",
              "    }\n",
              "\n",
              "    .dataframe tbody tr th {\n",
              "        vertical-align: top;\n",
              "    }\n",
              "\n",
              "    .dataframe thead th {\n",
              "        text-align: right;\n",
              "    }\n",
              "</style>\n",
              "<table border=\"1\" class=\"dataframe\">\n",
              "  <thead>\n",
              "    <tr style=\"text-align: right;\">\n",
              "      <th></th>\n",
              "      <th>proportion</th>\n",
              "    </tr>\n",
              "    <tr>\n",
              "      <th>NMCCNAME</th>\n",
              "      <th></th>\n",
              "    </tr>\n",
              "  </thead>\n",
              "  <tbody>\n",
              "    <tr>\n",
              "      <th>Failure to Yield Right-Of-Way</th>\n",
              "      <td>34.353636</td>\n",
              "    </tr>\n",
              "    <tr>\n",
              "      <th>None Noted</th>\n",
              "      <td>17.371038</td>\n",
              "    </tr>\n",
              "    <tr>\n",
              "      <th>Improper Crossing of Roadway or Intersection (Jaywalking)</th>\n",
              "      <td>11.513362</td>\n",
              "    </tr>\n",
              "    <tr>\n",
              "      <th>In Roadway Improperly (Standing, Lying, Working, Playing, etc.)</th>\n",
              "      <td>7.753263</td>\n",
              "    </tr>\n",
              "    <tr>\n",
              "      <th>Not Visible (Dark clothing, No Lighting, etc.)</th>\n",
              "      <td>7.193909</td>\n",
              "    </tr>\n",
              "  </tbody>\n",
              "</table>\n",
              "</div><br><label><b>dtype:</b> float64</label>"
            ]
          },
          "metadata": {},
          "execution_count": 17
        }
      ]
    },
    {
      "cell_type": "markdown",
      "source": [
        "# nmdistract.csv\n",
        "Für unser Projekt, das sich auf die Vorhersage tödlicher Unfälle und die Analyse zentraler Risikofaktoren konzentriert, ist nmdistract.csv nicht zwingend notwendig, da diese Datei Ablenkungen von Personen erfasst, die keine Insassen von Kraftfahrzeugen sind – ein Aspekt, der in unserer Kernanalyse nur eine untergeordnete Rolle spielt."
      ],
      "metadata": {
        "id": "BCFl3A1gbI8k"
      }
    },
    {
      "cell_type": "code",
      "source": [
        "df = pd.read_csv('nmdistract.csv', encoding='ISO-8859-1')\n",
        "df.columns\n",
        "\n",
        "df['NMDISTRACT'].value_counts(normalize=True, dropna=False).head(5) * 100\n",
        "df['NMDISTRACTNAME'].value_counts(normalize=True, dropna=False).head(15) * 100"
      ],
      "metadata": {
        "id": "DZE-9ha6bU2U",
        "outputId": "fa7513aa-22c1-4fea-92ad-6e23e8b1d1fa",
        "colab": {
          "base_uri": "https://localhost:8080/",
          "height": 0
        }
      },
      "execution_count": 18,
      "outputs": [
        {
          "output_type": "execute_result",
          "data": {
            "text/plain": [
              "NMDISTRACTNAME\n",
              "Not Reported                                                               77.532468\n",
              "Not Distracted                                                             11.764069\n",
              "Reported as Unknown if Distracted                                           7.337662\n",
              "Inattention (Inattentive), Details Unknown                                  0.963203\n",
              "Distraction (Distracted), Details Unknown                                   0.746753\n",
              "Distracted by Animal, Other Object, Event, or Activity                      0.465368\n",
              "Distraction/Inattention                                                     0.270563\n",
              "By Other Non-Motorist(s)                                                    0.205628\n",
              "While Talking or Listening to Mobile Phone                                  0.194805\n",
              "Other Distraction (Specify:)                                                0.129870\n",
              "While Manipulating Mobile Phone                                             0.086580\n",
              "Other Mobile Phone Related                                                  0.075758\n",
              "By a Driver or Occupant of a Motor Vehicle                                  0.064935\n",
              "Adjusting, Talking to, or Manipulating Other Portable Electronic Device     0.054113\n",
              "Eating or Drinking                                                          0.043290\n",
              "Name: proportion, dtype: float64"
            ],
            "text/html": [
              "<div>\n",
              "<style scoped>\n",
              "    .dataframe tbody tr th:only-of-type {\n",
              "        vertical-align: middle;\n",
              "    }\n",
              "\n",
              "    .dataframe tbody tr th {\n",
              "        vertical-align: top;\n",
              "    }\n",
              "\n",
              "    .dataframe thead th {\n",
              "        text-align: right;\n",
              "    }\n",
              "</style>\n",
              "<table border=\"1\" class=\"dataframe\">\n",
              "  <thead>\n",
              "    <tr style=\"text-align: right;\">\n",
              "      <th></th>\n",
              "      <th>proportion</th>\n",
              "    </tr>\n",
              "    <tr>\n",
              "      <th>NMDISTRACTNAME</th>\n",
              "      <th></th>\n",
              "    </tr>\n",
              "  </thead>\n",
              "  <tbody>\n",
              "    <tr>\n",
              "      <th>Not Reported</th>\n",
              "      <td>77.532468</td>\n",
              "    </tr>\n",
              "    <tr>\n",
              "      <th>Not Distracted</th>\n",
              "      <td>11.764069</td>\n",
              "    </tr>\n",
              "    <tr>\n",
              "      <th>Reported as Unknown if Distracted</th>\n",
              "      <td>7.337662</td>\n",
              "    </tr>\n",
              "    <tr>\n",
              "      <th>Inattention (Inattentive), Details Unknown</th>\n",
              "      <td>0.963203</td>\n",
              "    </tr>\n",
              "    <tr>\n",
              "      <th>Distraction (Distracted), Details Unknown</th>\n",
              "      <td>0.746753</td>\n",
              "    </tr>\n",
              "    <tr>\n",
              "      <th>Distracted by Animal, Other Object, Event, or Activity</th>\n",
              "      <td>0.465368</td>\n",
              "    </tr>\n",
              "    <tr>\n",
              "      <th>Distraction/Inattention</th>\n",
              "      <td>0.270563</td>\n",
              "    </tr>\n",
              "    <tr>\n",
              "      <th>By Other Non-Motorist(s)</th>\n",
              "      <td>0.205628</td>\n",
              "    </tr>\n",
              "    <tr>\n",
              "      <th>While Talking or Listening to Mobile Phone</th>\n",
              "      <td>0.194805</td>\n",
              "    </tr>\n",
              "    <tr>\n",
              "      <th>Other Distraction (Specify:)</th>\n",
              "      <td>0.129870</td>\n",
              "    </tr>\n",
              "    <tr>\n",
              "      <th>While Manipulating Mobile Phone</th>\n",
              "      <td>0.086580</td>\n",
              "    </tr>\n",
              "    <tr>\n",
              "      <th>Other Mobile Phone Related</th>\n",
              "      <td>0.075758</td>\n",
              "    </tr>\n",
              "    <tr>\n",
              "      <th>By a Driver or Occupant of a Motor Vehicle</th>\n",
              "      <td>0.064935</td>\n",
              "    </tr>\n",
              "    <tr>\n",
              "      <th>Adjusting, Talking to, or Manipulating Other Portable Electronic Device</th>\n",
              "      <td>0.054113</td>\n",
              "    </tr>\n",
              "    <tr>\n",
              "      <th>Eating or Drinking</th>\n",
              "      <td>0.043290</td>\n",
              "    </tr>\n",
              "  </tbody>\n",
              "</table>\n",
              "</div><br><label><b>dtype:</b> float64</label>"
            ]
          },
          "metadata": {},
          "execution_count": 18
        }
      ]
    },
    {
      "cell_type": "markdown",
      "source": [
        "# nmimpair.csv\n",
        "Für unseren Analysefokus ist nmimpair.csv nicht zwingend erforderlich, da es Informationen zu körperlichen Beeinträchtigungen von Personen liefert, die keine Insassen von Kraftfahrzeugen sind – ein Aspekt, der im Rahmen der Vorhersage tödlicher Unfälle eher eine untergeordnete Rolle spielt."
      ],
      "metadata": {
        "id": "vVMhw24jXugh"
      }
    },
    {
      "cell_type": "code",
      "source": [
        "df = pd.read_csv('nmimpair.csv', encoding='ISO-8859-1')\n",
        "df.columns\n",
        "df['NMIMPAIR'].value_counts(normalize=True, dropna=False).head(5) * 100\n",
        "df['NMIMPAIRNAME'].value_counts(normalize=True, dropna=False).head(5) * 100"
      ],
      "metadata": {
        "id": "4CBIALQuX0HI",
        "outputId": "974ec83a-529c-490c-a594-14b9e4eeed4e",
        "colab": {
          "base_uri": "https://localhost:8080/",
          "height": 0
        }
      },
      "execution_count": 19,
      "outputs": [
        {
          "output_type": "execute_result",
          "data": {
            "text/plain": [
              "NMIMPAIRNAME\n",
              "Not Reported                                           41.647770\n",
              "Reported as Unknown if Impaired                        28.949358\n",
              "None/Apparently Normal                                 18.280963\n",
              "Under the Influence of Alcohol, Drugs or Medication     8.778750\n",
              "Physical Impairment - No Details                        0.637080\n",
              "Name: proportion, dtype: float64"
            ],
            "text/html": [
              "<div>\n",
              "<style scoped>\n",
              "    .dataframe tbody tr th:only-of-type {\n",
              "        vertical-align: middle;\n",
              "    }\n",
              "\n",
              "    .dataframe tbody tr th {\n",
              "        vertical-align: top;\n",
              "    }\n",
              "\n",
              "    .dataframe thead th {\n",
              "        text-align: right;\n",
              "    }\n",
              "</style>\n",
              "<table border=\"1\" class=\"dataframe\">\n",
              "  <thead>\n",
              "    <tr style=\"text-align: right;\">\n",
              "      <th></th>\n",
              "      <th>proportion</th>\n",
              "    </tr>\n",
              "    <tr>\n",
              "      <th>NMIMPAIRNAME</th>\n",
              "      <th></th>\n",
              "    </tr>\n",
              "  </thead>\n",
              "  <tbody>\n",
              "    <tr>\n",
              "      <th>Not Reported</th>\n",
              "      <td>41.647770</td>\n",
              "    </tr>\n",
              "    <tr>\n",
              "      <th>Reported as Unknown if Impaired</th>\n",
              "      <td>28.949358</td>\n",
              "    </tr>\n",
              "    <tr>\n",
              "      <th>None/Apparently Normal</th>\n",
              "      <td>18.280963</td>\n",
              "    </tr>\n",
              "    <tr>\n",
              "      <th>Under the Influence of Alcohol, Drugs or Medication</th>\n",
              "      <td>8.778750</td>\n",
              "    </tr>\n",
              "    <tr>\n",
              "      <th>Physical Impairment - No Details</th>\n",
              "      <td>0.637080</td>\n",
              "    </tr>\n",
              "  </tbody>\n",
              "</table>\n",
              "</div><br><label><b>dtype:</b> float64</label>"
            ]
          },
          "metadata": {},
          "execution_count": 19
        }
      ]
    },
    {
      "cell_type": "markdown",
      "source": [
        "# nmprior.csv\n",
        "Für unseren Analysefokus ist nmprior.csv nicht zentral, da diese Datei ausschließlich das Verhalten von Personen dokumentiert, die keine Insassen sind (z. B. Fußgänger und Fahrradfahrer), und somit nur einen untergeordneten Aspekt des Unfallgeschehens abdeckt."
      ],
      "metadata": {
        "id": "2A6ph9PrWD7N"
      }
    },
    {
      "cell_type": "code",
      "source": [
        "df = pd.read_csv('nmprior.csv', encoding='ISO-8859-1')\n",
        "df.columns\n",
        "\n",
        "df['NMACTION'].value_counts(normalize=False, dropna=False).head(5)\n",
        "df['NMACTIONNAME'].value_counts(normalize=False, dropna=False).head(5)"
      ],
      "metadata": {
        "id": "0tcmYfFaWDp5",
        "outputId": "6bfeb027-b3ac-4ae4-9a1e-9cc206eede30",
        "colab": {
          "base_uri": "https://localhost:8080/",
          "height": 0
        }
      },
      "execution_count": 20,
      "outputs": [
        {
          "output_type": "execute_result",
          "data": {
            "text/plain": [
              "NMACTIONNAME\n",
              "Crossing Roadway                                                          4818\n",
              "Movement Along Roadway with Traffic (In or Adjacent to Travel Lane)       1350\n",
              "In Roadway - Other (Working, Playing, Etc.)                               1035\n",
              "Disabled Vehicle Related (Working on, Pushing, Leaving/Approaching)        596\n",
              "Movement Along Roadway Against Traffic (In or Adjacent to Travel Lane)     302\n",
              "Name: count, dtype: int64"
            ],
            "text/html": [
              "<div>\n",
              "<style scoped>\n",
              "    .dataframe tbody tr th:only-of-type {\n",
              "        vertical-align: middle;\n",
              "    }\n",
              "\n",
              "    .dataframe tbody tr th {\n",
              "        vertical-align: top;\n",
              "    }\n",
              "\n",
              "    .dataframe thead th {\n",
              "        text-align: right;\n",
              "    }\n",
              "</style>\n",
              "<table border=\"1\" class=\"dataframe\">\n",
              "  <thead>\n",
              "    <tr style=\"text-align: right;\">\n",
              "      <th></th>\n",
              "      <th>count</th>\n",
              "    </tr>\n",
              "    <tr>\n",
              "      <th>NMACTIONNAME</th>\n",
              "      <th></th>\n",
              "    </tr>\n",
              "  </thead>\n",
              "  <tbody>\n",
              "    <tr>\n",
              "      <th>Crossing Roadway</th>\n",
              "      <td>4818</td>\n",
              "    </tr>\n",
              "    <tr>\n",
              "      <th>Movement Along Roadway with Traffic (In or Adjacent to Travel Lane)</th>\n",
              "      <td>1350</td>\n",
              "    </tr>\n",
              "    <tr>\n",
              "      <th>In Roadway - Other (Working, Playing, Etc.)</th>\n",
              "      <td>1035</td>\n",
              "    </tr>\n",
              "    <tr>\n",
              "      <th>Disabled Vehicle Related (Working on, Pushing, Leaving/Approaching)</th>\n",
              "      <td>596</td>\n",
              "    </tr>\n",
              "    <tr>\n",
              "      <th>Movement Along Roadway Against Traffic (In or Adjacent to Travel Lane)</th>\n",
              "      <td>302</td>\n",
              "    </tr>\n",
              "  </tbody>\n",
              "</table>\n",
              "</div><br><label><b>dtype:</b> int64</label>"
            ]
          },
          "metadata": {},
          "execution_count": 20
        }
      ]
    },
    {
      "cell_type": "markdown",
      "source": [
        "# parkwork.csv\n",
        "Da sich unser Analysefokus auf Unfälle im laufenden Verkehr und die damit verbundenen Unfall- sowie Fahrzeugmerkmale konzentriert, liefert parkwork.csv, das Informationen zu geparkten bzw. im Einsatz befindlichen Fahrzeugen enthält, keine zusätzlichen relevanten Erkenntnisse. Daher wird parkwork.csv in unserem Code nicht berücksichtigt."
      ],
      "metadata": {
        "id": "TkfYJycDkFJG"
      }
    },
    {
      "cell_type": "code",
      "source": [
        "df = pd.read_csv('parkwork.csv', encoding='ISO-8859-1')\n",
        "df.columns"
      ],
      "metadata": {
        "id": "qV0X7L_ekaZw",
        "outputId": "8756e16e-7e10-4ed1-f60a-db1b41e21c44",
        "colab": {
          "base_uri": "https://localhost:8080/"
        }
      },
      "execution_count": 21,
      "outputs": [
        {
          "output_type": "execute_result",
          "data": {
            "text/plain": [
              "Index(['STATE', 'STATENAME', 'ST_CASE', 'VEH_NO', 'PVE_FORMS', 'PMONTH',\n",
              "       'PMONTHNAME', 'PDAY', 'PDAYNAME', 'PHOUR',\n",
              "       ...\n",
              "       'PVIN_4', 'PVIN_5', 'PVIN_6', 'PVIN_7', 'PVIN_8', 'PVIN_9', 'PVIN_10',\n",
              "       'PVIN_11', 'PVIN_12', 'PDEATHS'],\n",
              "      dtype='object', length=115)"
            ]
          },
          "metadata": {},
          "execution_count": 21
        }
      ]
    },
    {
      "cell_type": "markdown",
      "source": [
        "# pbtype.csv\n",
        "Für den Fokus „Vorhersage eines tödlichen Unfalls und Identifikation relevanter Einflussfaktoren“ ist pbtype.csv nicht zentral, da diese Datei speziell Unfälle zwischen Kraftfahrzeugen und Fußgängern, Fahrradfahrern sowie Personen auf privaten Transportmitteln dokumentiert – ein relativ spezieller Fall, der in der Gesamtanalyse nur eine untergeordnete Rolle spielt."
      ],
      "metadata": {
        "id": "Xws-k-KcVNsy"
      }
    },
    {
      "cell_type": "markdown",
      "source": [
        "# person.csv\n",
        "Ja, person.csv ist essenziell, da sie detaillierte Informationen zu allen am Unfall beteiligten Personen liefert – von Fahrern über Passagiere bis hin zu Fußgängern."
      ],
      "metadata": {
        "id": "nCyRiFTq2L1t"
      }
    },
    {
      "cell_type": "markdown",
      "source": [
        "# personrf.csv\n",
        "Für unseren Fokus ist personrf.csv nicht zwingend erforderlich, da die wesentlichen Personeninformationen bereits in person.csv enthalten sind. Die personrf.csv liefert ergänzende Faktoren zu jeder am Unfall beteiligten Person (sowohl Insassen als auch Nicht-Insassen), was für weiterführende Analysen interessant sein könnte, aber für die grundlegende Vorhersage tödlicher Unfälle weniger zentral ist."
      ],
      "metadata": {
        "id": "0eA2y72OYx9v"
      }
    },
    {
      "cell_type": "code",
      "source": [
        "df = pd.read_csv('personrf.csv', encoding='ISO-8859-1')\n",
        "df.columns\n",
        "df['PERSONRF'].value_counts(normalize=True, dropna=False).head(5) * 100\n",
        "df['PERSONRFNAME'].value_counts(normalize=True, dropna=False).head(5) * 100"
      ],
      "metadata": {
        "id": "mOr8gAPNY2ya",
        "outputId": "87c63b7a-6970-4245-ac19-04a5dd0ea87f",
        "colab": {
          "base_uri": "https://localhost:8080/",
          "height": 0
        }
      },
      "execution_count": 22,
      "outputs": [
        {
          "output_type": "execute_result",
          "data": {
            "text/plain": [
              "PERSONRFNAME\n",
              "NaN                                        99.093547\n",
              "*Traveling on Prohibited Trafficways        0.246096\n",
              "Reported as Unknown                         0.181496\n",
              "Non-Operator Flees Scene                    0.061524\n",
              "Construction/Maintenance/Utility Worker     0.043067\n",
              "Name: proportion, dtype: float64"
            ],
            "text/html": [
              "<div>\n",
              "<style scoped>\n",
              "    .dataframe tbody tr th:only-of-type {\n",
              "        vertical-align: middle;\n",
              "    }\n",
              "\n",
              "    .dataframe tbody tr th {\n",
              "        vertical-align: top;\n",
              "    }\n",
              "\n",
              "    .dataframe thead th {\n",
              "        text-align: right;\n",
              "    }\n",
              "</style>\n",
              "<table border=\"1\" class=\"dataframe\">\n",
              "  <thead>\n",
              "    <tr style=\"text-align: right;\">\n",
              "      <th></th>\n",
              "      <th>proportion</th>\n",
              "    </tr>\n",
              "    <tr>\n",
              "      <th>PERSONRFNAME</th>\n",
              "      <th></th>\n",
              "    </tr>\n",
              "  </thead>\n",
              "  <tbody>\n",
              "    <tr>\n",
              "      <th>NaN</th>\n",
              "      <td>99.093547</td>\n",
              "    </tr>\n",
              "    <tr>\n",
              "      <th>*Traveling on Prohibited Trafficways</th>\n",
              "      <td>0.246096</td>\n",
              "    </tr>\n",
              "    <tr>\n",
              "      <th>Reported as Unknown</th>\n",
              "      <td>0.181496</td>\n",
              "    </tr>\n",
              "    <tr>\n",
              "      <th>Non-Operator Flees Scene</th>\n",
              "      <td>0.061524</td>\n",
              "    </tr>\n",
              "    <tr>\n",
              "      <th>Construction/Maintenance/Utility Worker</th>\n",
              "      <td>0.043067</td>\n",
              "    </tr>\n",
              "  </tbody>\n",
              "</table>\n",
              "</div><br><label><b>dtype:</b> float64</label>"
            ]
          },
          "metadata": {},
          "execution_count": 22
        }
      ]
    },
    {
      "cell_type": "markdown",
      "source": [
        "# pvehiclesf.csv\n",
        "Für unser Projekt, das sich auf die Vorhersage tödlicher Unfälle konzentriert, ist pvehiclesf.csv nicht zwingend erforderlich, da sie Faktoren zu geparkten und im Einsatz befindlichen Fahrzeugen enthält – Aspekte, die für unsere Kernanalyse weniger relevant sind."
      ],
      "metadata": {
        "id": "kumlLtlMuf10"
      }
    },
    {
      "cell_type": "code",
      "source": [
        "df = pd.read_csv('pvehiclesf.csv', encoding='ISO-8859-1')\n",
        "df.columns\n",
        "df['PVEHICLESF'].value_counts(normalize=True, dropna=False).head(10) * 100\n",
        "df['PVEHICLESFNAME'].value_counts(normalize=True, dropna=False).head(10) * 100"
      ],
      "metadata": {
        "id": "bMtLxpsBufjU",
        "outputId": "32bb63c8-7dea-4c52-c31d-181587bd3987",
        "colab": {
          "base_uri": "https://localhost:8080/",
          "height": 0
        }
      },
      "execution_count": 23,
      "outputs": [
        {
          "output_type": "execute_result",
          "data": {
            "text/plain": [
              "PVEHICLESFNAME\n",
              "NaN                                                                                                                 98.814898\n",
              "Other Working Vehicle (Not Construction, Maintenance, Utility, Police, Fire, or EMS Vehicle)                         0.620767\n",
              "Police, Fire, or EMS Vehicle Working at the Scene of an Emergency or Performing Other Traffic Control Activities     0.451467\n",
              "Reported as Unknown                                                                                                  0.112867\n",
              "Name: proportion, dtype: float64"
            ],
            "text/html": [
              "<div>\n",
              "<style scoped>\n",
              "    .dataframe tbody tr th:only-of-type {\n",
              "        vertical-align: middle;\n",
              "    }\n",
              "\n",
              "    .dataframe tbody tr th {\n",
              "        vertical-align: top;\n",
              "    }\n",
              "\n",
              "    .dataframe thead th {\n",
              "        text-align: right;\n",
              "    }\n",
              "</style>\n",
              "<table border=\"1\" class=\"dataframe\">\n",
              "  <thead>\n",
              "    <tr style=\"text-align: right;\">\n",
              "      <th></th>\n",
              "      <th>proportion</th>\n",
              "    </tr>\n",
              "    <tr>\n",
              "      <th>PVEHICLESFNAME</th>\n",
              "      <th></th>\n",
              "    </tr>\n",
              "  </thead>\n",
              "  <tbody>\n",
              "    <tr>\n",
              "      <th>NaN</th>\n",
              "      <td>98.814898</td>\n",
              "    </tr>\n",
              "    <tr>\n",
              "      <th>Other Working Vehicle (Not Construction, Maintenance, Utility, Police, Fire, or EMS Vehicle)</th>\n",
              "      <td>0.620767</td>\n",
              "    </tr>\n",
              "    <tr>\n",
              "      <th>Police, Fire, or EMS Vehicle Working at the Scene of an Emergency or Performing Other Traffic Control Activities</th>\n",
              "      <td>0.451467</td>\n",
              "    </tr>\n",
              "    <tr>\n",
              "      <th>Reported as Unknown</th>\n",
              "      <td>0.112867</td>\n",
              "    </tr>\n",
              "  </tbody>\n",
              "</table>\n",
              "</div><br><label><b>dtype:</b> float64</label>"
            ]
          },
          "metadata": {},
          "execution_count": 23
        }
      ]
    },
    {
      "cell_type": "markdown",
      "source": [
        "# race.csv\n",
        "Der Datensatz `race.csv` liefert zwar Rasseninformationen der verstorbenen Personen, jedoch sind diese Daten für die Vorhersage tödlicher Unfälle nicht zentral."
      ],
      "metadata": {
        "id": "2_x7409jiYqT"
      }
    },
    {
      "cell_type": "code",
      "source": [
        "df = pd.read_csv('race.csv', encoding='ISO-8859-1')\n",
        "df.columns"
      ],
      "metadata": {
        "id": "Q0b_URoKdsCv",
        "outputId": "8dbc3f49-6f7b-49bb-fac8-710a8921e6f9",
        "colab": {
          "base_uri": "https://localhost:8080/"
        }
      },
      "execution_count": 24,
      "outputs": [
        {
          "output_type": "stream",
          "name": "stderr",
          "text": [
            "<ipython-input-24-42aabc386a14>:1: DtypeWarning: Columns (8) have mixed types. Specify dtype option on import or set low_memory=False.\n",
            "  df = pd.read_csv('race.csv', encoding='ISO-8859-1')\n"
          ]
        },
        {
          "output_type": "execute_result",
          "data": {
            "text/plain": [
              "Index(['STATE', 'STATENAME', 'ST_CASE', 'VEH_NO', 'PER_NO', 'RACE', 'RACENAME',\n",
              "       'ORDER', 'ORDERNAME', 'MULTRACE', 'MULTRACENAME'],\n",
              "      dtype='object')"
            ]
          },
          "metadata": {},
          "execution_count": 24
        }
      ]
    },
    {
      "cell_type": "markdown",
      "source": [
        "# safetyeq.csv\n",
        "Für unseren Fokus auf die Vorhersage tödlicher Unfälle ist safetyeq.csv nicht zwingend erforderlich, da diese Datei vor allem die von Personen (die keine Insassen in Kraftfahrzeugen sind) verwendete Sicherheitsausrüstung dokumentiert – ein Aspekt, der in unserer Kernanalyse nur eine untergeordnete Rolle spielt."
      ],
      "metadata": {
        "id": "6diKLDfzyR5t"
      }
    },
    {
      "cell_type": "code",
      "source": [
        "df = pd.read_csv('safetyeq.csv', encoding='ISO-8859-1')\n",
        "df.columns\n",
        "df['NMHELMET'].value_counts(normalize=True, dropna=False).head(10) * 100\n",
        "df['NMHELMETNAME'].value_counts(normalize=True, dropna=False).head(10) * 100\n",
        "df['NMPROPAD'].value_counts(normalize=True, dropna=False).head(10) * 100\n",
        "df['NMPROPADNAME'].value_counts(normalize=True, dropna=False).head(10) * 100\n",
        "df['NMOTHPRO'].value_counts(normalize=True, dropna=False).head(10) * 100\n",
        "df['NMOTHPRONAME'].value_counts(normalize=True, dropna=False).head(10) * 100\n",
        "df['NMREFCLO'].value_counts(normalize=True, dropna=False).head(10) * 100\n",
        "df['NMREFCLONAME'].value_counts(normalize=True, dropna=False).head(10) * 100\n",
        "df['NMLIGHT'].value_counts(normalize=True, dropna=False).head(10) * 100\n",
        "df['NMLIGHTNAME'].value_counts(normalize=True, dropna=False).head(10) * 100\n",
        "df['NMOTHPRE'].value_counts(normalize=True, dropna=False).head(10) * 100\n",
        "df['NMOTHPRENAME'].value_counts(normalize=True, dropna=False).head(10) * 100"
      ],
      "metadata": {
        "id": "B_Z7NW67yiJ3",
        "outputId": "b5ac51c4-ca22-41ae-b7b8-7c3e9a1121ae",
        "colab": {
          "base_uri": "https://localhost:8080/",
          "height": 0
        }
      },
      "execution_count": 25,
      "outputs": [
        {
          "output_type": "execute_result",
          "data": {
            "text/plain": [
              "NMOTHPRENAME\n",
              "Not Reported           68.511099\n",
              "No                     30.720087\n",
              "Reported as Unknown     0.476448\n",
              "Yes                     0.292366\n",
              "Name: proportion, dtype: float64"
            ],
            "text/html": [
              "<div>\n",
              "<style scoped>\n",
              "    .dataframe tbody tr th:only-of-type {\n",
              "        vertical-align: middle;\n",
              "    }\n",
              "\n",
              "    .dataframe tbody tr th {\n",
              "        vertical-align: top;\n",
              "    }\n",
              "\n",
              "    .dataframe thead th {\n",
              "        text-align: right;\n",
              "    }\n",
              "</style>\n",
              "<table border=\"1\" class=\"dataframe\">\n",
              "  <thead>\n",
              "    <tr style=\"text-align: right;\">\n",
              "      <th></th>\n",
              "      <th>proportion</th>\n",
              "    </tr>\n",
              "    <tr>\n",
              "      <th>NMOTHPRENAME</th>\n",
              "      <th></th>\n",
              "    </tr>\n",
              "  </thead>\n",
              "  <tbody>\n",
              "    <tr>\n",
              "      <th>Not Reported</th>\n",
              "      <td>68.511099</td>\n",
              "    </tr>\n",
              "    <tr>\n",
              "      <th>No</th>\n",
              "      <td>30.720087</td>\n",
              "    </tr>\n",
              "    <tr>\n",
              "      <th>Reported as Unknown</th>\n",
              "      <td>0.476448</td>\n",
              "    </tr>\n",
              "    <tr>\n",
              "      <th>Yes</th>\n",
              "      <td>0.292366</td>\n",
              "    </tr>\n",
              "  </tbody>\n",
              "</table>\n",
              "</div><br><label><b>dtype:</b> float64</label>"
            ]
          },
          "metadata": {},
          "execution_count": 25
        }
      ]
    },
    {
      "cell_type": "markdown",
      "source": [
        "# vehicle.csv\n",
        "Ja, vehicle.csv ist für unser Projekt essenziell, da es umfassende Informationen zu den im Transport befindlichen Fahrzeugen liefert – beispielsweise zu Fahrzeugtyp, Hersteller, Modell, Baujahr, Unfallbedingungen und spezifischen Fahrzeugzuständen –, die als potenzielle Einflussfaktoren für die Unfallfatalität berücksichtigt werden können."
      ],
      "metadata": {
        "id": "0fue6sK314wL"
      }
    },
    {
      "cell_type": "markdown",
      "source": [
        "# vehiclesf.csv\n",
        "Da über 99 % der Einträge in `vehiclesf.csv` in der Spalte `VEHICLESFNAME` leer (NaN) sind, liegen kaum verwertbare Informationen vor. Deshalb bietet dieser Datensatz keinen Mehrwert für die Analyse und wird nicht weiter berücksichtigt."
      ],
      "metadata": {
        "id": "thPyvAXZmLWs"
      }
    },
    {
      "cell_type": "code",
      "source": [
        "df = pd.read_csv(\"vehiclesf.csv\", encoding='ISO-8859-1')\n",
        "df.columns\n",
        "df['VEHICLESF'].value_counts(normalize=True, dropna=False).head(5) * 100\n",
        "df['VEHICLESFNAME'].value_counts(normalize=True, dropna=False).head(5) * 100"
      ],
      "metadata": {
        "id": "qPuJLvlajib3",
        "outputId": "ccc3848e-282d-4cce-9b2d-78d25c53e4b9",
        "colab": {
          "base_uri": "https://localhost:8080/",
          "height": 0
        }
      },
      "execution_count": 26,
      "outputs": [
        {
          "output_type": "execute_result",
          "data": {
            "text/plain": [
              "VEHICLESFNAME\n",
              "NaN                                                                                                                 98.993576\n",
              "Reported as Unknown                                                                                                  0.440108\n",
              "Vehicle Registration for a Person with a Disability                                                                  0.326845\n",
              "Other Working Vehicle (Not Construction, Maintenance, Utility, Police, Fire, or EMS Vehicle)                         0.092229\n",
              "Police, Fire, or EMS Vehicle Working at the Scene of an Emergency or Performing Other Traffic Control Activities     0.045305\n",
              "Name: proportion, dtype: float64"
            ],
            "text/html": [
              "<div>\n",
              "<style scoped>\n",
              "    .dataframe tbody tr th:only-of-type {\n",
              "        vertical-align: middle;\n",
              "    }\n",
              "\n",
              "    .dataframe tbody tr th {\n",
              "        vertical-align: top;\n",
              "    }\n",
              "\n",
              "    .dataframe thead th {\n",
              "        text-align: right;\n",
              "    }\n",
              "</style>\n",
              "<table border=\"1\" class=\"dataframe\">\n",
              "  <thead>\n",
              "    <tr style=\"text-align: right;\">\n",
              "      <th></th>\n",
              "      <th>proportion</th>\n",
              "    </tr>\n",
              "    <tr>\n",
              "      <th>VEHICLESFNAME</th>\n",
              "      <th></th>\n",
              "    </tr>\n",
              "  </thead>\n",
              "  <tbody>\n",
              "    <tr>\n",
              "      <th>NaN</th>\n",
              "      <td>98.993576</td>\n",
              "    </tr>\n",
              "    <tr>\n",
              "      <th>Reported as Unknown</th>\n",
              "      <td>0.440108</td>\n",
              "    </tr>\n",
              "    <tr>\n",
              "      <th>Vehicle Registration for a Person with a Disability</th>\n",
              "      <td>0.326845</td>\n",
              "    </tr>\n",
              "    <tr>\n",
              "      <th>Other Working Vehicle (Not Construction, Maintenance, Utility, Police, Fire, or EMS Vehicle)</th>\n",
              "      <td>0.092229</td>\n",
              "    </tr>\n",
              "    <tr>\n",
              "      <th>Police, Fire, or EMS Vehicle Working at the Scene of an Emergency or Performing Other Traffic Control Activities</th>\n",
              "      <td>0.045305</td>\n",
              "    </tr>\n",
              "  </tbody>\n",
              "</table>\n",
              "</div><br><label><b>dtype:</b> float64</label>"
            ]
          },
          "metadata": {},
          "execution_count": 26
        }
      ]
    },
    {
      "cell_type": "markdown",
      "source": [
        "# vevent.csv"
      ],
      "metadata": {
        "id": "3lrAvYmQZsbA"
      }
    },
    {
      "cell_type": "code",
      "source": [
        "df = pd.read_csv('vevent.csv', encoding='ISO-8859-1')\n",
        "df.columns\n",
        "df['VEVENTNUM'].value_counts(normalize=True, dropna=False).head(5) * 100\n",
        "df['VNUMBER1'].value_counts(normalize=True, dropna=False).head(5) * 100\n",
        "df['AOI1'].value_counts(normalize=True, dropna=False).head(5) * 100\n",
        "df['SOE'].value_counts(normalize=True, dropna=False).head(5) * 100\n",
        "df['SOENAME'].value_counts(normalize=True, dropna=False).head(5) * 100\n",
        "df['VNUMBER2'].value_counts(normalize=True, dropna=False).head(5) * 100\n",
        "df['VNUMBER2NAME'].value_counts(normalize=True, dropna=False).head(5) * 100\n",
        "df['AOI2'].value_counts(normalize=True, dropna=False).head(5) * 100\n",
        "df['AOI2NAME'].value_counts(normalize=True, dropna=False).head(5) * 100"
      ],
      "metadata": {
        "id": "Bz7teYh6ZusV",
        "outputId": "dbebd2dd-1b79-4678-f7b0-7fbb83353dfe",
        "colab": {
          "base_uri": "https://localhost:8080/",
          "height": 0
        }
      },
      "execution_count": 27,
      "outputs": [
        {
          "output_type": "execute_result",
          "data": {
            "text/plain": [
              "AOI2NAME\n",
              "Not a Motor Vehicle    37.914415\n",
              "Non-Harmful Event      27.953861\n",
              "12 Clock Point         10.718114\n",
              "6 Clock Point           7.190615\n",
              "9 Clock Point           2.481936\n",
              "Name: proportion, dtype: float64"
            ],
            "text/html": [
              "<div>\n",
              "<style scoped>\n",
              "    .dataframe tbody tr th:only-of-type {\n",
              "        vertical-align: middle;\n",
              "    }\n",
              "\n",
              "    .dataframe tbody tr th {\n",
              "        vertical-align: top;\n",
              "    }\n",
              "\n",
              "    .dataframe thead th {\n",
              "        text-align: right;\n",
              "    }\n",
              "</style>\n",
              "<table border=\"1\" class=\"dataframe\">\n",
              "  <thead>\n",
              "    <tr style=\"text-align: right;\">\n",
              "      <th></th>\n",
              "      <th>proportion</th>\n",
              "    </tr>\n",
              "    <tr>\n",
              "      <th>AOI2NAME</th>\n",
              "      <th></th>\n",
              "    </tr>\n",
              "  </thead>\n",
              "  <tbody>\n",
              "    <tr>\n",
              "      <th>Not a Motor Vehicle</th>\n",
              "      <td>37.914415</td>\n",
              "    </tr>\n",
              "    <tr>\n",
              "      <th>Non-Harmful Event</th>\n",
              "      <td>27.953861</td>\n",
              "    </tr>\n",
              "    <tr>\n",
              "      <th>12 Clock Point</th>\n",
              "      <td>10.718114</td>\n",
              "    </tr>\n",
              "    <tr>\n",
              "      <th>6 Clock Point</th>\n",
              "      <td>7.190615</td>\n",
              "    </tr>\n",
              "    <tr>\n",
              "      <th>9 Clock Point</th>\n",
              "      <td>2.481936</td>\n",
              "    </tr>\n",
              "  </tbody>\n",
              "</table>\n",
              "</div><br><label><b>dtype:</b> float64</label>"
            ]
          },
          "metadata": {},
          "execution_count": 27
        }
      ]
    },
    {
      "cell_type": "markdown",
      "source": [
        "# violatn.csv\n",
        "Für unseren Fokus auf die Vorhersage tödlicher Unfälle und die Identifikation zentraler Risikofaktoren ist violatn.csv nicht zwingend erforderlich, da diese Datei Informationen über Fahrerverstöße enthält – Aspekte, die zwar in einer erweiterten Analyse interessant sein könnten, aber für die Kernfragestellung weniger relevant sind."
      ],
      "metadata": {
        "id": "35otnw3flfkF"
      }
    },
    {
      "cell_type": "code",
      "source": [
        "df = pd.read_csv(\"violatn.csv\", encoding='ISO-8859-1')\n",
        "# Tabellenbeginn ausgeben\n",
        "df.columns\n",
        "df['VIOLATION'].value_counts(normalize=True, dropna=False).head(5) * 100\n",
        "df['VIOLATIONNAME'].value_counts(normalize=True, dropna=False).head(5) * 100"
      ],
      "metadata": {
        "id": "ex3gX5yNmGAa",
        "outputId": "c1d411b9-859a-4298-d2b7-77b608829164",
        "colab": {
          "base_uri": "https://localhost:8080/",
          "height": 0
        }
      },
      "execution_count": 28,
      "outputs": [
        {
          "output_type": "execute_result",
          "data": {
            "text/plain": [
              "VIOLATIONNAME\n",
              "NaN                                                                                              82.917553\n",
              "Manslaughter or homicide                                                                          1.952883\n",
              "Driving while intoxicated (alcohol or drugs) or BAC above limit (any detectable BAC for CDLs)     1.924209\n",
              "Other driver license violations                                                                   0.971914\n",
              "Fail to yield generally                                                                           0.940221\n",
              "Name: proportion, dtype: float64"
            ],
            "text/html": [
              "<div>\n",
              "<style scoped>\n",
              "    .dataframe tbody tr th:only-of-type {\n",
              "        vertical-align: middle;\n",
              "    }\n",
              "\n",
              "    .dataframe tbody tr th {\n",
              "        vertical-align: top;\n",
              "    }\n",
              "\n",
              "    .dataframe thead th {\n",
              "        text-align: right;\n",
              "    }\n",
              "</style>\n",
              "<table border=\"1\" class=\"dataframe\">\n",
              "  <thead>\n",
              "    <tr style=\"text-align: right;\">\n",
              "      <th></th>\n",
              "      <th>proportion</th>\n",
              "    </tr>\n",
              "    <tr>\n",
              "      <th>VIOLATIONNAME</th>\n",
              "      <th></th>\n",
              "    </tr>\n",
              "  </thead>\n",
              "  <tbody>\n",
              "    <tr>\n",
              "      <th>NaN</th>\n",
              "      <td>82.917553</td>\n",
              "    </tr>\n",
              "    <tr>\n",
              "      <th>Manslaughter or homicide</th>\n",
              "      <td>1.952883</td>\n",
              "    </tr>\n",
              "    <tr>\n",
              "      <th>Driving while intoxicated (alcohol or drugs) or BAC above limit (any detectable BAC for CDLs)</th>\n",
              "      <td>1.924209</td>\n",
              "    </tr>\n",
              "    <tr>\n",
              "      <th>Other driver license violations</th>\n",
              "      <td>0.971914</td>\n",
              "    </tr>\n",
              "    <tr>\n",
              "      <th>Fail to yield generally</th>\n",
              "      <td>0.940221</td>\n",
              "    </tr>\n",
              "  </tbody>\n",
              "</table>\n",
              "</div><br><label><b>dtype:</b> float64</label>"
            ]
          },
          "metadata": {},
          "execution_count": 28
        }
      ]
    },
    {
      "cell_type": "markdown",
      "source": [
        "# vision.csv\n",
        "Für unseren Fokus auf die Vorhersage tödlicher Unfälle ist vision.csv nicht zwingend erforderlich, da zentrale Umwelt- und Unfallmerkmale bereits in den Hauptdatensätzen (z. B. accidents.csv, vehicle.csv) abgebildet sind. Die Informationen zu Sichtbehinderungen liefern zwar zusätzliche Details, sind jedoch für die Kernfragestellung nur von untergeordneter Bedeutung.\n",
        "\n",
        "Datensatz vision.csv kann nicht genutzt werden da 93% der personenbezogene Faktoren in der Spalte PERSONRF nicht vorhanden sind also NaN sind."
      ],
      "metadata": {
        "id": "yoojXbrL0Y5d"
      }
    },
    {
      "cell_type": "code",
      "source": [
        "df = pd.read_csv('vision.csv', encoding='ISO-8859-1')\n",
        "df.columns\n",
        "df['VISION'].value_counts(normalize=True, dropna=False).head(10) * 100\n",
        "df['VISIONNAME'].value_counts(normalize=False, dropna=False).head(10)\n",
        "\n",
        "# Spalten mit den Zahlen VISION zu VISIONNAME löschen\n",
        "df.drop(['VISION'], axis=1, inplace=True)"
      ],
      "metadata": {
        "id": "_LMQgRFy0dPp"
      },
      "execution_count": 29,
      "outputs": []
    },
    {
      "cell_type": "markdown",
      "source": [
        "# vpicdecode.csv\n",
        "vpicdecode.csv ist optional, da die grundlegenden Fahrzeugmerkmale bereits in vehicle.csv enthalten sind. Diese Datei liefert jedoch sehr detaillierte technische Spezifikationen, die durch die Entschlüsselung der Fahrzeug-VIN mittels des NHTSA vPIC-Systems gewonnen werden."
      ],
      "metadata": {
        "id": "rZgU6_5DuVSb"
      }
    },
    {
      "cell_type": "code",
      "source": [
        "df = pd.read_csv('vpicdecode.csv', encoding='ISO-8859-1')\n",
        "df.columns"
      ],
      "metadata": {
        "id": "a1hZfSiTuY5n",
        "outputId": "6afba543-f383-4b77-f751-ea938d76c153",
        "colab": {
          "base_uri": "https://localhost:8080/"
        }
      },
      "execution_count": 30,
      "outputs": [
        {
          "output_type": "stream",
          "name": "stderr",
          "text": [
            "<ipython-input-30-5d5d8e163aa5>:1: DtypeWarning: Columns (62,88,100,102) have mixed types. Specify dtype option on import or set low_memory=False.\n",
            "  df = pd.read_csv('vpicdecode.csv', encoding='ISO-8859-1')\n"
          ]
        },
        {
          "output_type": "execute_result",
          "data": {
            "text/plain": [
              "Index(['STATE', 'STATENAME', 'ST_CASE', 'VEH_NO', 'VEHICLEDESCRIPTOR',\n",
              "       'VINDECODEDON', 'VINDECODEERROR', 'VEHICLETYPEID', 'VEHICLETYPE',\n",
              "       'MANUFACTURERFULLNAMEID',\n",
              "       ...\n",
              "       'TRACTIONCONTROL', 'AUTOPEDESTRIANALERTINGSOUNDID',\n",
              "       'AUTOPEDESTRIANALERTINGSOUND', 'KEYLESSIGNITIONID', 'KEYLESSIGNITION',\n",
              "       'SAEAUTOMATIONLEVEL_FROM', 'SAEAUTOMATIONLEVEL_TO',\n",
              "       'AUTOREVERSESYSTEMID', 'AUTOREVERSESYSTEM', 'ACTIVESAFETYSYSNOTE'],\n",
              "      dtype='object', length=204)"
            ]
          },
          "metadata": {},
          "execution_count": 30
        }
      ]
    },
    {
      "cell_type": "markdown",
      "source": [
        "# vpictrailerdecode.csv\n",
        "Die vpictrailerdecode.csv liefert detaillierte technische Informationen zu Anhängern. Anhänger spielen in der Gesamtanalyse nur eine untergeordnete Rolle und liefern keinen signifikanten Mehrwert für die Modellierung der Unfallfatalität."
      ],
      "metadata": {
        "id": "3XjVHM9dcuDH"
      }
    },
    {
      "cell_type": "code",
      "source": [
        "df = pd.read_csv('vpictrailerdecode.csv', encoding='ISO-8859-1')\n",
        "df.columns"
      ],
      "metadata": {
        "id": "my2JT4WFc9M2",
        "outputId": "c1fb0fec-53d9-43fc-88c9-999558267bbb",
        "colab": {
          "base_uri": "https://localhost:8080/"
        }
      },
      "execution_count": 31,
      "outputs": [
        {
          "output_type": "execute_result",
          "data": {
            "text/plain": [
              "Index(['STATE', 'STATENAME', 'ST_CASE', 'VEH_NO', 'TRAILER_NO',\n",
              "       'VEHICLEDESCRIPTOR', 'VINDECODEDON', 'VINDECODEERROR', 'VEHICLETYPEID',\n",
              "       'VEHICLETYPE', 'MANUFACTURERFULLNAMEID', 'MANUFACTURERFULLNAME',\n",
              "       'MAKEID', 'MAKE', 'MODELID', 'MODEL', 'MODELYEAR', 'SERIES', 'TRIM',\n",
              "       'PLANTCOUNTRYID', 'PLANTCOUNTRY', 'PLANTSTATE', 'PLANTCITY',\n",
              "       'PLANTCOMPANYNAME', 'NONLANDUSEID', 'NONLANDUSE', 'NOTE', 'BODYCLASSID',\n",
              "       'BODYCLASS', 'GROSSVEHICLEWEIGHTRATINGFROMID',\n",
              "       'GROSSVEHICLEWEIGHTRATINGFROM', 'GROSSVEHICLEWEIGHTRATINGTOID',\n",
              "       'GROSSVEHICLEWEIGHTRATINGTO', 'TRAILERBODYTYPEID', 'TRAILERBODYTYPE',\n",
              "       'TRAILERTYPECONNECTIONID', 'TRAILERTYPECONNECTION', 'TRAILERLENGTHFT',\n",
              "       'OTHERTRAILERINFO', 'AXLESCOUNT', 'AXLECONFIGURATIONID',\n",
              "       'AXLECONFIGURATION'],\n",
              "      dtype='object')"
            ]
          },
          "metadata": {},
          "execution_count": 31
        }
      ]
    },
    {
      "cell_type": "markdown",
      "source": [
        "# vsoe.csv\n",
        "Für unseren Fokus auf die Vorhersage tödlicher Unfälle liefert vsoe.csv detaillierte Ereignisabfolgen für jedes am Unfall beteiligte Fahrzeug, ist aber für die Kernanalyse nicht zwingend notwendig, da wesentliche Informationen bereits in den zentralen Datensätzen enthalten sind."
      ],
      "metadata": {
        "id": "hCXjooSNtWBI"
      }
    },
    {
      "cell_type": "code",
      "source": [
        "df = pd.read_csv('vsoe.csv', encoding='ISO-8859-1')\n",
        "df.columns\n",
        "df['VEVENTNUM'].value_counts(normalize=True, dropna=False).head(10) * 100\n",
        "#df['SOE'].value_counts(normalize=True, dropna=False).head(10) * 100\n",
        "#df['SOENAME'].value_counts(normalize=True, dropna=False).head(10) * 100\n",
        "#df['AOI'].value_counts(normalize=True, dropna=False).head(10) * 100\n",
        "#df['AOINAME'].value_counts(normalize=True, dropna=False).head(10) * 100"
      ],
      "metadata": {
        "id": "csMEI0jytgh7",
        "outputId": "6e1a1e2a-506f-4916-caa8-03ae06b0766f",
        "colab": {
          "base_uri": "https://localhost:8080/",
          "height": 0
        }
      },
      "execution_count": 32,
      "outputs": [
        {
          "output_type": "execute_result",
          "data": {
            "text/plain": [
              "VEVENTNUM\n",
              "1    45.826862\n",
              "2    22.046503\n",
              "3    14.258737\n",
              "4     8.124622\n",
              "5     4.285787\n",
              "6     2.140706\n",
              "0     1.324817\n",
              "7     1.050667\n",
              "8     0.475388\n",
              "9     0.224570\n",
              "Name: proportion, dtype: float64"
            ],
            "text/html": [
              "<div>\n",
              "<style scoped>\n",
              "    .dataframe tbody tr th:only-of-type {\n",
              "        vertical-align: middle;\n",
              "    }\n",
              "\n",
              "    .dataframe tbody tr th {\n",
              "        vertical-align: top;\n",
              "    }\n",
              "\n",
              "    .dataframe thead th {\n",
              "        text-align: right;\n",
              "    }\n",
              "</style>\n",
              "<table border=\"1\" class=\"dataframe\">\n",
              "  <thead>\n",
              "    <tr style=\"text-align: right;\">\n",
              "      <th></th>\n",
              "      <th>proportion</th>\n",
              "    </tr>\n",
              "    <tr>\n",
              "      <th>VEVENTNUM</th>\n",
              "      <th></th>\n",
              "    </tr>\n",
              "  </thead>\n",
              "  <tbody>\n",
              "    <tr>\n",
              "      <th>1</th>\n",
              "      <td>45.826862</td>\n",
              "    </tr>\n",
              "    <tr>\n",
              "      <th>2</th>\n",
              "      <td>22.046503</td>\n",
              "    </tr>\n",
              "    <tr>\n",
              "      <th>3</th>\n",
              "      <td>14.258737</td>\n",
              "    </tr>\n",
              "    <tr>\n",
              "      <th>4</th>\n",
              "      <td>8.124622</td>\n",
              "    </tr>\n",
              "    <tr>\n",
              "      <th>5</th>\n",
              "      <td>4.285787</td>\n",
              "    </tr>\n",
              "    <tr>\n",
              "      <th>6</th>\n",
              "      <td>2.140706</td>\n",
              "    </tr>\n",
              "    <tr>\n",
              "      <th>0</th>\n",
              "      <td>1.324817</td>\n",
              "    </tr>\n",
              "    <tr>\n",
              "      <th>7</th>\n",
              "      <td>1.050667</td>\n",
              "    </tr>\n",
              "    <tr>\n",
              "      <th>8</th>\n",
              "      <td>0.475388</td>\n",
              "    </tr>\n",
              "    <tr>\n",
              "      <th>9</th>\n",
              "      <td>0.224570</td>\n",
              "    </tr>\n",
              "  </tbody>\n",
              "</table>\n",
              "</div><br><label><b>dtype:</b> float64</label>"
            ]
          },
          "metadata": {},
          "execution_count": 32
        }
      ]
    },
    {
      "cell_type": "markdown",
      "source": [
        "# weather.csv\n",
        "##Stimmen die Wetterdaten aus weather.csv mit denen aus accident.csv überein?\n",
        "\n",
        "Ja, das tun sie. Allerdings treten bei etwa 400 Werten Duplikate auf – das heißt, 400 Werte kommen doppelt vor, jedoch nicht häufiger (z.B. nicht dreifach). Davon entsprechen 90% dem ersten Vorkommen und 10% dem zweiten Vorkommen im accident.csv-Datensatz. Das bedeutet, dass die Werte aus weather.csv konsistent mit den Wetterdaten in accident.csv sind.\n",
        "\n",
        "**Somit wird die weather.csv nicht benötigt, da diese Werte bereits in accident.csv enthalten sind.**"
      ],
      "metadata": {
        "id": "fumcR7Bh52Yp"
      }
    },
    {
      "cell_type": "code",
      "source": [
        "# 1. CSV-Dateien einlesen\n",
        "df_weather = pd.read_csv('weather.csv', encoding='ISO-8859-1')\n",
        "df_accident = pd.read_csv('accident.csv', encoding='ISO-8859-1')\n",
        "\n",
        "# 2. Duplikate in ST_CASE anzeigen (optional zur Überprüfung)\n",
        "duplicates_weather = df_weather[df_weather.duplicated('ST_CASE', keep=False)]\n",
        "duplicates_accident = df_accident[df_accident.duplicated('ST_CASE', keep=False)]\n",
        "\n",
        "# 3. Duplikate entfernen: Behalte nur den ersten Eintrag pro ST_CASE\n",
        "df_weather_clean = df_weather.drop_duplicates(subset=['ST_CASE'], keep='first')\n",
        "df_accident_clean = df_accident.drop_duplicates(subset=['ST_CASE'], keep='first')\n",
        "\n",
        "df_weather_clean"
      ],
      "metadata": {
        "collapsed": true,
        "id": "C2MleZ-l50FQ",
        "outputId": "2a39b709-bd78-4d05-b42a-af67ecebf2a9",
        "colab": {
          "base_uri": "https://localhost:8080/",
          "height": 0
        }
      },
      "execution_count": 33,
      "outputs": [
        {
          "output_type": "execute_result",
          "data": {
            "text/plain": [
              "       STATE STATENAME  ST_CASE  WEATHER WEATHERNAME\n",
              "0          1   Alabama    10001        2        Rain\n",
              "1          1   Alabama    10002        2        Rain\n",
              "2          1   Alabama    10003        2        Rain\n",
              "3          1   Alabama    10004        1       Clear\n",
              "4          1   Alabama    10005       10      Cloudy\n",
              "...      ...       ...      ...      ...         ...\n",
              "40203     56   Wyoming   560100        1       Clear\n",
              "40204     56   Wyoming   560101        1       Clear\n",
              "40205     56   Wyoming   560102        1       Clear\n",
              "40206     56   Wyoming   560103        1       Clear\n",
              "40207     56   Wyoming   560104        1       Clear\n",
              "\n",
              "[39785 rows x 5 columns]"
            ],
            "text/html": [
              "\n",
              "  <div id=\"df-1b2e8ff2-2ad6-4dbf-a347-ce9ed7684cac\" class=\"colab-df-container\">\n",
              "    <div>\n",
              "<style scoped>\n",
              "    .dataframe tbody tr th:only-of-type {\n",
              "        vertical-align: middle;\n",
              "    }\n",
              "\n",
              "    .dataframe tbody tr th {\n",
              "        vertical-align: top;\n",
              "    }\n",
              "\n",
              "    .dataframe thead th {\n",
              "        text-align: right;\n",
              "    }\n",
              "</style>\n",
              "<table border=\"1\" class=\"dataframe\">\n",
              "  <thead>\n",
              "    <tr style=\"text-align: right;\">\n",
              "      <th></th>\n",
              "      <th>STATE</th>\n",
              "      <th>STATENAME</th>\n",
              "      <th>ST_CASE</th>\n",
              "      <th>WEATHER</th>\n",
              "      <th>WEATHERNAME</th>\n",
              "    </tr>\n",
              "  </thead>\n",
              "  <tbody>\n",
              "    <tr>\n",
              "      <th>0</th>\n",
              "      <td>1</td>\n",
              "      <td>Alabama</td>\n",
              "      <td>10001</td>\n",
              "      <td>2</td>\n",
              "      <td>Rain</td>\n",
              "    </tr>\n",
              "    <tr>\n",
              "      <th>1</th>\n",
              "      <td>1</td>\n",
              "      <td>Alabama</td>\n",
              "      <td>10002</td>\n",
              "      <td>2</td>\n",
              "      <td>Rain</td>\n",
              "    </tr>\n",
              "    <tr>\n",
              "      <th>2</th>\n",
              "      <td>1</td>\n",
              "      <td>Alabama</td>\n",
              "      <td>10003</td>\n",
              "      <td>2</td>\n",
              "      <td>Rain</td>\n",
              "    </tr>\n",
              "    <tr>\n",
              "      <th>3</th>\n",
              "      <td>1</td>\n",
              "      <td>Alabama</td>\n",
              "      <td>10004</td>\n",
              "      <td>1</td>\n",
              "      <td>Clear</td>\n",
              "    </tr>\n",
              "    <tr>\n",
              "      <th>4</th>\n",
              "      <td>1</td>\n",
              "      <td>Alabama</td>\n",
              "      <td>10005</td>\n",
              "      <td>10</td>\n",
              "      <td>Cloudy</td>\n",
              "    </tr>\n",
              "    <tr>\n",
              "      <th>...</th>\n",
              "      <td>...</td>\n",
              "      <td>...</td>\n",
              "      <td>...</td>\n",
              "      <td>...</td>\n",
              "      <td>...</td>\n",
              "    </tr>\n",
              "    <tr>\n",
              "      <th>40203</th>\n",
              "      <td>56</td>\n",
              "      <td>Wyoming</td>\n",
              "      <td>560100</td>\n",
              "      <td>1</td>\n",
              "      <td>Clear</td>\n",
              "    </tr>\n",
              "    <tr>\n",
              "      <th>40204</th>\n",
              "      <td>56</td>\n",
              "      <td>Wyoming</td>\n",
              "      <td>560101</td>\n",
              "      <td>1</td>\n",
              "      <td>Clear</td>\n",
              "    </tr>\n",
              "    <tr>\n",
              "      <th>40205</th>\n",
              "      <td>56</td>\n",
              "      <td>Wyoming</td>\n",
              "      <td>560102</td>\n",
              "      <td>1</td>\n",
              "      <td>Clear</td>\n",
              "    </tr>\n",
              "    <tr>\n",
              "      <th>40206</th>\n",
              "      <td>56</td>\n",
              "      <td>Wyoming</td>\n",
              "      <td>560103</td>\n",
              "      <td>1</td>\n",
              "      <td>Clear</td>\n",
              "    </tr>\n",
              "    <tr>\n",
              "      <th>40207</th>\n",
              "      <td>56</td>\n",
              "      <td>Wyoming</td>\n",
              "      <td>560104</td>\n",
              "      <td>1</td>\n",
              "      <td>Clear</td>\n",
              "    </tr>\n",
              "  </tbody>\n",
              "</table>\n",
              "<p>39785 rows × 5 columns</p>\n",
              "</div>\n",
              "    <div class=\"colab-df-buttons\">\n",
              "\n",
              "  <div class=\"colab-df-container\">\n",
              "    <button class=\"colab-df-convert\" onclick=\"convertToInteractive('df-1b2e8ff2-2ad6-4dbf-a347-ce9ed7684cac')\"\n",
              "            title=\"Convert this dataframe to an interactive table.\"\n",
              "            style=\"display:none;\">\n",
              "\n",
              "  <svg xmlns=\"http://www.w3.org/2000/svg\" height=\"24px\" viewBox=\"0 -960 960 960\">\n",
              "    <path d=\"M120-120v-720h720v720H120Zm60-500h600v-160H180v160Zm220 220h160v-160H400v160Zm0 220h160v-160H400v160ZM180-400h160v-160H180v160Zm440 0h160v-160H620v160ZM180-180h160v-160H180v160Zm440 0h160v-160H620v160Z\"/>\n",
              "  </svg>\n",
              "    </button>\n",
              "\n",
              "  <style>\n",
              "    .colab-df-container {\n",
              "      display:flex;\n",
              "      gap: 12px;\n",
              "    }\n",
              "\n",
              "    .colab-df-convert {\n",
              "      background-color: #E8F0FE;\n",
              "      border: none;\n",
              "      border-radius: 50%;\n",
              "      cursor: pointer;\n",
              "      display: none;\n",
              "      fill: #1967D2;\n",
              "      height: 32px;\n",
              "      padding: 0 0 0 0;\n",
              "      width: 32px;\n",
              "    }\n",
              "\n",
              "    .colab-df-convert:hover {\n",
              "      background-color: #E2EBFA;\n",
              "      box-shadow: 0px 1px 2px rgba(60, 64, 67, 0.3), 0px 1px 3px 1px rgba(60, 64, 67, 0.15);\n",
              "      fill: #174EA6;\n",
              "    }\n",
              "\n",
              "    .colab-df-buttons div {\n",
              "      margin-bottom: 4px;\n",
              "    }\n",
              "\n",
              "    [theme=dark] .colab-df-convert {\n",
              "      background-color: #3B4455;\n",
              "      fill: #D2E3FC;\n",
              "    }\n",
              "\n",
              "    [theme=dark] .colab-df-convert:hover {\n",
              "      background-color: #434B5C;\n",
              "      box-shadow: 0px 1px 3px 1px rgba(0, 0, 0, 0.15);\n",
              "      filter: drop-shadow(0px 1px 2px rgba(0, 0, 0, 0.3));\n",
              "      fill: #FFFFFF;\n",
              "    }\n",
              "  </style>\n",
              "\n",
              "    <script>\n",
              "      const buttonEl =\n",
              "        document.querySelector('#df-1b2e8ff2-2ad6-4dbf-a347-ce9ed7684cac button.colab-df-convert');\n",
              "      buttonEl.style.display =\n",
              "        google.colab.kernel.accessAllowed ? 'block' : 'none';\n",
              "\n",
              "      async function convertToInteractive(key) {\n",
              "        const element = document.querySelector('#df-1b2e8ff2-2ad6-4dbf-a347-ce9ed7684cac');\n",
              "        const dataTable =\n",
              "          await google.colab.kernel.invokeFunction('convertToInteractive',\n",
              "                                                    [key], {});\n",
              "        if (!dataTable) return;\n",
              "\n",
              "        const docLinkHtml = 'Like what you see? Visit the ' +\n",
              "          '<a target=\"_blank\" href=https://colab.research.google.com/notebooks/data_table.ipynb>data table notebook</a>'\n",
              "          + ' to learn more about interactive tables.';\n",
              "        element.innerHTML = '';\n",
              "        dataTable['output_type'] = 'display_data';\n",
              "        await google.colab.output.renderOutput(dataTable, element);\n",
              "        const docLink = document.createElement('div');\n",
              "        docLink.innerHTML = docLinkHtml;\n",
              "        element.appendChild(docLink);\n",
              "      }\n",
              "    </script>\n",
              "  </div>\n",
              "\n",
              "\n",
              "<div id=\"df-eb83a62d-c73e-42c9-8c12-df735d5961f4\">\n",
              "  <button class=\"colab-df-quickchart\" onclick=\"quickchart('df-eb83a62d-c73e-42c9-8c12-df735d5961f4')\"\n",
              "            title=\"Suggest charts\"\n",
              "            style=\"display:none;\">\n",
              "\n",
              "<svg xmlns=\"http://www.w3.org/2000/svg\" height=\"24px\"viewBox=\"0 0 24 24\"\n",
              "     width=\"24px\">\n",
              "    <g>\n",
              "        <path d=\"M19 3H5c-1.1 0-2 .9-2 2v14c0 1.1.9 2 2 2h14c1.1 0 2-.9 2-2V5c0-1.1-.9-2-2-2zM9 17H7v-7h2v7zm4 0h-2V7h2v10zm4 0h-2v-4h2v4z\"/>\n",
              "    </g>\n",
              "</svg>\n",
              "  </button>\n",
              "\n",
              "<style>\n",
              "  .colab-df-quickchart {\n",
              "      --bg-color: #E8F0FE;\n",
              "      --fill-color: #1967D2;\n",
              "      --hover-bg-color: #E2EBFA;\n",
              "      --hover-fill-color: #174EA6;\n",
              "      --disabled-fill-color: #AAA;\n",
              "      --disabled-bg-color: #DDD;\n",
              "  }\n",
              "\n",
              "  [theme=dark] .colab-df-quickchart {\n",
              "      --bg-color: #3B4455;\n",
              "      --fill-color: #D2E3FC;\n",
              "      --hover-bg-color: #434B5C;\n",
              "      --hover-fill-color: #FFFFFF;\n",
              "      --disabled-bg-color: #3B4455;\n",
              "      --disabled-fill-color: #666;\n",
              "  }\n",
              "\n",
              "  .colab-df-quickchart {\n",
              "    background-color: var(--bg-color);\n",
              "    border: none;\n",
              "    border-radius: 50%;\n",
              "    cursor: pointer;\n",
              "    display: none;\n",
              "    fill: var(--fill-color);\n",
              "    height: 32px;\n",
              "    padding: 0;\n",
              "    width: 32px;\n",
              "  }\n",
              "\n",
              "  .colab-df-quickchart:hover {\n",
              "    background-color: var(--hover-bg-color);\n",
              "    box-shadow: 0 1px 2px rgba(60, 64, 67, 0.3), 0 1px 3px 1px rgba(60, 64, 67, 0.15);\n",
              "    fill: var(--button-hover-fill-color);\n",
              "  }\n",
              "\n",
              "  .colab-df-quickchart-complete:disabled,\n",
              "  .colab-df-quickchart-complete:disabled:hover {\n",
              "    background-color: var(--disabled-bg-color);\n",
              "    fill: var(--disabled-fill-color);\n",
              "    box-shadow: none;\n",
              "  }\n",
              "\n",
              "  .colab-df-spinner {\n",
              "    border: 2px solid var(--fill-color);\n",
              "    border-color: transparent;\n",
              "    border-bottom-color: var(--fill-color);\n",
              "    animation:\n",
              "      spin 1s steps(1) infinite;\n",
              "  }\n",
              "\n",
              "  @keyframes spin {\n",
              "    0% {\n",
              "      border-color: transparent;\n",
              "      border-bottom-color: var(--fill-color);\n",
              "      border-left-color: var(--fill-color);\n",
              "    }\n",
              "    20% {\n",
              "      border-color: transparent;\n",
              "      border-left-color: var(--fill-color);\n",
              "      border-top-color: var(--fill-color);\n",
              "    }\n",
              "    30% {\n",
              "      border-color: transparent;\n",
              "      border-left-color: var(--fill-color);\n",
              "      border-top-color: var(--fill-color);\n",
              "      border-right-color: var(--fill-color);\n",
              "    }\n",
              "    40% {\n",
              "      border-color: transparent;\n",
              "      border-right-color: var(--fill-color);\n",
              "      border-top-color: var(--fill-color);\n",
              "    }\n",
              "    60% {\n",
              "      border-color: transparent;\n",
              "      border-right-color: var(--fill-color);\n",
              "    }\n",
              "    80% {\n",
              "      border-color: transparent;\n",
              "      border-right-color: var(--fill-color);\n",
              "      border-bottom-color: var(--fill-color);\n",
              "    }\n",
              "    90% {\n",
              "      border-color: transparent;\n",
              "      border-bottom-color: var(--fill-color);\n",
              "    }\n",
              "  }\n",
              "</style>\n",
              "\n",
              "  <script>\n",
              "    async function quickchart(key) {\n",
              "      const quickchartButtonEl =\n",
              "        document.querySelector('#' + key + ' button');\n",
              "      quickchartButtonEl.disabled = true;  // To prevent multiple clicks.\n",
              "      quickchartButtonEl.classList.add('colab-df-spinner');\n",
              "      try {\n",
              "        const charts = await google.colab.kernel.invokeFunction(\n",
              "            'suggestCharts', [key], {});\n",
              "      } catch (error) {\n",
              "        console.error('Error during call to suggestCharts:', error);\n",
              "      }\n",
              "      quickchartButtonEl.classList.remove('colab-df-spinner');\n",
              "      quickchartButtonEl.classList.add('colab-df-quickchart-complete');\n",
              "    }\n",
              "    (() => {\n",
              "      let quickchartButtonEl =\n",
              "        document.querySelector('#df-eb83a62d-c73e-42c9-8c12-df735d5961f4 button');\n",
              "      quickchartButtonEl.style.display =\n",
              "        google.colab.kernel.accessAllowed ? 'block' : 'none';\n",
              "    })();\n",
              "  </script>\n",
              "</div>\n",
              "\n",
              "  <div id=\"id_a560998b-a180-45f6-ae9c-e0ca7e2578fb\">\n",
              "    <style>\n",
              "      .colab-df-generate {\n",
              "        background-color: #E8F0FE;\n",
              "        border: none;\n",
              "        border-radius: 50%;\n",
              "        cursor: pointer;\n",
              "        display: none;\n",
              "        fill: #1967D2;\n",
              "        height: 32px;\n",
              "        padding: 0 0 0 0;\n",
              "        width: 32px;\n",
              "      }\n",
              "\n",
              "      .colab-df-generate:hover {\n",
              "        background-color: #E2EBFA;\n",
              "        box-shadow: 0px 1px 2px rgba(60, 64, 67, 0.3), 0px 1px 3px 1px rgba(60, 64, 67, 0.15);\n",
              "        fill: #174EA6;\n",
              "      }\n",
              "\n",
              "      [theme=dark] .colab-df-generate {\n",
              "        background-color: #3B4455;\n",
              "        fill: #D2E3FC;\n",
              "      }\n",
              "\n",
              "      [theme=dark] .colab-df-generate:hover {\n",
              "        background-color: #434B5C;\n",
              "        box-shadow: 0px 1px 3px 1px rgba(0, 0, 0, 0.15);\n",
              "        filter: drop-shadow(0px 1px 2px rgba(0, 0, 0, 0.3));\n",
              "        fill: #FFFFFF;\n",
              "      }\n",
              "    </style>\n",
              "    <button class=\"colab-df-generate\" onclick=\"generateWithVariable('df_weather_clean')\"\n",
              "            title=\"Generate code using this dataframe.\"\n",
              "            style=\"display:none;\">\n",
              "\n",
              "  <svg xmlns=\"http://www.w3.org/2000/svg\" height=\"24px\"viewBox=\"0 0 24 24\"\n",
              "       width=\"24px\">\n",
              "    <path d=\"M7,19H8.4L18.45,9,17,7.55,7,17.6ZM5,21V16.75L18.45,3.32a2,2,0,0,1,2.83,0l1.4,1.43a1.91,1.91,0,0,1,.58,1.4,1.91,1.91,0,0,1-.58,1.4L9.25,21ZM18.45,9,17,7.55Zm-12,3A5.31,5.31,0,0,0,4.9,8.1,5.31,5.31,0,0,0,1,6.5,5.31,5.31,0,0,0,4.9,4.9,5.31,5.31,0,0,0,6.5,1,5.31,5.31,0,0,0,8.1,4.9,5.31,5.31,0,0,0,12,6.5,5.46,5.46,0,0,0,6.5,12Z\"/>\n",
              "  </svg>\n",
              "    </button>\n",
              "    <script>\n",
              "      (() => {\n",
              "      const buttonEl =\n",
              "        document.querySelector('#id_a560998b-a180-45f6-ae9c-e0ca7e2578fb button.colab-df-generate');\n",
              "      buttonEl.style.display =\n",
              "        google.colab.kernel.accessAllowed ? 'block' : 'none';\n",
              "\n",
              "      buttonEl.onclick = () => {\n",
              "        google.colab.notebook.generateWithVariable('df_weather_clean');\n",
              "      }\n",
              "      })();\n",
              "    </script>\n",
              "  </div>\n",
              "\n",
              "    </div>\n",
              "  </div>\n"
            ],
            "application/vnd.google.colaboratory.intrinsic+json": {
              "type": "dataframe",
              "variable_name": "df_weather_clean",
              "summary": "{\n  \"name\": \"df_weather_clean\",\n  \"rows\": 39785,\n  \"fields\": [\n    {\n      \"column\": \"STATE\",\n      \"properties\": {\n        \"dtype\": \"number\",\n        \"std\": 16,\n        \"min\": 1,\n        \"max\": 56,\n        \"num_unique_values\": 51,\n        \"samples\": [\n          48,\n          45,\n          51\n        ],\n        \"semantic_type\": \"\",\n        \"description\": \"\"\n      }\n    },\n    {\n      \"column\": \"STATENAME\",\n      \"properties\": {\n        \"dtype\": \"category\",\n        \"num_unique_values\": 51,\n        \"samples\": [\n          \"Texas\",\n          \"South Carolina\",\n          \"Virginia\"\n        ],\n        \"semantic_type\": \"\",\n        \"description\": \"\"\n      }\n    },\n    {\n      \"column\": \"ST_CASE\",\n      \"properties\": {\n        \"dtype\": \"number\",\n        \"std\": 164003,\n        \"min\": 10001,\n        \"max\": 560104,\n        \"num_unique_values\": 39785,\n        \"samples\": [\n          440001,\n          480982,\n          270103\n        ],\n        \"semantic_type\": \"\",\n        \"description\": \"\"\n      }\n    },\n    {\n      \"column\": \"WEATHER\",\n      \"properties\": {\n        \"dtype\": \"number\",\n        \"std\": 20,\n        \"min\": 1,\n        \"max\": 99,\n        \"num_unique_values\": 13,\n        \"samples\": [\n          3,\n          12,\n          2\n        ],\n        \"semantic_type\": \"\",\n        \"description\": \"\"\n      }\n    },\n    {\n      \"column\": \"WEATHERNAME\",\n      \"properties\": {\n        \"dtype\": \"category\",\n        \"num_unique_values\": 13,\n        \"samples\": [\n          \"Sleet or Hail\",\n          \"Freezing Rain or Drizzle\",\n          \"Rain\"\n        ],\n        \"semantic_type\": \"\",\n        \"description\": \"\"\n      }\n    }\n  ]\n}"
            }
          },
          "metadata": {},
          "execution_count": 33
        }
      ]
    },
    {
      "cell_type": "code",
      "source": [
        "# 4. Zusammenführen der DataFrames basierend auf 'ST_CASE'\n",
        "df_merged = pd.merge(df_accident, df_weather_clean, on='ST_CASE', suffixes=('_acc', '_weather'))\n",
        "\n",
        "# Vergleich der Spalte 'WEATHERNAME' und Speichern des Ergebnisses als Boolean (True/False)\n",
        "df_merged['WEATHERNAME_match'] = df_merged['WEATHERNAME_acc'] == df_merged['WEATHERNAME_weather']"
      ],
      "metadata": {
        "id": "zzLSFRlyXg05"
      },
      "execution_count": 34,
      "outputs": []
    },
    {
      "cell_type": "code",
      "source": [
        "# 5. Filter: Zeilen mit False in 'WEATHERNAME_match'\n",
        "df_false = df_merged[df_merged['WEATHERNAME_match'] == False]\n",
        "\n",
        "# 6. Anzeige der relevanten Spalten\n",
        "df_false[['ST_CASE', 'WEATHERNAME_acc', 'WEATHERNAME_weather', 'WEATHERNAME_match']]"
      ],
      "metadata": {
        "collapsed": true,
        "id": "UIDADqzdXmAg",
        "outputId": "77694060-b251-4798-9074-ee81104edbd8",
        "colab": {
          "base_uri": "https://localhost:8080/",
          "height": 0
        }
      },
      "execution_count": 35,
      "outputs": [
        {
          "output_type": "execute_result",
          "data": {
            "text/plain": [
              "       ST_CASE           WEATHERNAME_acc WEATHERNAME_weather  \\\n",
              "926      20042  Freezing Rain or Drizzle                Rain   \n",
              "2069     50047  Freezing Rain or Drizzle              Cloudy   \n",
              "6913     80067              Blowing Snow   Severe Crosswinds   \n",
              "13217   160044              Blowing Snow              Cloudy   \n",
              "15494   190001                      Snow       Sleet or Hail   \n",
              "15507   190014  Freezing Rain or Drizzle              Cloudy   \n",
              "15746   190256  Freezing Rain or Drizzle   Severe Crosswinds   \n",
              "18501   250022             Sleet or Hail                Rain   \n",
              "18814   250344                      Snow                Rain   \n",
              "19985   270038              Blowing Snow              Cloudy   \n",
              "20485   280088             Sleet or Hail                Rain   \n",
              "21114   290021                      Snow                Rain   \n",
              "21293   290205                      Snow                Rain   \n",
              "21357   290270                      Snow                Rain   \n",
              "22260   310014              Blowing Snow              Cloudy   \n",
              "22824   330026                      Snow                Rain   \n",
              "26672   380016             Sleet or Hail                Rain   \n",
              "29251   420035                      Snow                Rain   \n",
              "31552   460010                      Snow        Blowing Snow   \n",
              "31788   470120              Blowing Snow              Cloudy   \n",
              "31812   470144  Freezing Rain or Drizzle              Cloudy   \n",
              "33356   480467  Freezing Rain or Drizzle              Cloudy   \n",
              "39115   550006                      Snow                Rain   \n",
              "39168   550062  Freezing Rain or Drizzle              Cloudy   \n",
              "39565   550476              Blowing Snow              Cloudy   \n",
              "\n",
              "       WEATHERNAME_match  \n",
              "926                False  \n",
              "2069               False  \n",
              "6913               False  \n",
              "13217              False  \n",
              "15494              False  \n",
              "15507              False  \n",
              "15746              False  \n",
              "18501              False  \n",
              "18814              False  \n",
              "19985              False  \n",
              "20485              False  \n",
              "21114              False  \n",
              "21293              False  \n",
              "21357              False  \n",
              "22260              False  \n",
              "22824              False  \n",
              "26672              False  \n",
              "29251              False  \n",
              "31552              False  \n",
              "31788              False  \n",
              "31812              False  \n",
              "33356              False  \n",
              "39115              False  \n",
              "39168              False  \n",
              "39565              False  "
            ],
            "text/html": [
              "\n",
              "  <div id=\"df-477646d4-d69f-496f-ae4a-0764a57cd49c\" class=\"colab-df-container\">\n",
              "    <div>\n",
              "<style scoped>\n",
              "    .dataframe tbody tr th:only-of-type {\n",
              "        vertical-align: middle;\n",
              "    }\n",
              "\n",
              "    .dataframe tbody tr th {\n",
              "        vertical-align: top;\n",
              "    }\n",
              "\n",
              "    .dataframe thead th {\n",
              "        text-align: right;\n",
              "    }\n",
              "</style>\n",
              "<table border=\"1\" class=\"dataframe\">\n",
              "  <thead>\n",
              "    <tr style=\"text-align: right;\">\n",
              "      <th></th>\n",
              "      <th>ST_CASE</th>\n",
              "      <th>WEATHERNAME_acc</th>\n",
              "      <th>WEATHERNAME_weather</th>\n",
              "      <th>WEATHERNAME_match</th>\n",
              "    </tr>\n",
              "  </thead>\n",
              "  <tbody>\n",
              "    <tr>\n",
              "      <th>926</th>\n",
              "      <td>20042</td>\n",
              "      <td>Freezing Rain or Drizzle</td>\n",
              "      <td>Rain</td>\n",
              "      <td>False</td>\n",
              "    </tr>\n",
              "    <tr>\n",
              "      <th>2069</th>\n",
              "      <td>50047</td>\n",
              "      <td>Freezing Rain or Drizzle</td>\n",
              "      <td>Cloudy</td>\n",
              "      <td>False</td>\n",
              "    </tr>\n",
              "    <tr>\n",
              "      <th>6913</th>\n",
              "      <td>80067</td>\n",
              "      <td>Blowing Snow</td>\n",
              "      <td>Severe Crosswinds</td>\n",
              "      <td>False</td>\n",
              "    </tr>\n",
              "    <tr>\n",
              "      <th>13217</th>\n",
              "      <td>160044</td>\n",
              "      <td>Blowing Snow</td>\n",
              "      <td>Cloudy</td>\n",
              "      <td>False</td>\n",
              "    </tr>\n",
              "    <tr>\n",
              "      <th>15494</th>\n",
              "      <td>190001</td>\n",
              "      <td>Snow</td>\n",
              "      <td>Sleet or Hail</td>\n",
              "      <td>False</td>\n",
              "    </tr>\n",
              "    <tr>\n",
              "      <th>15507</th>\n",
              "      <td>190014</td>\n",
              "      <td>Freezing Rain or Drizzle</td>\n",
              "      <td>Cloudy</td>\n",
              "      <td>False</td>\n",
              "    </tr>\n",
              "    <tr>\n",
              "      <th>15746</th>\n",
              "      <td>190256</td>\n",
              "      <td>Freezing Rain or Drizzle</td>\n",
              "      <td>Severe Crosswinds</td>\n",
              "      <td>False</td>\n",
              "    </tr>\n",
              "    <tr>\n",
              "      <th>18501</th>\n",
              "      <td>250022</td>\n",
              "      <td>Sleet or Hail</td>\n",
              "      <td>Rain</td>\n",
              "      <td>False</td>\n",
              "    </tr>\n",
              "    <tr>\n",
              "      <th>18814</th>\n",
              "      <td>250344</td>\n",
              "      <td>Snow</td>\n",
              "      <td>Rain</td>\n",
              "      <td>False</td>\n",
              "    </tr>\n",
              "    <tr>\n",
              "      <th>19985</th>\n",
              "      <td>270038</td>\n",
              "      <td>Blowing Snow</td>\n",
              "      <td>Cloudy</td>\n",
              "      <td>False</td>\n",
              "    </tr>\n",
              "    <tr>\n",
              "      <th>20485</th>\n",
              "      <td>280088</td>\n",
              "      <td>Sleet or Hail</td>\n",
              "      <td>Rain</td>\n",
              "      <td>False</td>\n",
              "    </tr>\n",
              "    <tr>\n",
              "      <th>21114</th>\n",
              "      <td>290021</td>\n",
              "      <td>Snow</td>\n",
              "      <td>Rain</td>\n",
              "      <td>False</td>\n",
              "    </tr>\n",
              "    <tr>\n",
              "      <th>21293</th>\n",
              "      <td>290205</td>\n",
              "      <td>Snow</td>\n",
              "      <td>Rain</td>\n",
              "      <td>False</td>\n",
              "    </tr>\n",
              "    <tr>\n",
              "      <th>21357</th>\n",
              "      <td>290270</td>\n",
              "      <td>Snow</td>\n",
              "      <td>Rain</td>\n",
              "      <td>False</td>\n",
              "    </tr>\n",
              "    <tr>\n",
              "      <th>22260</th>\n",
              "      <td>310014</td>\n",
              "      <td>Blowing Snow</td>\n",
              "      <td>Cloudy</td>\n",
              "      <td>False</td>\n",
              "    </tr>\n",
              "    <tr>\n",
              "      <th>22824</th>\n",
              "      <td>330026</td>\n",
              "      <td>Snow</td>\n",
              "      <td>Rain</td>\n",
              "      <td>False</td>\n",
              "    </tr>\n",
              "    <tr>\n",
              "      <th>26672</th>\n",
              "      <td>380016</td>\n",
              "      <td>Sleet or Hail</td>\n",
              "      <td>Rain</td>\n",
              "      <td>False</td>\n",
              "    </tr>\n",
              "    <tr>\n",
              "      <th>29251</th>\n",
              "      <td>420035</td>\n",
              "      <td>Snow</td>\n",
              "      <td>Rain</td>\n",
              "      <td>False</td>\n",
              "    </tr>\n",
              "    <tr>\n",
              "      <th>31552</th>\n",
              "      <td>460010</td>\n",
              "      <td>Snow</td>\n",
              "      <td>Blowing Snow</td>\n",
              "      <td>False</td>\n",
              "    </tr>\n",
              "    <tr>\n",
              "      <th>31788</th>\n",
              "      <td>470120</td>\n",
              "      <td>Blowing Snow</td>\n",
              "      <td>Cloudy</td>\n",
              "      <td>False</td>\n",
              "    </tr>\n",
              "    <tr>\n",
              "      <th>31812</th>\n",
              "      <td>470144</td>\n",
              "      <td>Freezing Rain or Drizzle</td>\n",
              "      <td>Cloudy</td>\n",
              "      <td>False</td>\n",
              "    </tr>\n",
              "    <tr>\n",
              "      <th>33356</th>\n",
              "      <td>480467</td>\n",
              "      <td>Freezing Rain or Drizzle</td>\n",
              "      <td>Cloudy</td>\n",
              "      <td>False</td>\n",
              "    </tr>\n",
              "    <tr>\n",
              "      <th>39115</th>\n",
              "      <td>550006</td>\n",
              "      <td>Snow</td>\n",
              "      <td>Rain</td>\n",
              "      <td>False</td>\n",
              "    </tr>\n",
              "    <tr>\n",
              "      <th>39168</th>\n",
              "      <td>550062</td>\n",
              "      <td>Freezing Rain or Drizzle</td>\n",
              "      <td>Cloudy</td>\n",
              "      <td>False</td>\n",
              "    </tr>\n",
              "    <tr>\n",
              "      <th>39565</th>\n",
              "      <td>550476</td>\n",
              "      <td>Blowing Snow</td>\n",
              "      <td>Cloudy</td>\n",
              "      <td>False</td>\n",
              "    </tr>\n",
              "  </tbody>\n",
              "</table>\n",
              "</div>\n",
              "    <div class=\"colab-df-buttons\">\n",
              "\n",
              "  <div class=\"colab-df-container\">\n",
              "    <button class=\"colab-df-convert\" onclick=\"convertToInteractive('df-477646d4-d69f-496f-ae4a-0764a57cd49c')\"\n",
              "            title=\"Convert this dataframe to an interactive table.\"\n",
              "            style=\"display:none;\">\n",
              "\n",
              "  <svg xmlns=\"http://www.w3.org/2000/svg\" height=\"24px\" viewBox=\"0 -960 960 960\">\n",
              "    <path d=\"M120-120v-720h720v720H120Zm60-500h600v-160H180v160Zm220 220h160v-160H400v160Zm0 220h160v-160H400v160ZM180-400h160v-160H180v160Zm440 0h160v-160H620v160ZM180-180h160v-160H180v160Zm440 0h160v-160H620v160Z\"/>\n",
              "  </svg>\n",
              "    </button>\n",
              "\n",
              "  <style>\n",
              "    .colab-df-container {\n",
              "      display:flex;\n",
              "      gap: 12px;\n",
              "    }\n",
              "\n",
              "    .colab-df-convert {\n",
              "      background-color: #E8F0FE;\n",
              "      border: none;\n",
              "      border-radius: 50%;\n",
              "      cursor: pointer;\n",
              "      display: none;\n",
              "      fill: #1967D2;\n",
              "      height: 32px;\n",
              "      padding: 0 0 0 0;\n",
              "      width: 32px;\n",
              "    }\n",
              "\n",
              "    .colab-df-convert:hover {\n",
              "      background-color: #E2EBFA;\n",
              "      box-shadow: 0px 1px 2px rgba(60, 64, 67, 0.3), 0px 1px 3px 1px rgba(60, 64, 67, 0.15);\n",
              "      fill: #174EA6;\n",
              "    }\n",
              "\n",
              "    .colab-df-buttons div {\n",
              "      margin-bottom: 4px;\n",
              "    }\n",
              "\n",
              "    [theme=dark] .colab-df-convert {\n",
              "      background-color: #3B4455;\n",
              "      fill: #D2E3FC;\n",
              "    }\n",
              "\n",
              "    [theme=dark] .colab-df-convert:hover {\n",
              "      background-color: #434B5C;\n",
              "      box-shadow: 0px 1px 3px 1px rgba(0, 0, 0, 0.15);\n",
              "      filter: drop-shadow(0px 1px 2px rgba(0, 0, 0, 0.3));\n",
              "      fill: #FFFFFF;\n",
              "    }\n",
              "  </style>\n",
              "\n",
              "    <script>\n",
              "      const buttonEl =\n",
              "        document.querySelector('#df-477646d4-d69f-496f-ae4a-0764a57cd49c button.colab-df-convert');\n",
              "      buttonEl.style.display =\n",
              "        google.colab.kernel.accessAllowed ? 'block' : 'none';\n",
              "\n",
              "      async function convertToInteractive(key) {\n",
              "        const element = document.querySelector('#df-477646d4-d69f-496f-ae4a-0764a57cd49c');\n",
              "        const dataTable =\n",
              "          await google.colab.kernel.invokeFunction('convertToInteractive',\n",
              "                                                    [key], {});\n",
              "        if (!dataTable) return;\n",
              "\n",
              "        const docLinkHtml = 'Like what you see? Visit the ' +\n",
              "          '<a target=\"_blank\" href=https://colab.research.google.com/notebooks/data_table.ipynb>data table notebook</a>'\n",
              "          + ' to learn more about interactive tables.';\n",
              "        element.innerHTML = '';\n",
              "        dataTable['output_type'] = 'display_data';\n",
              "        await google.colab.output.renderOutput(dataTable, element);\n",
              "        const docLink = document.createElement('div');\n",
              "        docLink.innerHTML = docLinkHtml;\n",
              "        element.appendChild(docLink);\n",
              "      }\n",
              "    </script>\n",
              "  </div>\n",
              "\n",
              "\n",
              "<div id=\"df-8491679f-01e4-4b63-9ddb-400bec58a3f0\">\n",
              "  <button class=\"colab-df-quickchart\" onclick=\"quickchart('df-8491679f-01e4-4b63-9ddb-400bec58a3f0')\"\n",
              "            title=\"Suggest charts\"\n",
              "            style=\"display:none;\">\n",
              "\n",
              "<svg xmlns=\"http://www.w3.org/2000/svg\" height=\"24px\"viewBox=\"0 0 24 24\"\n",
              "     width=\"24px\">\n",
              "    <g>\n",
              "        <path d=\"M19 3H5c-1.1 0-2 .9-2 2v14c0 1.1.9 2 2 2h14c1.1 0 2-.9 2-2V5c0-1.1-.9-2-2-2zM9 17H7v-7h2v7zm4 0h-2V7h2v10zm4 0h-2v-4h2v4z\"/>\n",
              "    </g>\n",
              "</svg>\n",
              "  </button>\n",
              "\n",
              "<style>\n",
              "  .colab-df-quickchart {\n",
              "      --bg-color: #E8F0FE;\n",
              "      --fill-color: #1967D2;\n",
              "      --hover-bg-color: #E2EBFA;\n",
              "      --hover-fill-color: #174EA6;\n",
              "      --disabled-fill-color: #AAA;\n",
              "      --disabled-bg-color: #DDD;\n",
              "  }\n",
              "\n",
              "  [theme=dark] .colab-df-quickchart {\n",
              "      --bg-color: #3B4455;\n",
              "      --fill-color: #D2E3FC;\n",
              "      --hover-bg-color: #434B5C;\n",
              "      --hover-fill-color: #FFFFFF;\n",
              "      --disabled-bg-color: #3B4455;\n",
              "      --disabled-fill-color: #666;\n",
              "  }\n",
              "\n",
              "  .colab-df-quickchart {\n",
              "    background-color: var(--bg-color);\n",
              "    border: none;\n",
              "    border-radius: 50%;\n",
              "    cursor: pointer;\n",
              "    display: none;\n",
              "    fill: var(--fill-color);\n",
              "    height: 32px;\n",
              "    padding: 0;\n",
              "    width: 32px;\n",
              "  }\n",
              "\n",
              "  .colab-df-quickchart:hover {\n",
              "    background-color: var(--hover-bg-color);\n",
              "    box-shadow: 0 1px 2px rgba(60, 64, 67, 0.3), 0 1px 3px 1px rgba(60, 64, 67, 0.15);\n",
              "    fill: var(--button-hover-fill-color);\n",
              "  }\n",
              "\n",
              "  .colab-df-quickchart-complete:disabled,\n",
              "  .colab-df-quickchart-complete:disabled:hover {\n",
              "    background-color: var(--disabled-bg-color);\n",
              "    fill: var(--disabled-fill-color);\n",
              "    box-shadow: none;\n",
              "  }\n",
              "\n",
              "  .colab-df-spinner {\n",
              "    border: 2px solid var(--fill-color);\n",
              "    border-color: transparent;\n",
              "    border-bottom-color: var(--fill-color);\n",
              "    animation:\n",
              "      spin 1s steps(1) infinite;\n",
              "  }\n",
              "\n",
              "  @keyframes spin {\n",
              "    0% {\n",
              "      border-color: transparent;\n",
              "      border-bottom-color: var(--fill-color);\n",
              "      border-left-color: var(--fill-color);\n",
              "    }\n",
              "    20% {\n",
              "      border-color: transparent;\n",
              "      border-left-color: var(--fill-color);\n",
              "      border-top-color: var(--fill-color);\n",
              "    }\n",
              "    30% {\n",
              "      border-color: transparent;\n",
              "      border-left-color: var(--fill-color);\n",
              "      border-top-color: var(--fill-color);\n",
              "      border-right-color: var(--fill-color);\n",
              "    }\n",
              "    40% {\n",
              "      border-color: transparent;\n",
              "      border-right-color: var(--fill-color);\n",
              "      border-top-color: var(--fill-color);\n",
              "    }\n",
              "    60% {\n",
              "      border-color: transparent;\n",
              "      border-right-color: var(--fill-color);\n",
              "    }\n",
              "    80% {\n",
              "      border-color: transparent;\n",
              "      border-right-color: var(--fill-color);\n",
              "      border-bottom-color: var(--fill-color);\n",
              "    }\n",
              "    90% {\n",
              "      border-color: transparent;\n",
              "      border-bottom-color: var(--fill-color);\n",
              "    }\n",
              "  }\n",
              "</style>\n",
              "\n",
              "  <script>\n",
              "    async function quickchart(key) {\n",
              "      const quickchartButtonEl =\n",
              "        document.querySelector('#' + key + ' button');\n",
              "      quickchartButtonEl.disabled = true;  // To prevent multiple clicks.\n",
              "      quickchartButtonEl.classList.add('colab-df-spinner');\n",
              "      try {\n",
              "        const charts = await google.colab.kernel.invokeFunction(\n",
              "            'suggestCharts', [key], {});\n",
              "      } catch (error) {\n",
              "        console.error('Error during call to suggestCharts:', error);\n",
              "      }\n",
              "      quickchartButtonEl.classList.remove('colab-df-spinner');\n",
              "      quickchartButtonEl.classList.add('colab-df-quickchart-complete');\n",
              "    }\n",
              "    (() => {\n",
              "      let quickchartButtonEl =\n",
              "        document.querySelector('#df-8491679f-01e4-4b63-9ddb-400bec58a3f0 button');\n",
              "      quickchartButtonEl.style.display =\n",
              "        google.colab.kernel.accessAllowed ? 'block' : 'none';\n",
              "    })();\n",
              "  </script>\n",
              "</div>\n",
              "\n",
              "    </div>\n",
              "  </div>\n"
            ],
            "application/vnd.google.colaboratory.intrinsic+json": {
              "type": "dataframe",
              "summary": "{\n  \"name\": \"df_false[['ST_CASE', 'WEATHERNAME_acc', 'WEATHERNAME_weather', 'WEATHERNAME_match']]\",\n  \"rows\": 25,\n  \"fields\": [\n    {\n      \"column\": \"ST_CASE\",\n      \"properties\": {\n        \"dtype\": \"number\",\n        \"std\": 154686,\n        \"min\": 20042,\n        \"max\": 550476,\n        \"num_unique_values\": 25,\n        \"samples\": [\n          250344,\n          380016,\n          20042\n        ],\n        \"semantic_type\": \"\",\n        \"description\": \"\"\n      }\n    },\n    {\n      \"column\": \"WEATHERNAME_acc\",\n      \"properties\": {\n        \"dtype\": \"category\",\n        \"num_unique_values\": 4,\n        \"samples\": [\n          \"Blowing Snow\",\n          \"Sleet or Hail\",\n          \"Freezing Rain or Drizzle\"\n        ],\n        \"semantic_type\": \"\",\n        \"description\": \"\"\n      }\n    },\n    {\n      \"column\": \"WEATHERNAME_weather\",\n      \"properties\": {\n        \"dtype\": \"category\",\n        \"num_unique_values\": 5,\n        \"samples\": [\n          \"Cloudy\",\n          \"Blowing Snow\",\n          \"Severe Crosswinds\"\n        ],\n        \"semantic_type\": \"\",\n        \"description\": \"\"\n      }\n    },\n    {\n      \"column\": \"WEATHERNAME_match\",\n      \"properties\": {\n        \"dtype\": \"boolean\",\n        \"num_unique_values\": 1,\n        \"samples\": [\n          false\n        ],\n        \"semantic_type\": \"\",\n        \"description\": \"\"\n      }\n    }\n  ]\n}"
            }
          },
          "metadata": {},
          "execution_count": 35
        }
      ]
    }
  ]
}